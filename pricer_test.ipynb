{
 "cells": [
  {
   "cell_type": "code",
   "execution_count": 1,
   "metadata": {},
   "outputs": [],
   "source": [
    "from option_pricers.black import black76_torch\n",
    "from option_pricers.kirk76 import kirk76_torch\n",
    "from option_pricers.bachelier import bachelier_torch\n",
    "import torch"
   ]
  },
  {
   "cell_type": "code",
   "execution_count": 16,
   "metadata": {},
   "outputs": [],
   "source": [
    "\n",
    "\n",
    "option = {\n",
    "    'S_0': 488.25,\n",
    "    'strike': -15.,\n",
    "    'time_to_expiry': 90/365,\n",
    "    'implied_vol': 0.232,\n",
    "    'dividend': 0.0,\n",
    "    'riskfree_rate': .2,\n",
    "    'option_sign':-1.,\n",
    "    'S_02': 514.5,\n",
    "    'implied2': 0.2175,\n",
    "    'coor': 0.9665\n",
    "}"
   ]
  },
  {
   "cell_type": "code",
   "execution_count": 17,
   "metadata": {},
   "outputs": [
    {
     "data": {
      "text/plain": [
       "tensor([12.4683], grad_fn=<MulBackward0>)"
      ]
     },
     "execution_count": 17,
     "metadata": {},
     "output_type": "execute_result"
    }
   ],
   "source": [
    "k76 = kirk76_torch(**option)\n",
    "k76.premium()\n"
   ]
  },
  {
   "cell_type": "code",
   "execution_count": 18,
   "metadata": {},
   "outputs": [],
   "source": [
    "k76.greeks"
   ]
  },
  {
   "cell_type": "code",
   "execution_count": 19,
   "metadata": {},
   "outputs": [],
   "source": [
    "option = {\n",
    "    'S_0': 488.25,\n",
    "    'strike': 400,\n",
    "    'time_to_expiry': 90/365,\n",
    "    'implied_vol': 0.232,\n",
    "    'dividend': 0.0,\n",
    "    'riskfree_rate': .035,\n",
    "    'option_sign':-1.,\n",
    "\n",
    "}"
   ]
  },
  {
   "cell_type": "code",
   "execution_count": 3,
   "metadata": {},
   "outputs": [
    {
     "data": {
      "text/plain": [
       "tensor([480.0000, 487.5000, 495.0000, 502.5000, 510.0000])"
      ]
     },
     "execution_count": 3,
     "metadata": {},
     "output_type": "execute_result"
    }
   ],
   "source": [
    "torch.linspace(480, 510, 5)"
   ]
  },
  {
   "cell_type": "code",
   "execution_count": 4,
   "metadata": {},
   "outputs": [],
   "source": [
    "bs = black76_torch(**option)"
   ]
  },
  {
   "cell_type": "code",
   "execution_count": 5,
   "metadata": {},
   "outputs": [
    {
     "ename": "RuntimeError",
     "evalue": "a Tensor with 5 elements cannot be converted to Scalar",
     "output_type": "error",
     "traceback": [
      "\u001b[0;31m---------------------------------------------------------------------------\u001b[0m",
      "\u001b[0;31mRuntimeError\u001b[0m                              Traceback (most recent call last)",
      "Cell \u001b[0;32mIn[5], line 1\u001b[0m\n\u001b[0;32m----> 1\u001b[0m bs\u001b[39m.\u001b[39;49mpremium()\n",
      "File \u001b[0;32m~/Desktop/mrisk/MRisk/option_pricers/black.py:28\u001b[0m, in \u001b[0;36mblack76_torch.premium\u001b[0;34m(self)\u001b[0m\n\u001b[1;32m     26\u001b[0m \u001b[39melse\u001b[39;00m:\n\u001b[1;32m     27\u001b[0m     \u001b[39mself\u001b[39m\u001b[39m.\u001b[39mnpv_pytorch \u001b[39m=\u001b[39m \u001b[39mself\u001b[39m\u001b[39m.\u001b[39mert \u001b[39m*\u001b[39m ( \u001b[39mself\u001b[39m\u001b[39m.\u001b[39mK \u001b[39m*\u001b[39m Phi(\u001b[39m-\u001b[39md2) \u001b[39m-\u001b[39m \u001b[39mself\u001b[39m\u001b[39m.\u001b[39mS_0 \u001b[39m*\u001b[39m Phi(\u001b[39m-\u001b[39md1) )\n\u001b[0;32m---> 28\u001b[0m \u001b[39mreturn\u001b[39;00m \u001b[39mself\u001b[39;49m\u001b[39m.\u001b[39;49mnpv_pytorch\u001b[39m.\u001b[39;49mitem()\n",
      "\u001b[0;31mRuntimeError\u001b[0m: a Tensor with 5 elements cannot be converted to Scalar"
     ]
    }
   ],
   "source": [
    "bs.premium()"
   ]
  },
  {
   "cell_type": "code",
   "execution_count": 59,
   "metadata": {},
   "outputs": [
    {
     "data": {
      "text/plain": [
       "{'underlying': 488.25,\n",
       " 'strike': 485.0,\n",
       " 'premium': 19.601482391357422,\n",
       " 'delta': -0.4465615153312683,\n",
       " 'gamma': 0.007274709641933441,\n",
       " 'rho': 0.40582120418548584,\n",
       " 'vega': -0.05376381427049637,\n",
       " 'theta': -0.009663221426308155,\n",
       " 'strike_greek': -0.007323457393795252}"
      ]
     },
     "execution_count": 59,
     "metadata": {},
     "output_type": "execute_result"
    }
   ],
   "source": [
    "bs.premium()\n",
    "bs.derivative"
   ]
  },
  {
   "cell_type": "code",
   "execution_count": 53,
   "metadata": {},
   "outputs": [
    {
     "data": {
      "text/plain": [
       "0.2972068786621094"
      ]
     },
     "execution_count": 53,
     "metadata": {},
     "output_type": "execute_result"
    }
   ],
   "source": [
    "20.630599975585938 - 20.333393096923828"
   ]
  },
  {
   "cell_type": "code",
   "execution_count": null,
   "metadata": {},
   "outputs": [],
   "source": [
    "{'underlying': 488.25,\n",
    " 'strike': -15.0,\n",
    " 'premium': 13.066343307495117,\n",
    " 'delta': -0.7731530666351318,\n",
    " 'gamma': 0.02071956731379032,\n",
    " 'rho': 0.1906406581401825,\n",
    " 'vega': 1.024949073791504,\n",
    " 'theta': 0.4840008616447449,\n",
    " 'strike_greek': -0.020247073844075203}"
   ]
  },
  {
   "cell_type": "code",
   "execution_count": 123,
   "metadata": {},
   "outputs": [
    {
     "data": {
      "text/plain": [
       "tensor([-0.1080], grad_fn=<MulBackward0>)"
      ]
     },
     "execution_count": 123,
     "metadata": {},
     "output_type": "execute_result"
    }
   ],
   "source": [
    "k76.premium()"
   ]
  },
  {
   "cell_type": "code",
   "execution_count": 124,
   "metadata": {},
   "outputs": [
    {
     "data": {
      "text/plain": [
       "tensor([4.0563], grad_fn=<MulBackward0>)"
      ]
     },
     "execution_count": 124,
     "metadata": {},
     "output_type": "execute_result"
    }
   ],
   "source": []
  },
  {
   "cell_type": "code",
   "execution_count": 83,
   "metadata": {},
   "outputs": [
    {
     "data": {
      "text/plain": [
       "{'underlying': 0.9974463582038879,\n",
       " 'strike': 1.0,\n",
       " 'premium': 0.005409257486462593,\n",
       " 'delta': -0.35899218916893005,\n",
       " 'gamma': 18.338478088378906,\n",
       " 'rho': 11.144805908203125,\n",
       " 'vega': -6.245401382446289,\n",
       " 'theta': -0.6727756857872009,\n",
       " 'strike_greek': -18.29164695739746}"
      ]
     },
     "execution_count": 83,
     "metadata": {},
     "output_type": "execute_result"
    }
   ],
   "source": [
    "k76.bs76.derivative"
   ]
  },
  {
   "cell_type": "code",
   "execution_count": 84,
   "metadata": {},
   "outputs": [
    {
     "ename": "TypeError",
     "evalue": "black76_torch.__init__() got an unexpected keyword argument 'S_02'",
     "output_type": "error",
     "traceback": [
      "\u001b[0;31m---------------------------------------------------------------------------\u001b[0m",
      "\u001b[0;31mTypeError\u001b[0m                                 Traceback (most recent call last)",
      "Cell \u001b[0;32mIn[84], line 1\u001b[0m\n\u001b[0;32m----> 1\u001b[0m s76 \u001b[39m=\u001b[39m black76_torch(\u001b[39m*\u001b[39;49m\u001b[39m*\u001b[39;49moption)\n",
      "\u001b[0;31mTypeError\u001b[0m: black76_torch.__init__() got an unexpected keyword argument 'S_02'"
     ]
    }
   ],
   "source": [
    "s76 = black76_torch(**option)"
   ]
  },
  {
   "cell_type": "code",
   "execution_count": 4,
   "metadata": {},
   "outputs": [
    {
     "data": {
      "text/plain": [
       "7.344722747802734"
      ]
     },
     "execution_count": 4,
     "metadata": {},
     "output_type": "execute_result"
    }
   ],
   "source": [
    "s76.premium()"
   ]
  },
  {
   "cell_type": "code",
   "execution_count": 6,
   "metadata": {},
   "outputs": [
    {
     "data": {
      "text/plain": [
       "{'underlying': 100.0,\n",
       " 'strike': 100.0,\n",
       " 'premium': 7.344722747802734,\n",
       " 'delta': 0.5142683386802673,\n",
       " 'gamma': 0.019448297098279,\n",
       " 'rho': -0.44564077258110046,\n",
       " 'vega': 0.16579413414001465,\n",
       " 'theta': -0.009134011343121529,\n",
       " 'strike_greek': -0.01944829523563385}"
      ]
     },
     "execution_count": 6,
     "metadata": {},
     "output_type": "execute_result"
    }
   ],
   "source": [
    "s76.derivative"
   ]
  },
  {
   "cell_type": "code",
   "execution_count": 2,
   "metadata": {},
   "outputs": [
    {
     "data": {
      "text/plain": [
       "array([ 90.        ,  90.2020202 ,  90.4040404 ,  90.60606061,\n",
       "        90.80808081,  91.01010101,  91.21212121,  91.41414141,\n",
       "        91.61616162,  91.81818182,  92.02020202,  92.22222222,\n",
       "        92.42424242,  92.62626263,  92.82828283,  93.03030303,\n",
       "        93.23232323,  93.43434343,  93.63636364,  93.83838384,\n",
       "        94.04040404,  94.24242424,  94.44444444,  94.64646465,\n",
       "        94.84848485,  95.05050505,  95.25252525,  95.45454545,\n",
       "        95.65656566,  95.85858586,  96.06060606,  96.26262626,\n",
       "        96.46464646,  96.66666667,  96.86868687,  97.07070707,\n",
       "        97.27272727,  97.47474747,  97.67676768,  97.87878788,\n",
       "        98.08080808,  98.28282828,  98.48484848,  98.68686869,\n",
       "        98.88888889,  99.09090909,  99.29292929,  99.49494949,\n",
       "        99.6969697 ,  99.8989899 , 100.1010101 , 100.3030303 ,\n",
       "       100.50505051, 100.70707071, 100.90909091, 101.11111111,\n",
       "       101.31313131, 101.51515152, 101.71717172, 101.91919192,\n",
       "       102.12121212, 102.32323232, 102.52525253, 102.72727273,\n",
       "       102.92929293, 103.13131313, 103.33333333, 103.53535354,\n",
       "       103.73737374, 103.93939394, 104.14141414, 104.34343434,\n",
       "       104.54545455, 104.74747475, 104.94949495, 105.15151515,\n",
       "       105.35353535, 105.55555556, 105.75757576, 105.95959596,\n",
       "       106.16161616, 106.36363636, 106.56565657, 106.76767677,\n",
       "       106.96969697, 107.17171717, 107.37373737, 107.57575758,\n",
       "       107.77777778, 107.97979798, 108.18181818, 108.38383838,\n",
       "       108.58585859, 108.78787879, 108.98989899, 109.19191919,\n",
       "       109.39393939, 109.5959596 , 109.7979798 , 110.        ])"
      ]
     },
     "execution_count": 2,
     "metadata": {},
     "output_type": "execute_result"
    }
   ],
   "source": [
    "import numpy as np\n",
    "\n",
    "np.linspace(90, 110, 100)"
   ]
  },
  {
   "cell_type": "code",
   "execution_count": 26,
   "metadata": {},
   "outputs": [],
   "source": [
    "import numpy as np\n",
    "import matplotlib.pyplot as plt\n",
    "from scipy.stats import norm\n",
    "from sympy import init_printing\n",
    "init_printing()\n",
    "def call_price(sigma, S, K, r, t):\n",
    "    d1 = np.multiply( 1. / sigma * np.divide(1., np.sqrt(t)),\n",
    "        np.log(S/K) + (r + sigma**2 / 2.) * t  )\n",
    "    d2 = d1 - sigma * np.sqrt(t)\n",
    "    C = np.multiply(S, norm.cdf(d1)) - \\\n",
    "        np.multiply(norm.cdf(d2) * K, np.exp(-r * t))\n",
    "    return C, d1, d2\n",
    "def put_price(sigma, S, K, r, t):\n",
    "    d1 = np.multiply( 1. / sigma * np.divide(1., np.sqrt(t)),\n",
    "        np.log(S/K) + (r + sigma**2 / 2.) * t  )\n",
    "    d2 = d1 - sigma * np.sqrt(t)\n",
    "    P = -np.multiply(S, norm.cdf(-d1)) + \\\n",
    "        np.multiply(norm.cdf(-d2) * K, np.exp(-r * t))\n",
    "    return P\n",
    "def bachelier(sigma, S, K, r, t):\n",
    "    d = (S - K) / (sigma * np.sqrt(t))\n",
    "    C = np.exp(-r * t) * (S - K) * norm.cdf(d) + \\\n",
    "        np.exp(-r * t) * sigma * np.sqrt(t) * norm.pdf(d)\n",
    "    return C\n",
    "t = 1 / 12    #  Time to expiration\n",
    "sigma = 0.20    #  Black Scholes implied volatility\n",
    "K = 105         #  Strike Price\n",
    "r = 0.01        #  Risk-free rate\n",
    "S = np.linspace(90, 110, 5)    # Let our stock price range between $90 and $110\n",
    "#  Calculate Black Schole call, put price\n",
    "C_BlackSholes, d1, d2 = call_price(sigma, S, K, r, t)\n",
    "P_BlackSholes = put_price(sigma, S, K, r, t)\n",
    "C_bs, d1, d2 = call_price(sigma, S, K, r, t)\n",
    "C_ba = bachelier(sigma * S, S, K, r, t)"
   ]
  },
  {
   "cell_type": "code",
   "execution_count": 27,
   "metadata": {},
   "outputs": [
    {
     "data": {
      "text/plain": [
       "(array([0.00686997, 0.10057787, 0.67310661, 2.46109954, 5.8066834 ]),\n",
       " array([2.94336203e-03, 7.37783432e-02, 6.16325104e-01, 2.41644450e+00,\n",
       "        5.77584522e+00]))"
      ]
     },
     "execution_count": 27,
     "metadata": {},
     "output_type": "execute_result"
    }
   ],
   "source": [
    "C_bs, C_ba"
   ]
  },
  {
   "cell_type": "code",
   "execution_count": 5,
   "metadata": {},
   "outputs": [],
   "source": [
    "option = {\n",
    "    'S_0': 100.,\n",
    "    'strike': 100.,\n",
    "    'time_to_expiry': 90/365,\n",
    "    'implied_vol': 0.232,\n",
    "    'dividend': 0.0,\n",
    "    'riskfree_rate': .036,\n",
    "    'option_sign':1.,\n",
    "\n",
    "}\n",
    "\n",
    "bb = bachelier_torch(**option)\n",
    "bs = black76_torch(**option)"
   ]
  },
  {
   "cell_type": "code",
   "execution_count": 6,
   "metadata": {},
   "outputs": [
    {
     "data": {
      "text/plain": [
       "(tensor([5.0310], grad_fn=<AddBackward0>), 4.336068153381348)"
      ]
     },
     "execution_count": 6,
     "metadata": {},
     "output_type": "execute_result"
    }
   ],
   "source": [
    "bb.premium(),bs.premium()"
   ]
  },
  {
   "cell_type": "code",
   "execution_count": 4,
   "metadata": {},
   "outputs": [
    {
     "data": {
      "text/plain": [
       "tensor([4.1473], grad_fn=<AddBackward0>)"
      ]
     },
     "execution_count": 4,
     "metadata": {},
     "output_type": "execute_result"
    }
   ],
   "source": [
    "bb.premium()"
   ]
  },
  {
   "cell_type": "code",
   "execution_count": 16,
   "metadata": {},
   "outputs": [
    {
     "data": {
      "text/plain": [
       "(tensor([20.0746], grad_fn=<AddBackward0>), 17.394975662231445)"
      ]
     },
     "execution_count": 16,
     "metadata": {},
     "output_type": "execute_result"
    }
   ],
   "source": [
    "bb.premium(), bs.premium()"
   ]
  },
  {
   "cell_type": "code",
   "execution_count": 17,
   "metadata": {},
   "outputs": [
    {
     "data": {
      "text/plain": [
       "({'underlying': 400.0,\n",
       "  'strike': 400.0,\n",
       "  'premium': 20.074554443359375,\n",
       "  'delta': 0.5754910707473755,\n",
       "  'gamma': 0.008522061631083488,\n",
       "  'rho': 0.8385549187660217,\n",
       "  'vega': 0.06934279203414917,\n",
       "  'theta': 0.15165013074874878,\n",
       "  'strike_greek': -0.008522060699760914},\n",
       " {'underlying': 400.0,\n",
       "  'strike': 400.0,\n",
       "  'premium': 17.394975662231445,\n",
       "  'delta': 0.521037757396698,\n",
       "  'gamma': 0.008938840590417385,\n",
       "  'rho': 0.11635807156562805,\n",
       "  'vega': 0.056642137467861176,\n",
       "  'theta': 0.008410647511482239,\n",
       "  'strike_greek': -0.00893883965909481})"
      ]
     },
     "execution_count": 17,
     "metadata": {},
     "output_type": "execute_result"
    }
   ],
   "source": [
    "bb.derivative, bs.derivative"
   ]
  },
  {
   "cell_type": "code",
   "execution_count": 12,
   "metadata": {},
   "outputs": [
    {
     "data": {
      "text/plain": [
       "tensor([20.2187], grad_fn=<AddBackward0>)"
      ]
     },
     "execution_count": 12,
     "metadata": {},
     "output_type": "execute_result"
    }
   ],
   "source": []
  },
  {
   "cell_type": "code",
   "execution_count": 13,
   "metadata": {},
   "outputs": [
    {
     "data": {
      "text/plain": [
       "{'underlying': 400.25,\n",
       " 'strike': 400.0,\n",
       " 'premium': 20.21869659423828,\n",
       " 'delta': 0.5320048332214355,\n",
       " 'gamma': 0.008661385625600815,\n",
       " 'rho': 0.8508574366569519,\n",
       " 'vega': -0.0003439246502239257,\n",
       " 'theta': 0.05601505562663078,\n",
       " 'strike_greek': -0.008586958050727844}"
      ]
     },
     "execution_count": 13,
     "metadata": {},
     "output_type": "execute_result"
    }
   ],
   "source": [
    "bb.derivative"
   ]
  },
  {
   "cell_type": "code",
   "execution_count": 7,
   "metadata": {},
   "outputs": [
    {
     "data": {
      "text/plain": [
       "tensor([488.2500], requires_grad=True)"
      ]
     },
     "execution_count": 7,
     "metadata": {},
     "output_type": "execute_result"
    }
   ],
   "source": [
    "def bachelier(sigma, S, K, r, t):\n",
    "    d = (S - K) / (sigma * np.sqrt(t))\n",
    "    C = np.exp(-r * t) * (S - K) * norm.cdf(d) + \\\n",
    "        np.exp(-r * t) * sigma * np.sqrt(t) * norm.pdf(d)\n",
    "    return C"
   ]
  },
  {
   "cell_type": "code",
   "execution_count": 34,
   "metadata": {},
   "outputs": [],
   "source": [
    "\n",
    "Phi = torch.distributions.Normal(0,1).cdf\n",
    "# pPhi = torch.distributions.prob()\n",
    "\n",
    "dP = (bb.S_0 * torch.exp(bb.r*bb.tte) - bb.K) / torch.sqrt(bb.sigma**2/(2 * bb.r) * (torch.exp(2*bb.r*bb.tte)-1) )\n",
    "\n"
   ]
  },
  {
   "cell_type": "code",
   "execution_count": 18,
   "metadata": {},
   "outputs": [],
   "source": [
    "import numpy as np "
   ]
  },
  {
   "cell_type": "code",
   "execution_count": 19,
   "metadata": {},
   "outputs": [
    {
     "ename": "RuntimeError",
     "evalue": "Can't call numpy() on Tensor that requires grad. Use tensor.detach().numpy() instead.",
     "output_type": "error",
     "traceback": [
      "\u001b[0;31m---------------------------------------------------------------------------\u001b[0m",
      "\u001b[0;31mRuntimeError\u001b[0m                              Traceback (most recent call last)",
      "Cell \u001b[0;32mIn[19], line 1\u001b[0m\n\u001b[0;32m----> 1\u001b[0m d \u001b[39m=\u001b[39m (bb\u001b[39m.\u001b[39mS_0  \u001b[39m-\u001b[39m bb\u001b[39m.\u001b[39mK) \u001b[39m/\u001b[39m (bb\u001b[39m.\u001b[39msigma \u001b[39m*\u001b[39m np\u001b[39m.\u001b[39;49msqrt(bb\u001b[39m.\u001b[39;49mtte))\n\u001b[1;32m      2\u001b[0m C \u001b[39m=\u001b[39m np\u001b[39m.\u001b[39mexp(\u001b[39m-\u001b[39mbb\u001b[39m.\u001b[39mr \u001b[39m*\u001b[39m bb\u001b[39m.\u001b[39mtte) \u001b[39m*\u001b[39m (bb\u001b[39m.\u001b[39mS_0 \u001b[39m-\u001b[39m bb\u001b[39m.\u001b[39mK) \u001b[39m*\u001b[39m norm\u001b[39m.\u001b[39mcdf(d) \u001b[39m+\u001b[39m \\\n\u001b[1;32m      3\u001b[0m     np\u001b[39m.\u001b[39mexp(\u001b[39m-\u001b[39mr \u001b[39m*\u001b[39m t) \u001b[39m*\u001b[39m sigma \u001b[39m*\u001b[39m np\u001b[39m.\u001b[39msqrt(t) \u001b[39m*\u001b[39m norm\u001b[39m.\u001b[39mpdf(d)\n",
      "File \u001b[0;32m~/opt/anaconda3/envs/mrisk/lib/python3.11/site-packages/torch/_tensor.py:970\u001b[0m, in \u001b[0;36mTensor.__array__\u001b[0;34m(self, dtype)\u001b[0m\n\u001b[1;32m    968\u001b[0m     \u001b[39mreturn\u001b[39;00m handle_torch_function(Tensor\u001b[39m.\u001b[39m__array__, (\u001b[39mself\u001b[39m,), \u001b[39mself\u001b[39m, dtype\u001b[39m=\u001b[39mdtype)\n\u001b[1;32m    969\u001b[0m \u001b[39mif\u001b[39;00m dtype \u001b[39mis\u001b[39;00m \u001b[39mNone\u001b[39;00m:\n\u001b[0;32m--> 970\u001b[0m     \u001b[39mreturn\u001b[39;00m \u001b[39mself\u001b[39;49m\u001b[39m.\u001b[39;49mnumpy()\n\u001b[1;32m    971\u001b[0m \u001b[39melse\u001b[39;00m:\n\u001b[1;32m    972\u001b[0m     \u001b[39mreturn\u001b[39;00m \u001b[39mself\u001b[39m\u001b[39m.\u001b[39mnumpy()\u001b[39m.\u001b[39mastype(dtype, copy\u001b[39m=\u001b[39m\u001b[39mFalse\u001b[39;00m)\n",
      "\u001b[0;31mRuntimeError\u001b[0m: Can't call numpy() on Tensor that requires grad. Use tensor.detach().numpy() instead."
     ]
    }
   ],
   "source": [
    "d = (bb.S_0  - bb.K) / (bb.sigma * np.sqrt(bb.tte))\n",
    "C = np.exp(-bb.r * bb.tte) * (bb.S_0 - bb.K) * norm.cdf(d) + \\\n",
    "    np.exp(-r * t) * sigma * np.sqrt(t) * norm.pdf(d)"
   ]
  },
  {
   "cell_type": "code",
   "execution_count": 15,
   "metadata": {},
   "outputs": [],
   "source": [
    "# torch.distributions.Distribution.log_prob(0, d)"
   ]
  },
  {
   "cell_type": "code",
   "execution_count": null,
   "metadata": {},
   "outputs": [],
   "source": [
    "torch.exp(-bb.r * bb.tte) * (bb.S_0 * torch.exp(bb.r * bb.tte) - bb.K) * Phi(d) + \\\n",
    "    torch.exp(-bb.r * bb.tte) * torch.sqrt(bb.sigma**2/(2*bb.r) * (torch.exp(2*bb.r*bb.tte)-1) ) * torch.distributions.Distribution.log_prob(d).exp()"
   ]
  },
  {
   "cell_type": "code",
   "execution_count": 9,
   "metadata": {},
   "outputs": [],
   "source": [
    "def bachelier(sigma, S, K, r, t):\n",
    "    d = (S * np.exp(r*t) - K) / np.sqrt(sigma**2/(2 * r) * (np.exp(2*r*t)-1) )\n",
    "   \n",
    "    C = np.exp(-r * t) * (S * np.exp(r * t) - K) * norm.cdf(d) + \\\n",
    "        np.exp(-r * t) * np.sqrt(sigma**2/(2*r) * (np.exp(2*r*t)-1) ) * norm.pdf(d)\n",
    "\n",
    "    return C"
   ]
  },
  {
   "cell_type": "code",
   "execution_count": 16,
   "metadata": {},
   "outputs": [],
   "source": [
    "S = 100\n",
    "K = 100\n",
    "t =  90/365\n",
    "sigma =  0.232 * S\n",
    "r = .035\n"
   ]
  },
  {
   "cell_type": "code",
   "execution_count": 17,
   "metadata": {},
   "outputs": [],
   "source": [
    "import numpy as np\n",
    "from scipy.stats import norm"
   ]
  },
  {
   "cell_type": "code",
   "execution_count": 22,
   "metadata": {},
   "outputs": [
    {
     "data": {
      "text/plain": [
       "(5.018648381529781, 4.159347956422195)"
      ]
     },
     "execution_count": 22,
     "metadata": {},
     "output_type": "execute_result"
    }
   ],
   "source": [
    "bachelier(sigma, S, K, r, t), bachelier(sigma, S, K, r, t) - S + np.exp(-r * t) * K "
   ]
  },
  {
   "cell_type": "code",
   "execution_count": 37,
   "metadata": {},
   "outputs": [],
   "source": [
    "option = {\n",
    "    'S_0': 100.,\n",
    "    'strike': 100.,\n",
    "    'time_to_expiry': 90/365,\n",
    "    'implied_vol': 0.232,\n",
    "    'dividend': 0.0,\n",
    "    'riskfree_rate': .00,\n",
    "    'option_sign':1.,\n",
    "\n",
    "}\n",
    "\n",
    "bb = bachelier_torch(**option)\n",
    "bs = black76_torch(**option)"
   ]
  },
  {
   "cell_type": "code",
   "execution_count": 38,
   "metadata": {},
   "outputs": [
    {
     "ename": "ValueError",
     "evalue": "Expected value argument (Tensor of shape (1,)) to be within the support (Real()) of the distribution Normal(loc: 0.0, scale: 1.0), but found invalid values:\ntensor([nan], grad_fn=<DivBackward0>)",
     "output_type": "error",
     "traceback": [
      "\u001b[0;31m---------------------------------------------------------------------------\u001b[0m",
      "\u001b[0;31mValueError\u001b[0m                                Traceback (most recent call last)",
      "Cell \u001b[0;32mIn[38], line 1\u001b[0m\n\u001b[0;32m----> 1\u001b[0m bb\u001b[39m.\u001b[39;49mpremium(),bs\u001b[39m.\u001b[39mpremium()\n",
      "File \u001b[0;32m~/Desktop/mrisk/MRisk/option_pricers/bachelier.py:21\u001b[0m, in \u001b[0;36mbachelier_torch.premium\u001b[0;34m(self)\u001b[0m\n\u001b[1;32m     17\u001b[0m bachelier_sigma \u001b[39m=\u001b[39m \u001b[39mself\u001b[39m\u001b[39m.\u001b[39msigma \u001b[39m*\u001b[39m \u001b[39mself\u001b[39m\u001b[39m.\u001b[39mS_0\n\u001b[1;32m     19\u001b[0m d \u001b[39m=\u001b[39m (\u001b[39mself\u001b[39m\u001b[39m.\u001b[39mS_0 \u001b[39m*\u001b[39m torch\u001b[39m.\u001b[39mexp(\u001b[39mself\u001b[39m\u001b[39m.\u001b[39mr\u001b[39m*\u001b[39m\u001b[39mself\u001b[39m\u001b[39m.\u001b[39mtte) \u001b[39m-\u001b[39m \u001b[39mself\u001b[39m\u001b[39m.\u001b[39mK) \u001b[39m/\u001b[39m torch\u001b[39m.\u001b[39msqrt(bachelier_sigma\u001b[39m*\u001b[39m\u001b[39m*\u001b[39m\u001b[39m2\u001b[39m\u001b[39m/\u001b[39m(\u001b[39m2\u001b[39m \u001b[39m*\u001b[39m \u001b[39mself\u001b[39m\u001b[39m.\u001b[39mr) \u001b[39m*\u001b[39m (torch\u001b[39m.\u001b[39mexp(\u001b[39m2\u001b[39m\u001b[39m*\u001b[39m\u001b[39mself\u001b[39m\u001b[39m.\u001b[39mr\u001b[39m*\u001b[39m\u001b[39mself\u001b[39m\u001b[39m.\u001b[39mtte)\u001b[39m-\u001b[39m\u001b[39m1\u001b[39m) )\n\u001b[0;32m---> 21\u001b[0m C \u001b[39m=\u001b[39m torch\u001b[39m.\u001b[39mexp(\u001b[39m-\u001b[39m\u001b[39mself\u001b[39m\u001b[39m.\u001b[39mr \u001b[39m*\u001b[39m \u001b[39mself\u001b[39m\u001b[39m.\u001b[39mtte) \u001b[39m*\u001b[39m (\u001b[39mself\u001b[39m\u001b[39m.\u001b[39mS_0 \u001b[39m*\u001b[39m torch\u001b[39m.\u001b[39mexp(\u001b[39mself\u001b[39m\u001b[39m.\u001b[39mr \u001b[39m*\u001b[39m \u001b[39mself\u001b[39m\u001b[39m.\u001b[39mtte) \u001b[39m-\u001b[39m \u001b[39mself\u001b[39m\u001b[39m.\u001b[39mK) \u001b[39m*\u001b[39m Phi\u001b[39m.\u001b[39;49mcdf(d) \u001b[39m+\u001b[39m \\\n\u001b[1;32m     22\u001b[0m         torch\u001b[39m.\u001b[39mexp(\u001b[39m-\u001b[39m\u001b[39mself\u001b[39m\u001b[39m.\u001b[39mr \u001b[39m*\u001b[39m \u001b[39mself\u001b[39m\u001b[39m.\u001b[39mtte) \u001b[39m*\u001b[39m torch\u001b[39m.\u001b[39msqrt(bachelier_sigma\u001b[39m*\u001b[39m\u001b[39m*\u001b[39m\u001b[39m2\u001b[39m\u001b[39m/\u001b[39m(\u001b[39m2\u001b[39m\u001b[39m*\u001b[39m\u001b[39mself\u001b[39m\u001b[39m.\u001b[39mr) \u001b[39m*\u001b[39m (torch\u001b[39m.\u001b[39mexp(\u001b[39m2\u001b[39m\u001b[39m*\u001b[39m\u001b[39mself\u001b[39m\u001b[39m.\u001b[39mr\u001b[39m*\u001b[39m\u001b[39mself\u001b[39m\u001b[39m.\u001b[39mtte)\u001b[39m-\u001b[39m\u001b[39m1\u001b[39m) ) \u001b[39m*\u001b[39m torch\u001b[39m.\u001b[39mexp(Phi\u001b[39m.\u001b[39mlog_prob(d))\n\u001b[1;32m     24\u001b[0m \u001b[39mif\u001b[39;00m \u001b[39mself\u001b[39m\u001b[39m.\u001b[39moption_sign \u001b[39m==\u001b[39m \u001b[39m-\u001b[39m\u001b[39m1.\u001b[39m:\n\u001b[1;32m     25\u001b[0m     \u001b[39mself\u001b[39m\u001b[39m.\u001b[39mnpv_pytorch \u001b[39m=\u001b[39m C \u001b[39m-\u001b[39m \u001b[39mself\u001b[39m\u001b[39m.\u001b[39mS_0 \u001b[39m+\u001b[39m torch\u001b[39m.\u001b[39mexp(\u001b[39m-\u001b[39m\u001b[39mself\u001b[39m\u001b[39m.\u001b[39mr \u001b[39m*\u001b[39m \u001b[39mself\u001b[39m\u001b[39m.\u001b[39mtte) \u001b[39m*\u001b[39m \u001b[39mself\u001b[39m\u001b[39m.\u001b[39mK \n",
      "File \u001b[0;32m~/opt/anaconda3/envs/mrisk/lib/python3.11/site-packages/torch/distributions/normal.py:87\u001b[0m, in \u001b[0;36mNormal.cdf\u001b[0;34m(self, value)\u001b[0m\n\u001b[1;32m     85\u001b[0m \u001b[39mdef\u001b[39;00m \u001b[39mcdf\u001b[39m(\u001b[39mself\u001b[39m, value):\n\u001b[1;32m     86\u001b[0m     \u001b[39mif\u001b[39;00m \u001b[39mself\u001b[39m\u001b[39m.\u001b[39m_validate_args:\n\u001b[0;32m---> 87\u001b[0m         \u001b[39mself\u001b[39;49m\u001b[39m.\u001b[39;49m_validate_sample(value)\n\u001b[1;32m     88\u001b[0m     \u001b[39mreturn\u001b[39;00m \u001b[39m0.5\u001b[39m \u001b[39m*\u001b[39m (\u001b[39m1\u001b[39m \u001b[39m+\u001b[39m torch\u001b[39m.\u001b[39merf((value \u001b[39m-\u001b[39m \u001b[39mself\u001b[39m\u001b[39m.\u001b[39mloc) \u001b[39m*\u001b[39m \u001b[39mself\u001b[39m\u001b[39m.\u001b[39mscale\u001b[39m.\u001b[39mreciprocal() \u001b[39m/\u001b[39m math\u001b[39m.\u001b[39msqrt(\u001b[39m2\u001b[39m)))\n",
      "File \u001b[0;32m~/opt/anaconda3/envs/mrisk/lib/python3.11/site-packages/torch/distributions/distribution.py:300\u001b[0m, in \u001b[0;36mDistribution._validate_sample\u001b[0;34m(self, value)\u001b[0m\n\u001b[1;32m    298\u001b[0m valid \u001b[39m=\u001b[39m support\u001b[39m.\u001b[39mcheck(value)\n\u001b[1;32m    299\u001b[0m \u001b[39mif\u001b[39;00m \u001b[39mnot\u001b[39;00m valid\u001b[39m.\u001b[39mall():\n\u001b[0;32m--> 300\u001b[0m     \u001b[39mraise\u001b[39;00m \u001b[39mValueError\u001b[39;00m(\n\u001b[1;32m    301\u001b[0m         \u001b[39m\"\u001b[39m\u001b[39mExpected value argument \u001b[39m\u001b[39m\"\u001b[39m\n\u001b[1;32m    302\u001b[0m         \u001b[39mf\u001b[39m\u001b[39m\"\u001b[39m\u001b[39m(\u001b[39m\u001b[39m{\u001b[39;00m\u001b[39mtype\u001b[39m(value)\u001b[39m.\u001b[39m\u001b[39m__name__\u001b[39m\u001b[39m}\u001b[39;00m\u001b[39m of shape \u001b[39m\u001b[39m{\u001b[39;00m\u001b[39mtuple\u001b[39m(value\u001b[39m.\u001b[39mshape)\u001b[39m}\u001b[39;00m\u001b[39m) \u001b[39m\u001b[39m\"\u001b[39m\n\u001b[1;32m    303\u001b[0m         \u001b[39mf\u001b[39m\u001b[39m\"\u001b[39m\u001b[39mto be within the support (\u001b[39m\u001b[39m{\u001b[39;00m\u001b[39mrepr\u001b[39m(support)\u001b[39m}\u001b[39;00m\u001b[39m) \u001b[39m\u001b[39m\"\u001b[39m\n\u001b[1;32m    304\u001b[0m         \u001b[39mf\u001b[39m\u001b[39m\"\u001b[39m\u001b[39mof the distribution \u001b[39m\u001b[39m{\u001b[39;00m\u001b[39mrepr\u001b[39m(\u001b[39mself\u001b[39m)\u001b[39m}\u001b[39;00m\u001b[39m, \u001b[39m\u001b[39m\"\u001b[39m\n\u001b[1;32m    305\u001b[0m         \u001b[39mf\u001b[39m\u001b[39m\"\u001b[39m\u001b[39mbut found invalid values:\u001b[39m\u001b[39m\\n\u001b[39;00m\u001b[39m{\u001b[39;00mvalue\u001b[39m}\u001b[39;00m\u001b[39m\"\u001b[39m\n\u001b[1;32m    306\u001b[0m     )\n",
      "\u001b[0;31mValueError\u001b[0m: Expected value argument (Tensor of shape (1,)) to be within the support (Real()) of the distribution Normal(loc: 0.0, scale: 1.0), but found invalid values:\ntensor([nan], grad_fn=<DivBackward0>)"
     ]
    }
   ],
   "source": [
    "bb.premium(),bs.premium()"
   ]
  },
  {
   "cell_type": "code",
   "execution_count": null,
   "metadata": {},
   "outputs": [],
   "source": []
  },
  {
   "cell_type": "code",
   "execution_count": null,
   "metadata": {},
   "outputs": [],
   "source": []
  },
  {
   "cell_type": "code",
   "execution_count": 8,
   "metadata": {},
   "outputs": [
    {
     "ename": "NameError",
     "evalue": "name 'np' is not defined",
     "output_type": "error",
     "traceback": [
      "\u001b[0;31m---------------------------------------------------------------------------\u001b[0m",
      "\u001b[0;31mNameError\u001b[0m                                 Traceback (most recent call last)",
      "Cell \u001b[0;32mIn[8], line 1\u001b[0m\n\u001b[0;32m----> 1\u001b[0m d \u001b[39m=\u001b[39m (S \u001b[39m*\u001b[39m np\u001b[39m.\u001b[39mexp(r\u001b[39m*\u001b[39mt) \u001b[39m-\u001b[39m K) \u001b[39m/\u001b[39m np\u001b[39m.\u001b[39msqrt(sigma\u001b[39m*\u001b[39m\u001b[39m*\u001b[39m\u001b[39m2\u001b[39m\u001b[39m/\u001b[39m(\u001b[39m2\u001b[39m \u001b[39m*\u001b[39m r) \u001b[39m*\u001b[39m (np\u001b[39m.\u001b[39mexp(\u001b[39m2\u001b[39m\u001b[39m*\u001b[39mr\u001b[39m*\u001b[39mt)\u001b[39m-\u001b[39m\u001b[39m1\u001b[39m) )\n\u001b[1;32m      2\u001b[0m np\u001b[39m.\u001b[39mexp(\u001b[39m-\u001b[39mr \u001b[39m*\u001b[39m t) \u001b[39m*\u001b[39m (S \u001b[39m*\u001b[39m np\u001b[39m.\u001b[39mexp(r \u001b[39m*\u001b[39m t) \u001b[39m-\u001b[39m K) \u001b[39m*\u001b[39m norm\u001b[39m.\u001b[39mcdf(d) \u001b[39m+\u001b[39m \\\n\u001b[1;32m      3\u001b[0m         np\u001b[39m.\u001b[39mexp(\u001b[39m-\u001b[39mr \u001b[39m*\u001b[39m t) \u001b[39m*\u001b[39m np\u001b[39m.\u001b[39msqrt(sigma\u001b[39m*\u001b[39m\u001b[39m*\u001b[39m\u001b[39m2\u001b[39m\u001b[39m/\u001b[39m(\u001b[39m2\u001b[39m\u001b[39m*\u001b[39mr) \u001b[39m*\u001b[39m (np\u001b[39m.\u001b[39mexp(\u001b[39m2\u001b[39m\u001b[39m*\u001b[39mr\u001b[39m*\u001b[39mt)\u001b[39m-\u001b[39m\u001b[39m1\u001b[39m) ) \u001b[39m*\u001b[39m norm\u001b[39m.\u001b[39mpdf(d)\n",
      "\u001b[0;31mNameError\u001b[0m: name 'np' is not defined"
     ]
    }
   ],
   "source": [
    "d = (S * np.exp(r*t) - K) / np.sqrt(sigma**2/(2 * r) * (np.exp(2*r*t)-1) )\n",
    "np.exp(-r * t) * (S * np.exp(r * t) - K) * norm.cdf(d) + \\\n",
    "        np.exp(-r * t) * np.sqrt(sigma**2/(2*r) * (np.exp(2*r*t)-1) ) * norm.pdf(d)"
   ]
  },
  {
   "cell_type": "code",
   "execution_count": 70,
   "metadata": {},
   "outputs": [
    {
     "data": {
      "image/png": "[encoded data removed]",
      "text/latex": [
       "$\\displaystyle 0.394653583717622$"
      ],
      "text/plain": [
       "0.39465358371762194"
      ]
     },
     "execution_count": 70,
     "metadata": {},
     "output_type": "execute_result"
    }
   ],
   "source": [
    "norm.pdf(d)"
   ]
  },
  {
   "cell_type": "code",
   "execution_count": 69,
   "metadata": {},
   "outputs": [
    {
     "data": {
      "image/png": "[encoded data removed]",
      "text/latex": [
       "$\\displaystyle 0.394653583717622$"
      ],
      "text/plain": [
       "0.39465358371762194"
      ]
     },
     "execution_count": 69,
     "metadata": {},
     "output_type": "execute_result"
    }
   ],
   "source": [
    "norm.pdf(d)"
   ]
  },
  {
   "cell_type": "code",
   "execution_count": 16,
   "metadata": {},
   "outputs": [
    {
     "ename": "NameError",
     "evalue": "name 'd' is not defined",
     "output_type": "error",
     "traceback": [
      "\u001b[0;31m---------------------------------------------------------------------------\u001b[0m",
      "\u001b[0;31mNameError\u001b[0m                                 Traceback (most recent call last)",
      "Cell \u001b[0;32mIn[16], line 5\u001b[0m\n\u001b[1;32m      2\u001b[0m std \u001b[39m=\u001b[39m torch\u001b[39m.\u001b[39mTensor([\u001b[39m1.0\u001b[39m])\n\u001b[1;32m      4\u001b[0m dist \u001b[39m=\u001b[39m torch\u001b[39m.\u001b[39mdistributions\u001b[39m.\u001b[39mnormal\u001b[39m.\u001b[39mNormal(mean, std)\n\u001b[0;32m----> 5\u001b[0m \u001b[39mprint\u001b[39m((torch\u001b[39m.\u001b[39mexp(dist\u001b[39m.\u001b[39mlog_prob(torch\u001b[39m.\u001b[39mTensor([d]))))\u001b[39m.\u001b[39mitem())\n",
      "\u001b[0;31mNameError\u001b[0m: name 'd' is not defined"
     ]
    }
   ],
   "source": [
    "mean = torch.Tensor([0.0])\n",
    "std = torch.Tensor([1.0])\n",
    "\n",
    "dist = torch.distributions.normal.Normal(mean, std)\n",
    "print((torch.exp(dist.log_prob(torch.Tensor([d])))).item())\n"
   ]
  },
  {
   "cell_type": "code",
   "execution_count": 206,
   "metadata": {},
   "outputs": [],
   "source": [
    "option = {\n",
    "    'S_0': 80.,\n",
    "    'strike': 79.,\n",
    "    'time_to_expiry': 77.95/365,\n",
    "    'implied_vol': 0.2905,\n",
    "    'dividend': 0.0,\n",
    "    'riskfree_rate': .042,\n",
    "    'option_sign':1.,\n",
    "\n",
    "}\n"
   ]
  },
  {
   "cell_type": "code",
   "execution_count": 207,
   "metadata": {},
   "outputs": [
    {
     "data": {
      "text/plain": [
       "tensor([5.1723], grad_fn=<AddBackward0>)"
      ]
     },
     "execution_count": 207,
     "metadata": {},
     "output_type": "execute_result"
    }
   ],
   "source": [
    "bb = bachelier_torch(**option)\n",
    "bb.premium()"
   ]
  },
  {
   "cell_type": "code",
   "execution_count": 208,
   "metadata": {},
   "outputs": [],
   "source": [
    "_X = bb.S_0\n",
    "_K = bb.K\n",
    "_t = bb.tte\n",
    "_r = bb.r # torch.tensor([0.035]) # \n",
    "_s = bb.sigma"
   ]
  },
  {
   "cell_type": "code",
   "execution_count": null,
   "metadata": {},
   "outputs": [],
   "source": []
  },
  {
   "cell_type": "code",
   "execution_count": 209,
   "metadata": {},
   "outputs": [],
   "source": [
    "def bfs_price(_opttyp, _X, _K, _t, _r, _s):\n",
    "\tPhi = torch.distributions.Normal(0,1)\n",
    "\t_d = (_X - _K) / (_s * torch.sqrt(_t))\n",
    "\tif _opttyp == \"C\":\n",
    "\t\treturn torch.exp(-_r*_t) * (Phi.cdf(_d) * (_X - _K) + torch.exp(Phi.log_prob(_d)) * (_s * torch.sqrt(_t)))\n",
    "\telse:\n",
    "\t\treturn torch.exp(-_r*_t) * (Phi.cdf(-_d) * (_K - _X) + torch.exp(Phi.log_prob(_d)) * (_s * torch.sqrt(_t)))\n"
   ]
  },
  {
   "cell_type": "code",
   "execution_count": 210,
   "metadata": {},
   "outputs": [],
   "source": [
    "p = bfs_price('P', _X, _K, _t, _r, _s* _X)\n",
    "c = bfs_price('C', _X, _K, _t, _r, _s* _X)"
   ]
  },
  {
   "cell_type": "code",
   "execution_count": 211,
   "metadata": {},
   "outputs": [],
   "source": [
    "gradient = torch.autograd.grad(c, _X, create_graph=True)"
   ]
  },
  {
   "cell_type": "code",
   "execution_count": 212,
   "metadata": {},
   "outputs": [],
   "source": [
    "delta, = gradient\n",
    "delta.backward(retain_graph=True)"
   ]
  },
  {
   "cell_type": "code",
   "execution_count": 213,
   "metadata": {},
   "outputs": [
    {
     "data": {
      "text/plain": [
       "0.03574444353580475"
      ]
     },
     "execution_count": 213,
     "metadata": {},
     "output_type": "execute_result"
    }
   ],
   "source": [
    "_X.grad.item()"
   ]
  },
  {
   "cell_type": "code",
   "execution_count": null,
   "metadata": {},
   "outputs": [],
   "source": []
  },
  {
   "cell_type": "code",
   "execution_count": 214,
   "metadata": {},
   "outputs": [
    {
     "data": {
      "text/plain": [
       "4.760245323181152"
      ]
     },
     "execution_count": 214,
     "metadata": {},
     "output_type": "execute_result"
    }
   ],
   "source": [
    "c.item()"
   ]
  },
  {
   "cell_type": "code",
   "execution_count": 205,
   "metadata": {},
   "outputs": [
    {
     "data": {
      "text/plain": [
       "4.779132321476936"
      ]
     },
     "execution_count": 205,
     "metadata": {},
     "output_type": "execute_result"
    }
   ],
   "source": [
    "c.item()+delta.item()+_X.grad.item()"
   ]
  },
  {
   "cell_type": "code",
   "execution_count": 179,
   "metadata": {},
   "outputs": [],
   "source": [
    "price = c.item()+delta.item()*_X.grad.item()"
   ]
  },
  {
   "cell_type": "code",
   "execution_count": 181,
   "metadata": {},
   "outputs": [
    {
     "data": {
      "text/plain": [
       "4.213690303393814"
      ]
     },
     "execution_count": 181,
     "metadata": {},
     "output_type": "execute_result"
    }
   ],
   "source": [
    "price"
   ]
  },
  {
   "cell_type": "code",
   "execution_count": null,
   "metadata": {},
   "outputs": [],
   "source": []
  }
 ],
 "metadata": {
  "kernelspec": {
   "display_name": "mrisk",
   "language": "python",
   "name": "python3"
  },
  "language_info": {
   "codemirror_mode": {
    "name": "ipython",
    "version": 3
   },
   "file_extension": ".py",
   "mimetype": "text/x-python",
   "name": "python",
   "nbconvert_exporter": "python",
   "pygments_lexer": "ipython3",
   "version": "3.11.4"
  },
  "orig_nbformat": 4
 },
 "nbformat": 4,
 "nbformat_minor": 2
}
