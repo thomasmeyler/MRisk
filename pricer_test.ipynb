{
 "cells": [
  {
   "cell_type": "code",
<<<<<<< HEAD
<<<<<<< HEAD
   "execution_count": 57,
=======
   "execution_count": 3,
>>>>>>> 133c7d9 (bach)
=======
   "execution_count": 3,
>>>>>>> 26d8fa907e2d2461a83ebbfc43e55b52f8b0dd0e
   "metadata": {},
   "outputs": [],
   "source": [
    "from option_pricers.black import black76_torch\n",
    "from option_pricers.kirk76 import kirk76_torch\n",
    "from option_pricers.bachelier import bachelier_torch\n",
    "import torch"
   ]
  },
  {
   "cell_type": "code",
<<<<<<< HEAD
<<<<<<< HEAD
   "execution_count": 58,
   "metadata": {},
   "outputs": [],
   "source": [
    "# _X = torch.tensor([100]) \n",
    "_X = torch.tensor([101])  # torch.linspace(90, 110, 10)\n",
    "_K = torch.tensor([100]) \n",
    "_T = torch.tensor([.25]) \n",
    "_r = torch.tensor([0.05]) \n",
    "_s = torch.tensor([0.25]) * _X"
   ]
  },
  {
   "cell_type": "code",
   "execution_count": 59,
   "metadata": {},
   "outputs": [],
   "source": [
    "def bfs_price(_opttyp, _X, _K, _t, _r, _s):\n",
    "\tPhi = torch.distributions.Normal(0,1)\n",
    "\t_d = (_X - _K) / (_s * torch.sqrt(_t))\n",
    "\tif _opttyp == \"C\":\n",
    "\t\treturn torch.exp(-_r*_t) * (Phi.cdf(_d) * (_X - _K) + torch.exp(Phi.log_prob(_d)) * (_s * torch.sqrt(_t)))\n",
    "\telse:\n",
    "\t\treturn torch.exp(-_r*_t) * (Phi.cdf(-_d) * (_K - _X) + torch.exp(Phi.log_prob(_d)) * (_s * torch.sqrt(_t)))\n"
   ]
  },
  {
   "cell_type": "code",
   "execution_count": null,
   "metadata": {},
   "outputs": [],
   "source": []
  },
  {
   "cell_type": "code",
   "execution_count": 60,
   "metadata": {},
   "outputs": [
    {
     "data": {
      "text/plain": [
       "(tensor([5.4835]), tensor([4.4959]))"
      ]
     },
     "execution_count": 60,
     "metadata": {},
     "output_type": "execute_result"
    }
   ],
   "source": [
    "bfs_price(\"C\", _X, _K, _T, _r, _s),bfs_price(\"P\", _X, _K, _T, _r, _s)"
   ]
  },
  {
   "cell_type": "code",
   "execution_count": 61,
   "metadata": {},
   "outputs": [],
   "source": [
    "\n",
    "from option_pricers.pricing import PriceModel\n",
    "import torch\n",
    " \n",
    "class bachelier_torch(PriceModel):\n",
    "    def __init__(self, S_0, strike, time_to_expiry, implied_vol, dividend, riskfree_rate, option_sign):\n",
    "        super().__init__(S_0, strike, time_to_expiry, implied_vol, dividend, riskfree_rate, option_sign, 'Black76')\n",
    "        \n",
    "        self.gradient = None\n",
    "        npv_pytorch = None\n",
    "        greeks = None\n",
    "\n",
    "    def premium(self):\n",
    "\n",
    "            Phi = torch.distributions.Normal(0,1)\n",
    "            \n",
    "            bachelier_sigma = sigma * S_0\n",
    "            d = (S_0 - K) / (bachelier_sigma * sqrt_tte)\n",
    "\n",
    "            if option_sign == 1.:\n",
    "                npv_pytorch = ert * (Phi.cdf(d) * (S_0 - K) + torch.exp(Phi.log_prob(d)) * (bachelier_sigma * self.sqrt_tte))\n",
    "            else:\n",
    "                self.npv_pytorch = self.ert * (Phi.cdf(-d) * (self.K - self.S_0) + torch.exp(Phi.log_prob(d)) * (bachelier_sigma * self.sqrt_tte))\n",
    "            return self.npv_pytorch\n",
    "\n"
   ]
  },
  {
   "cell_type": "code",
   "execution_count": null,
   "metadata": {},
   "outputs": [],
   "source": []
  },
  {
   "cell_type": "code",
   "execution_count": 67,
   "metadata": {},
   "outputs": [],
   "source": [
    "option = {\n",
    "    'S_0': 100.,\n",
    "    'strike': 100.,\n",
    "    'time_to_expiry': .2,\n",
    "    'implied_vol': 0.25,\n",
    "    'dividend': 0.05,\n",
    "    'riskfree_rate': .0,\n",
    "    'option_sign':1.,\n",
    "\n",
    "}"
   ]
  },
  {
   "cell_type": "code",
   "execution_count": 68,
   "metadata": {},
   "outputs": [],
   "source": [
    "bs = black76_torch(**option)\n",
    "bb = bachelier_torch(**option)"
   ]
  },
  {
   "cell_type": "code",
   "execution_count": 69,
   "metadata": {},
   "outputs": [
    {
     "data": {
      "text/plain": [
       "(4.457984924316406, tensor([4.4603], grad_fn=<MulBackward0>))"
      ]
     },
     "execution_count": 69,
     "metadata": {},
     "output_type": "execute_result"
    }
   ],
   "source": [
    "bs.premium(),bb.premium()"
   ]
  },
  {
   "cell_type": "code",
   "execution_count": 70,
   "metadata": {},
   "outputs": [
    {
     "data": {
      "text/plain": [
       "{'underlying': 100.0,\n",
       " 'strike': 100.0,\n",
       " 'premium': 4.460310459136963,\n",
       " 'delta': 0.5446031093597412,\n",
       " 'gamma': 0.03568248823285103,\n",
       " 'rho': -0.1089206263422966,\n",
       " 'vega': 0.17841240763664246,\n",
       " 'theta': 0.11150775849819183,\n",
       " 'strike_greek': -0.03568248823285103}"
      ]
     },
     "execution_count": 70,
     "metadata": {},
     "output_type": "execute_result"
    }
   ],
   "source": [
    "bb.derivative"
   ]
  },
  {
   "cell_type": "code",
   "execution_count": null,
   "metadata": {},
   "outputs": [],
   "source": []
  },
  {
   "cell_type": "code",
   "execution_count": 66,
   "metadata": {},
   "outputs": [
    {
     "data": {
      "text/plain": [
       "{'underlying': 101.0,\n",
       " 'strike': 100.0,\n",
       " 'premium': 4.997997283935547,\n",
       " 'delta': 0.557605504989624,\n",
       " 'gamma': 0.034960243850946426,\n",
       " 'rho': -0.1115211695432663,\n",
       " 'vega': -0.05226445198059082,\n",
       " 'theta': -0.03266528248786926,\n",
       " 'strike_greek': -0.03530984744429588}"
      ]
     },
     "execution_count": 66,
     "metadata": {},
     "output_type": "execute_result"
    }
   ],
   "source": [
    "bs.derivative"
   ]
  },
  {
   "cell_type": "code",
   "execution_count": 14,
   "metadata": {},
   "outputs": [
    {
     "data": {
      "text/plain": [
       "9.276083946228027"
      ]
     },
     "execution_count": 14,
     "metadata": {},
     "output_type": "execute_result"
    }
   ],
   "source": [
    "9.276083946228027"
   ]
  },
  {
   "cell_type": "code",
   "execution_count": 15,
   "metadata": {},
   "outputs": [],
   "source": [
    "def bfs_price(_opttyp, _X, _K, _t, _r, _s):\n",
    "\tPhi = torch.distributions.Normal(0,1)\n",
    "\t_d = (_X - _K) / (_s * torch.sqrt(_t))\n",
    "\tif _opttyp == \"C\":\n",
    "\t\treturn torch.exp(-_r*_t) * (Phi.cdf(_d) * (_X - _K) + torch.exp(Phi.log_prob(_d)) * (_s * torch.sqrt(_t)))\n",
    "\telse:\n",
    "\t\treturn torch.exp(-_r*_t) * (Phi.cdf(-_d) * (_K - _X) + torch.exp(Phi.log_prob(_d)) * (_s * torch.sqrt(_t)))\n"
   ]
  },
  {
   "cell_type": "code",
   "execution_count": 45,
   "metadata": {},
   "outputs": [],
   "source": [
    "_X = torch.tensor([101])  # torch.linspace(90, 110, 10)\n",
    "_K = torch.tensor([100]) \n",
    "_T = torch.tensor([0.25]) \n",
    "_r = torch.tensor([0.0]) \n",
    "_s = torch.tensor([0.25]) * _X"
   ]
  },
  {
   "cell_type": "code",
   "execution_count": 46,
   "metadata": {},
   "outputs": [
    {
     "data": {
      "text/plain": [
       "(tensor([5.5524]), tensor([4.5524]))"
      ]
     },
     "execution_count": 46,
     "metadata": {},
     "output_type": "execute_result"
    }
   ],
   "source": [
    "bfs_price(\"C\", _X, _K, _T, _r, _s),bfs_price(\"P\", _X, _K, _T, _r, _s)"
   ]
  },
  {
   "cell_type": "code",
   "execution_count": 47,
   "metadata": {},
   "outputs": [],
   "source": [
    "a = bfs_price(\"C\", _X, _K, _T, _r, _s)"
   ]
  },
  {
   "cell_type": "code",
   "execution_count": 27,
   "metadata": {},
   "outputs": [
    {
     "ename": "RuntimeError",
     "evalue": "element 0 of tensors does not require grad and does not have a grad_fn",
     "output_type": "error",
     "traceback": [
      "\u001b[0;31m---------------------------------------------------------------------------\u001b[0m",
      "\u001b[0;31mRuntimeError\u001b[0m                              Traceback (most recent call last)",
      "\u001b[1;32m/Users/thomasmeyler/Desktop/mrisk/MRisk/pricer_test.ipynb Cell 17\u001b[0m line \u001b[0;36m1\n\u001b[0;32m----> <a href='vscode-notebook-cell:/Users/thomasmeyler/Desktop/mrisk/MRisk/pricer_test.ipynb#X22sZmlsZQ%3D%3D?line=0'>1</a>\u001b[0m torch\u001b[39m.\u001b[39;49mautograd\u001b[39m.\u001b[39;49mgrad(a, _X, create_graph\u001b[39m=\u001b[39;49m\u001b[39mTrue\u001b[39;49;00m)\n",
      "File \u001b[0;32m~/opt/anaconda3/envs/mrisk/lib/python3.11/site-packages/torch/autograd/__init__.py:303\u001b[0m, in \u001b[0;36mgrad\u001b[0;34m(outputs, inputs, grad_outputs, retain_graph, create_graph, only_inputs, allow_unused, is_grads_batched)\u001b[0m\n\u001b[1;32m    301\u001b[0m     \u001b[39mreturn\u001b[39;00m _vmap_internals\u001b[39m.\u001b[39m_vmap(vjp, \u001b[39m0\u001b[39m, \u001b[39m0\u001b[39m, allow_none_pass_through\u001b[39m=\u001b[39m\u001b[39mTrue\u001b[39;00m)(grad_outputs_)\n\u001b[1;32m    302\u001b[0m \u001b[39melse\u001b[39;00m:\n\u001b[0;32m--> 303\u001b[0m     \u001b[39mreturn\u001b[39;00m Variable\u001b[39m.\u001b[39;49m_execution_engine\u001b[39m.\u001b[39;49mrun_backward(  \u001b[39m# Calls into the C++ engine to run the backward pass\u001b[39;49;00m\n\u001b[1;32m    304\u001b[0m         t_outputs, grad_outputs_, retain_graph, create_graph, t_inputs,\n\u001b[1;32m    305\u001b[0m         allow_unused, accumulate_grad\u001b[39m=\u001b[39;49m\u001b[39mFalse\u001b[39;49;00m)\n",
      "\u001b[0;31mRuntimeError\u001b[0m: element 0 of tensors does not require grad and does not have a grad_fn"
     ]
    }
   ],
   "source": [
    "torch.autograd.grad(a, _X, create_graph=True)"
   ]
  },
  {
   "cell_type": "code",
   "execution_count": 53,
=======
   "execution_count": 4,
>>>>>>> 133c7d9 (bach)
=======
   "execution_count": 4,
>>>>>>> 26d8fa907e2d2461a83ebbfc43e55b52f8b0dd0e
   "metadata": {},
   "outputs": [],
   "source": [
    "\n",
    "\n",
    "option = {\n",
    "    'S_0': 488.25,\n",
    "    'strike': -15.,\n",
    "    'time_to_expiry': 90/365,\n",
    "    'implied_vol': 0.232,\n",
    "    'dividend': 0.0,\n",
    "    'riskfree_rate': .2,\n",
    "    'option_sign':-1.,\n",
    "    'S_02': 514.5,\n",
    "    'implied2': 0.2175,\n",
    "    'coor': 0.9665\n",
    "}"
   ]
  },
  {
   "cell_type": "code",
<<<<<<< HEAD
<<<<<<< HEAD
   "execution_count": 54,
=======
   "execution_count": 5,
>>>>>>> 133c7d9 (bach)
=======
   "execution_count": 5,
>>>>>>> 26d8fa907e2d2461a83ebbfc43e55b52f8b0dd0e
   "metadata": {},
   "outputs": [
    {
     "data": {
      "text/plain": [
       "tensor([12.4683], grad_fn=<MulBackward0>)"
      ]
     },
<<<<<<< HEAD
<<<<<<< HEAD
     "execution_count": 54,
=======
     "execution_count": 5,
>>>>>>> 133c7d9 (bach)
=======
     "execution_count": 5,
>>>>>>> 26d8fa907e2d2461a83ebbfc43e55b52f8b0dd0e
     "metadata": {},
     "output_type": "execute_result"
    }
   ],
   "source": [
    "k76 = kirk76_torch(**option)\n",
    "k76.premium()\n"
   ]
  },
  {
   "cell_type": "code",
   "execution_count": 6,
   "metadata": {},
   "outputs": [],
   "source": [
    "k76.greeks"
   ]
  },
  {
   "cell_type": "code",
   "execution_count": 7,
   "metadata": {},
   "outputs": [],
   "source": [
    "option = {\n",
    "    'S_0': 488.25,\n",
    "    'strike': 400,\n",
    "    'time_to_expiry': 90/365,\n",
    "    'implied_vol': 0.232,\n",
    "    'dividend': 0.0,\n",
    "    'riskfree_rate': .035,\n",
    "    'option_sign':-1.,\n",
    "\n",
    "}"
   ]
  },
  {
   "cell_type": "code",
   "execution_count": 8,
   "metadata": {},
   "outputs": [
    {
     "data": {
      "text/plain": [
       "tensor([480.0000, 487.5000, 495.0000, 502.5000, 510.0000])"
      ]
     },
     "execution_count": 8,
     "metadata": {},
     "output_type": "execute_result"
    }
   ],
   "source": [
    "torch.linspace(480, 510, 5)"
   ]
  },
  {
   "cell_type": "code",
   "execution_count": 9,
   "metadata": {},
   "outputs": [
    {
     "ename": "RuntimeError",
     "evalue": "Only Tensors of floating point and complex dtype can require gradients",
     "output_type": "error",
     "traceback": [
      "\u001b[1;31m---------------------------------------------------------------------------\u001b[0m",
      "\u001b[1;31mRuntimeError\u001b[0m                              Traceback (most recent call last)",
      "Cell \u001b[1;32mIn[9], line 1\u001b[0m\n\u001b[1;32m----> 1\u001b[0m bs \u001b[39m=\u001b[39m black76_torch(\u001b[39m*\u001b[39;49m\u001b[39m*\u001b[39;49moption)\n",
      "File \u001b[1;32mc:\\Users\\tmeyl\\Desktop\\Modulus Risk\\MRisk\\option_pricers\\black.py:7\u001b[0m, in \u001b[0;36mblack76_torch.__init__\u001b[1;34m(self, S_0, strike, time_to_expiry, implied_vol, dividend, riskfree_rate, option_sign)\u001b[0m\n\u001b[0;32m      6\u001b[0m \u001b[39mdef\u001b[39;00m \u001b[39m__init__\u001b[39m(\u001b[39mself\u001b[39m, S_0, strike, time_to_expiry, implied_vol, dividend, riskfree_rate, option_sign):\n\u001b[1;32m----> 7\u001b[0m     \u001b[39msuper\u001b[39;49m()\u001b[39m.\u001b[39;49m\u001b[39m__init__\u001b[39;49m(S_0, strike, time_to_expiry, implied_vol, dividend, riskfree_rate, option_sign, \u001b[39m'\u001b[39;49m\u001b[39mBlack76\u001b[39;49m\u001b[39m'\u001b[39;49m)\n\u001b[0;32m      9\u001b[0m     \u001b[39mself\u001b[39m\u001b[39m.\u001b[39mgradient \u001b[39m=\u001b[39m \u001b[39mNone\u001b[39;00m\n\u001b[0;32m     10\u001b[0m     \u001b[39mself\u001b[39m\u001b[39m.\u001b[39mnpv_pytorch \u001b[39m=\u001b[39m \u001b[39mNone\u001b[39;00m\n",
      "File \u001b[1;32mc:\\Users\\tmeyl\\Desktop\\Modulus Risk\\MRisk\\option_pricers\\pricing.py:8\u001b[0m, in \u001b[0;36mPriceModel.__init__\u001b[1;34m(self, S_0, strike, time_to_expiry, implied_vol, dividend, riskfree_rate, option_sign, model_name)\u001b[0m\n\u001b[0;32m      6\u001b[0m \u001b[39mself\u001b[39m\u001b[39m.\u001b[39mmodel_name \u001b[39m=\u001b[39m model_name\n\u001b[0;32m      7\u001b[0m \u001b[39mself\u001b[39m\u001b[39m.\u001b[39mS_0 \u001b[39m=\u001b[39m torch\u001b[39m.\u001b[39mtensor([S_0], requires_grad\u001b[39m=\u001b[39m\u001b[39mTrue\u001b[39;00m)\n\u001b[1;32m----> 8\u001b[0m \u001b[39mself\u001b[39m\u001b[39m.\u001b[39mK \u001b[39m=\u001b[39m torch\u001b[39m.\u001b[39;49mtensor([strike], requires_grad\u001b[39m=\u001b[39;49m\u001b[39mTrue\u001b[39;49;00m)\n\u001b[0;32m      9\u001b[0m \u001b[39mself\u001b[39m\u001b[39m.\u001b[39mtte \u001b[39m=\u001b[39m torch\u001b[39m.\u001b[39mtensor([time_to_expiry], requires_grad\u001b[39m=\u001b[39m\u001b[39mTrue\u001b[39;00m)\n\u001b[0;32m     10\u001b[0m \u001b[39mself\u001b[39m\u001b[39m.\u001b[39msigma \u001b[39m=\u001b[39m torch\u001b[39m.\u001b[39mtensor([implied_vol], requires_grad\u001b[39m=\u001b[39m\u001b[39mTrue\u001b[39;00m)\n",
      "\u001b[1;31mRuntimeError\u001b[0m: Only Tensors of floating point and complex dtype can require gradients"
     ]
    }
   ],
   "source": [
    "bs = black76_torch(**option)"
   ]
  },
  {
   "cell_type": "code",
   "execution_count": 10,
   "metadata": {},
   "outputs": [
    {
     "ename": "NameError",
     "evalue": "name 'bs' is not defined",
     "output_type": "error",
     "traceback": [
      "\u001b[1;31m---------------------------------------------------------------------------\u001b[0m",
      "\u001b[1;31mNameError\u001b[0m                                 Traceback (most recent call last)",
      "Cell \u001b[1;32mIn[10], line 1\u001b[0m\n\u001b[1;32m----> 1\u001b[0m bs\u001b[39m.\u001b[39mpremium()\n",
      "\u001b[1;31mNameError\u001b[0m: name 'bs' is not defined"
     ]
    }
   ],
   "source": [
    "bs.premium()"
   ]
  },
  {
   "cell_type": "code",
   "execution_count": 11,
   "metadata": {},
   "outputs": [
    {
     "ename": "NameError",
     "evalue": "name 'bs' is not defined",
     "output_type": "error",
     "traceback": [
      "\u001b[1;31m---------------------------------------------------------------------------\u001b[0m",
      "\u001b[1;31mNameError\u001b[0m                                 Traceback (most recent call last)",
      "Cell \u001b[1;32mIn[11], line 1\u001b[0m\n\u001b[1;32m----> 1\u001b[0m bs\u001b[39m.\u001b[39mpremium()\n\u001b[0;32m      2\u001b[0m bs\u001b[39m.\u001b[39mderivative\n",
      "\u001b[1;31mNameError\u001b[0m: name 'bs' is not defined"
     ]
    }
   ],
   "source": [
    "bs.premium()\n",
    "bs.derivative"
   ]
  },
  {
   "cell_type": "code",
   "execution_count": 53,
   "metadata": {},
   "outputs": [
    {
     "data": {
      "text/plain": [
       "0.2972068786621094"
      ]
     },
     "execution_count": 53,
     "metadata": {},
     "output_type": "execute_result"
    }
   ],
   "source": [
    "20.630599975585938 - 20.333393096923828"
   ]
  },
  {
   "cell_type": "code",
   "execution_count": null,
   "metadata": {},
   "outputs": [],
   "source": [
    "{'underlying': 488.25,\n",
    " 'strike': -15.0,\n",
    " 'premium': 13.066343307495117,\n",
    " 'delta': -0.7731530666351318,\n",
    " 'gamma': 0.02071956731379032,\n",
    " 'rho': 0.1906406581401825,\n",
    " 'vega': 1.024949073791504,\n",
    " 'theta': 0.4840008616447449,\n",
    " 'strike_greek': -0.020247073844075203}"
   ]
  },
  {
   "cell_type": "code",
   "execution_count": 102,
   "metadata": {},
   "outputs": [],
   "source": [
    "S_0 = torch.tensor([488.25],requires_grad=True)\n",
    "K = torch.tensor([500.],requires_grad=True)\n",
    "tte = torch.tensor([90/365],requires_grad=True)\n",
    "sigma = torch.tensor([0.232],requires_grad=True)\n",
    "r = torch.tensor([0.035],requires_grad=True)\n",
    "q = torch.tensor([0.0],requires_grad=True)\n",
    "option_sign = torch.tensor([1.],requires_grad=True)\n"
   ]
  },
  {
   "cell_type": "code",
   "execution_count": 103,
   "metadata": {},
   "outputs": [],
   "source": [
    "Phi = torch.distributions.Normal(0,1).cdf\n",
    "\n",
    "lnFK = torch.log(S_0 / K)\n",
    "si2 = (sigma**2/2)*tte\n",
    "sqrt_tte = torch.sqrt(tte)\n",
    "\n",
    "d1 = (lnFK + (r + si2)) / (sigma*sqrt_tte)\n",
    "d2 = d1 - sigma*sqrt_tte\n",
    "ert = torch.exp(-r * tte)"
   ]
  },
  {
   "cell_type": "code",
   "execution_count": null,
   "metadata": {},
   "outputs": [],
   "source": []
  },
  {
   "cell_type": "code",
   "execution_count": null,
   "metadata": {},
   "outputs": [],
   "source": []
  },
  {
   "cell_type": "code",
   "execution_count": 104,
   "metadata": {},
   "outputs": [],
   "source": [
    "\n",
    "if option_sign == 1.:\n",
    "    npv_pytorch = ert * (S_0 * Phi(d1) - K * Phi(d2))\n",
    "else:\n",
    "    npv_pytorch = ert * (K * Phi(-d2) - S_0 * Phi(-d1) )\n",
    "# return npv_pytorch.item()\n"
   ]
  },
  {
   "cell_type": "code",
   "execution_count": 105,
   "metadata": {},
   "outputs": [],
   "source": [
    "npv_pytorch.backward(retain_graph=True)"
   ]
  },
  {
   "cell_type": "code",
   "execution_count": 106,
   "metadata": {},
   "outputs": [
    {
     "data": {
      "text/plain": [
       "(tensor([0.4359]),\n",
       " tensor([-0.3934]),\n",
       " tensor([46.1447]),\n",
       " tensor([-62.9698]),\n",
       " tensor([99.2868]))"
      ]
     },
     "execution_count": 106,
     "metadata": {},
     "output_type": "execute_result"
    }
   ],
   "source": [
    "S_0.grad, K.grad, tte.grad, r.grad, sigma.grad"
   ]
  },
  {
   "cell_type": "code",
   "execution_count": 107,
   "metadata": {},
   "outputs": [],
   "source": [
    "gradient = torch.autograd.grad(npv_pytorch, S_0, create_graph=True)"
   ]
  },
  {
   "cell_type": "code",
   "execution_count": 108,
   "metadata": {},
   "outputs": [],
   "source": [
    "delta, =  gradient\n",
    "delta.backward(retain_graph=True)"
   ]
  },
  {
   "cell_type": "code",
   "execution_count": 111,
   "metadata": {},
   "outputs": [
    {
     "data": {
      "text/plain": [
       "(0.4432108402252197, 0.43593019247055054)"
      ]
     },
     "execution_count": 111,
     "metadata": {},
     "output_type": "execute_result"
    }
   ],
   "source": [
    "S_0.grad.item(), delta.item()"
   ]
  },
  {
   "cell_type": "code",
   "execution_count": 84,
   "metadata": {},
   "outputs": [
    {
     "ename": "TypeError",
     "evalue": "black76_torch.__init__() got an unexpected keyword argument 'S_02'",
     "output_type": "error",
     "traceback": [
      "\u001b[0;31m---------------------------------------------------------------------------\u001b[0m",
      "\u001b[0;31mTypeError\u001b[0m                                 Traceback (most recent call last)",
      "Cell \u001b[0;32mIn[84], line 1\u001b[0m\n\u001b[0;32m----> 1\u001b[0m s76 \u001b[39m=\u001b[39m black76_torch(\u001b[39m*\u001b[39;49m\u001b[39m*\u001b[39;49moption)\n",
      "\u001b[0;31mTypeError\u001b[0m: black76_torch.__init__() got an unexpected keyword argument 'S_02'"
     ]
    }
   ],
   "source": [
    "s76 = black76_torch(**option)"
   ]
  },
  {
   "cell_type": "code",
   "execution_count": 4,
   "metadata": {},
   "outputs": [
    {
     "data": {
      "text/plain": [
       "7.344722747802734"
      ]
     },
     "execution_count": 4,
     "metadata": {},
     "output_type": "execute_result"
    }
   ],
   "source": [
    "s76.premium()"
   ]
  },
  {
   "cell_type": "code",
   "execution_count": 6,
   "metadata": {},
   "outputs": [
    {
     "data": {
      "text/plain": [
       "{'underlying': 100.0,\n",
       " 'strike': 100.0,\n",
       " 'premium': 7.344722747802734,\n",
       " 'delta': 0.5142683386802673,\n",
       " 'gamma': 0.019448297098279,\n",
       " 'rho': -0.44564077258110046,\n",
       " 'vega': 0.16579413414001465,\n",
       " 'theta': -0.009134011343121529,\n",
       " 'strike_greek': -0.01944829523563385}"
      ]
     },
     "execution_count": 6,
     "metadata": {},
     "output_type": "execute_result"
    }
   ],
   "source": [
    "s76.derivative"
   ]
  },
  {
   "cell_type": "code",
   "execution_count": 2,
   "metadata": {},
   "outputs": [
    {
     "data": {
      "text/plain": [
       "array([ 90.        ,  90.2020202 ,  90.4040404 ,  90.60606061,\n",
       "        90.80808081,  91.01010101,  91.21212121,  91.41414141,\n",
       "        91.61616162,  91.81818182,  92.02020202,  92.22222222,\n",
       "        92.42424242,  92.62626263,  92.82828283,  93.03030303,\n",
       "        93.23232323,  93.43434343,  93.63636364,  93.83838384,\n",
       "        94.04040404,  94.24242424,  94.44444444,  94.64646465,\n",
       "        94.84848485,  95.05050505,  95.25252525,  95.45454545,\n",
       "        95.65656566,  95.85858586,  96.06060606,  96.26262626,\n",
       "        96.46464646,  96.66666667,  96.86868687,  97.07070707,\n",
       "        97.27272727,  97.47474747,  97.67676768,  97.87878788,\n",
       "        98.08080808,  98.28282828,  98.48484848,  98.68686869,\n",
       "        98.88888889,  99.09090909,  99.29292929,  99.49494949,\n",
       "        99.6969697 ,  99.8989899 , 100.1010101 , 100.3030303 ,\n",
       "       100.50505051, 100.70707071, 100.90909091, 101.11111111,\n",
       "       101.31313131, 101.51515152, 101.71717172, 101.91919192,\n",
       "       102.12121212, 102.32323232, 102.52525253, 102.72727273,\n",
       "       102.92929293, 103.13131313, 103.33333333, 103.53535354,\n",
       "       103.73737374, 103.93939394, 104.14141414, 104.34343434,\n",
       "       104.54545455, 104.74747475, 104.94949495, 105.15151515,\n",
       "       105.35353535, 105.55555556, 105.75757576, 105.95959596,\n",
       "       106.16161616, 106.36363636, 106.56565657, 106.76767677,\n",
       "       106.96969697, 107.17171717, 107.37373737, 107.57575758,\n",
       "       107.77777778, 107.97979798, 108.18181818, 108.38383838,\n",
       "       108.58585859, 108.78787879, 108.98989899, 109.19191919,\n",
       "       109.39393939, 109.5959596 , 109.7979798 , 110.        ])"
      ]
     },
     "execution_count": 2,
     "metadata": {},
     "output_type": "execute_result"
    }
   ],
   "source": [
    "import numpy as np\n",
    "\n",
    "np.linspace(90, 110, 100)"
   ]
  },
  {
   "cell_type": "code",
   "execution_count": 26,
   "metadata": {},
   "outputs": [],
   "source": [
    "import numpy as np\n",
    "import matplotlib.pyplot as plt\n",
    "from scipy.stats import norm\n",
    "from sympy import init_printing\n",
    "init_printing()\n",
    "def call_price(sigma, S, K, r, t):\n",
    "    d1 = np.multiply( 1. / sigma * np.divide(1., np.sqrt(t)),\n",
    "        np.log(S/K) + (r + sigma**2 / 2.) * t  )\n",
    "    d2 = d1 - sigma * np.sqrt(t)\n",
    "    C = np.multiply(S, norm.cdf(d1)) - \\\n",
    "        np.multiply(norm.cdf(d2) * K, np.exp(-r * t))\n",
    "    return C, d1, d2\n",
    "def put_price(sigma, S, K, r, t):\n",
    "    d1 = np.multiply( 1. / sigma * np.divide(1., np.sqrt(t)),\n",
    "        np.log(S/K) + (r + sigma**2 / 2.) * t  )\n",
    "    d2 = d1 - sigma * np.sqrt(t)\n",
    "    P = -np.multiply(S, norm.cdf(-d1)) + \\\n",
    "        np.multiply(norm.cdf(-d2) * K, np.exp(-r * t))\n",
    "    return P\n",
    "def bachelier(sigma, S, K, r, t):\n",
    "    d = (S - K) / (sigma * np.sqrt(t))\n",
    "    C = np.exp(-r * t) * (S - K) * norm.cdf(d) + \\\n",
    "        np.exp(-r * t) * sigma * np.sqrt(t) * norm.pdf(d)\n",
    "    return C\n",
    "t = 1 / 12    #  Time to expiration\n",
    "sigma = 0.20    #  Black Scholes implied volatility\n",
    "K = 105         #  Strike Price\n",
    "r = 0.01        #  Risk-free rate\n",
    "S = np.linspace(90, 110, 5)    # Let our stock price range between $90 and $110\n",
    "#  Calculate Black Schole call, put price\n",
    "C_BlackSholes, d1, d2 = call_price(sigma, S, K, r, t)\n",
    "P_BlackSholes = put_price(sigma, S, K, r, t)\n",
    "C_bs, d1, d2 = call_price(sigma, S, K, r, t)\n",
    "C_ba = bachelier(sigma * S, S, K, r, t)"
   ]
  },
  {
   "cell_type": "code",
   "execution_count": 27,
   "metadata": {},
   "outputs": [
    {
     "data": {
      "text/plain": [
       "(array([0.00686997, 0.10057787, 0.67310661, 2.46109954, 5.8066834 ]),\n",
       " array([2.94336203e-03, 7.37783432e-02, 6.16325104e-01, 2.41644450e+00,\n",
       "        5.77584522e+00]))"
      ]
     },
     "execution_count": 27,
     "metadata": {},
     "output_type": "execute_result"
    }
   ],
   "source": [
    "C_bs, C_ba"
   ]
  },
  {
   "cell_type": "code",
   "execution_count": 12,
   "metadata": {},
   "outputs": [],
   "source": [
    "option = {\n",
    "    'S_0': 100.,\n",
    "    'strike': 100.,\n",
    "    'time_to_expiry': 90/365,\n",
    "    'implied_vol': 0.232,\n",
    "    'dividend': 0.0,\n",
    "    'riskfree_rate': .036,\n",
    "    'option_sign':1.,\n",
    "\n",
    "}\n",
    "\n",
    "bb = bachelier_torch(**option)\n",
    "bs = black76_torch(**option)"
   ]
  },
  {
   "cell_type": "code",
   "execution_count": 13,
   "metadata": {},
   "outputs": [
    {
     "ename": "AttributeError",
     "evalue": "module 'torch' has no attribute 'array'",
     "output_type": "error",
     "traceback": [
      "\u001b[1;31m---------------------------------------------------------------------------\u001b[0m",
      "\u001b[1;31mAttributeError\u001b[0m                            Traceback (most recent call last)",
      "Cell \u001b[1;32mIn[13], line 1\u001b[0m\n\u001b[1;32m----> 1\u001b[0m bb\u001b[39m.\u001b[39;49mpremium(),bs\u001b[39m.\u001b[39mpremium()\n",
      "File \u001b[1;32mc:\\Users\\tmeyl\\Desktop\\Modulus Risk\\MRisk\\option_pricers\\bachelier.py:27\u001b[0m, in \u001b[0;36mbachelier_torch.premium\u001b[1;34m(self)\u001b[0m\n\u001b[0;32m     24\u001b[0m \u001b[39mdef\u001b[39;00m \u001b[39mpremium\u001b[39m(\u001b[39mself\u001b[39m):\n\u001b[0;32m     26\u001b[0m     bachelier_sigma \u001b[39m=\u001b[39m \u001b[39mself\u001b[39m\u001b[39m.\u001b[39msigma \u001b[39m*\u001b[39m \u001b[39mself\u001b[39m\u001b[39m.\u001b[39mS_0\n\u001b[1;32m---> 27\u001b[0m     cdfd, pdfd \u001b[39m=\u001b[39m \u001b[39mself\u001b[39;49m\u001b[39m.\u001b[39;49mcdfd_pdfd\n\u001b[0;32m     28\u001b[0m     \u001b[39mself\u001b[39m\u001b[39m.\u001b[39mnpv_pytorch \u001b[39m=\u001b[39m \u001b[39mself\u001b[39m\u001b[39m.\u001b[39m_ert \u001b[39m*\u001b[39m cdfd \u001b[39m*\u001b[39m (\u001b[39mself\u001b[39m\u001b[39m.\u001b[39moption_sign \u001b[39m*\u001b[39m (\u001b[39mself\u001b[39m\u001b[39m.\u001b[39mS_0 \u001b[39m-\u001b[39m \u001b[39mself\u001b[39m\u001b[39m.\u001b[39mK)) \u001b[39m+\u001b[39m \\\n\u001b[0;32m     29\u001b[0m         pdfd \u001b[39m*\u001b[39m bachelier_sigma \u001b[39m*\u001b[39m \u001b[39mself\u001b[39m\u001b[39m.\u001b[39msqrt_tte \n\u001b[0;32m     31\u001b[0m     \u001b[39mreturn\u001b[39;00m \u001b[39mself\u001b[39m\u001b[39m.\u001b[39mnpv_pytorch\n",
      "File \u001b[1;32mc:\\Users\\tmeyl\\Desktop\\Modulus Risk\\MRisk\\option_pricers\\bachelier.py:21\u001b[0m, in \u001b[0;36mbachelier_torch.cdfd_pdfd\u001b[1;34m(self)\u001b[0m\n\u001b[0;32m     19\u001b[0m     cdfd \u001b[39m=\u001b[39m \u001b[39mself\u001b[39m\u001b[39m.\u001b[39mPhi\u001b[39m.\u001b[39mcdf(\u001b[39mself\u001b[39m\u001b[39m.\u001b[39moption_sign \u001b[39m*\u001b[39m d)\n\u001b[0;32m     20\u001b[0m     pdfd \u001b[39m=\u001b[39m torch\u001b[39m.\u001b[39mexp(\u001b[39mself\u001b[39m\u001b[39m.\u001b[39mPhi\u001b[39m.\u001b[39mlog_prob(d))\n\u001b[1;32m---> 21\u001b[0m     \u001b[39mself\u001b[39m\u001b[39m.\u001b[39m_cdfd_pdfd \u001b[39m=\u001b[39m torch\u001b[39m.\u001b[39;49marray([cdfd, pdfd])\n\u001b[0;32m     22\u001b[0m \u001b[39mreturn\u001b[39;00m \u001b[39mself\u001b[39m\u001b[39m.\u001b[39m_cdfd_pdfd\n",
      "\u001b[1;31mAttributeError\u001b[0m: module 'torch' has no attribute 'array'"
     ]
    }
   ],
   "source": [
    "bb.premium(),bs.premium()"
   ]
  },
  {
   "cell_type": "code",
   "execution_count": 4,
   "metadata": {},
   "outputs": [
    {
     "data": {
      "text/plain": [
       "tensor([4.1473], grad_fn=<AddBackward0>)"
      ]
     },
     "execution_count": 4,
     "metadata": {},
     "output_type": "execute_result"
    }
   ],
   "source": [
    "bb.premium()"
   ]
  },
  {
   "cell_type": "code",
   "execution_count": 16,
   "metadata": {},
   "outputs": [
    {
     "data": {
      "text/plain": [
       "(tensor([20.0746], grad_fn=<AddBackward0>), 17.394975662231445)"
      ]
     },
     "execution_count": 16,
     "metadata": {},
     "output_type": "execute_result"
    }
   ],
   "source": [
    "bb.premium(), bs.premium()"
   ]
  },
  {
   "cell_type": "code",
   "execution_count": 17,
   "metadata": {},
   "outputs": [
    {
     "data": {
      "text/plain": [
       "({'underlying': 400.0,\n",
       "  'strike': 400.0,\n",
       "  'premium': 20.074554443359375,\n",
       "  'delta': 0.5754910707473755,\n",
       "  'gamma': 0.008522061631083488,\n",
       "  'rho': 0.8385549187660217,\n",
       "  'vega': 0.06934279203414917,\n",
       "  'theta': 0.15165013074874878,\n",
       "  'strike_greek': -0.008522060699760914},\n",
       " {'underlying': 400.0,\n",
       "  'strike': 400.0,\n",
       "  'premium': 17.394975662231445,\n",
       "  'delta': 0.521037757396698,\n",
       "  'gamma': 0.008938840590417385,\n",
       "  'rho': 0.11635807156562805,\n",
       "  'vega': 0.056642137467861176,\n",
       "  'theta': 0.008410647511482239,\n",
       "  'strike_greek': -0.00893883965909481})"
      ]
     },
     "execution_count": 17,
     "metadata": {},
     "output_type": "execute_result"
    }
   ],
   "source": [
    "bb.derivative, bs.derivative"
   ]
  },
  {
   "cell_type": "code",
   "execution_count": 12,
   "metadata": {},
   "outputs": [
    {
     "data": {
      "text/plain": [
       "tensor([20.2187], grad_fn=<AddBackward0>)"
      ]
     },
     "execution_count": 12,
     "metadata": {},
     "output_type": "execute_result"
    }
   ],
   "source": []
  },
  {
   "cell_type": "code",
   "execution_count": 13,
   "metadata": {},
   "outputs": [
    {
     "data": {
      "text/plain": [
       "{'underlying': 400.25,\n",
       " 'strike': 400.0,\n",
       " 'premium': 20.21869659423828,\n",
       " 'delta': 0.5320048332214355,\n",
       " 'gamma': 0.008661385625600815,\n",
       " 'rho': 0.8508574366569519,\n",
       " 'vega': -0.0003439246502239257,\n",
       " 'theta': 0.05601505562663078,\n",
       " 'strike_greek': -0.008586958050727844}"
      ]
     },
     "execution_count": 13,
     "metadata": {},
     "output_type": "execute_result"
    }
   ],
   "source": [
    "bb.derivative"
   ]
  },
  {
   "cell_type": "code",
   "execution_count": 7,
   "metadata": {},
   "outputs": [
    {
     "data": {
      "text/plain": [
       "tensor([488.2500], requires_grad=True)"
      ]
     },
     "execution_count": 7,
     "metadata": {},
     "output_type": "execute_result"
    }
   ],
   "source": [
    "def bachelier(sigma, S, K, r, t):\n",
    "    d = (S - K) / (sigma * np.sqrt(t))\n",
    "    C = np.exp(-r * t) * (S - K) * norm.cdf(d) + \\\n",
    "        np.exp(-r * t) * sigma * np.sqrt(t) * norm.pdf(d)\n",
    "    return C"
   ]
  },
  {
   "cell_type": "code",
   "execution_count": 34,
   "metadata": {},
   "outputs": [],
   "source": [
    "\n",
    "Phi = torch.distributions.Normal(0,1).cdf\n",
    "# pPhi = torch.distributions.prob()\n",
    "\n",
    "dP = (bb.S_0 * torch.exp(bb.r*bb.tte) - bb.K) / torch.sqrt(bb.sigma**2/(2 * bb.r) * (torch.exp(2*bb.r*bb.tte)-1) )\n",
    "\n"
   ]
  },
  {
   "cell_type": "code",
   "execution_count": 18,
   "metadata": {},
   "outputs": [],
   "source": [
    "import numpy as np "
   ]
  },
  {
   "cell_type": "code",
   "execution_count": 19,
   "metadata": {},
   "outputs": [
    {
     "ename": "RuntimeError",
     "evalue": "Can't call numpy() on Tensor that requires grad. Use tensor.detach().numpy() instead.",
     "output_type": "error",
     "traceback": [
      "\u001b[0;31m---------------------------------------------------------------------------\u001b[0m",
      "\u001b[0;31mRuntimeError\u001b[0m                              Traceback (most recent call last)",
      "Cell \u001b[0;32mIn[19], line 1\u001b[0m\n\u001b[0;32m----> 1\u001b[0m d \u001b[39m=\u001b[39m (bb\u001b[39m.\u001b[39mS_0  \u001b[39m-\u001b[39m bb\u001b[39m.\u001b[39mK) \u001b[39m/\u001b[39m (bb\u001b[39m.\u001b[39msigma \u001b[39m*\u001b[39m np\u001b[39m.\u001b[39;49msqrt(bb\u001b[39m.\u001b[39;49mtte))\n\u001b[1;32m      2\u001b[0m C \u001b[39m=\u001b[39m np\u001b[39m.\u001b[39mexp(\u001b[39m-\u001b[39mbb\u001b[39m.\u001b[39mr \u001b[39m*\u001b[39m bb\u001b[39m.\u001b[39mtte) \u001b[39m*\u001b[39m (bb\u001b[39m.\u001b[39mS_0 \u001b[39m-\u001b[39m bb\u001b[39m.\u001b[39mK) \u001b[39m*\u001b[39m norm\u001b[39m.\u001b[39mcdf(d) \u001b[39m+\u001b[39m \\\n\u001b[1;32m      3\u001b[0m     np\u001b[39m.\u001b[39mexp(\u001b[39m-\u001b[39mr \u001b[39m*\u001b[39m t) \u001b[39m*\u001b[39m sigma \u001b[39m*\u001b[39m np\u001b[39m.\u001b[39msqrt(t) \u001b[39m*\u001b[39m norm\u001b[39m.\u001b[39mpdf(d)\n",
      "File \u001b[0;32m~/opt/anaconda3/envs/mrisk/lib/python3.11/site-packages/torch/_tensor.py:970\u001b[0m, in \u001b[0;36mTensor.__array__\u001b[0;34m(self, dtype)\u001b[0m\n\u001b[1;32m    968\u001b[0m     \u001b[39mreturn\u001b[39;00m handle_torch_function(Tensor\u001b[39m.\u001b[39m__array__, (\u001b[39mself\u001b[39m,), \u001b[39mself\u001b[39m, dtype\u001b[39m=\u001b[39mdtype)\n\u001b[1;32m    969\u001b[0m \u001b[39mif\u001b[39;00m dtype \u001b[39mis\u001b[39;00m \u001b[39mNone\u001b[39;00m:\n\u001b[0;32m--> 970\u001b[0m     \u001b[39mreturn\u001b[39;00m \u001b[39mself\u001b[39;49m\u001b[39m.\u001b[39;49mnumpy()\n\u001b[1;32m    971\u001b[0m \u001b[39melse\u001b[39;00m:\n\u001b[1;32m    972\u001b[0m     \u001b[39mreturn\u001b[39;00m \u001b[39mself\u001b[39m\u001b[39m.\u001b[39mnumpy()\u001b[39m.\u001b[39mastype(dtype, copy\u001b[39m=\u001b[39m\u001b[39mFalse\u001b[39;00m)\n",
      "\u001b[0;31mRuntimeError\u001b[0m: Can't call numpy() on Tensor that requires grad. Use tensor.detach().numpy() instead."
     ]
    }
   ],
   "source": [
    "d = (bb.S_0  - bb.K) / (bb.sigma * np.sqrt(bb.tte))\n",
    "C = np.exp(-bb.r * bb.tte) * (bb.S_0 - bb.K) * norm.cdf(d) + \\\n",
    "    np.exp(-r * t) * sigma * np.sqrt(t) * norm.pdf(d)"
   ]
  },
  {
   "cell_type": "code",
   "execution_count": 15,
   "metadata": {},
   "outputs": [],
   "source": [
    "# torch.distributions.Distribution.log_prob(0, d)"
   ]
  },
  {
   "cell_type": "code",
   "execution_count": null,
   "metadata": {},
   "outputs": [],
   "source": [
    "torch.exp(-bb.r * bb.tte) * (bb.S_0 * torch.exp(bb.r * bb.tte) - bb.K) * Phi(d) + \\\n",
    "    torch.exp(-bb.r * bb.tte) * torch.sqrt(bb.sigma**2/(2*bb.r) * (torch.exp(2*bb.r*bb.tte)-1) ) * torch.distributions.Distribution.log_prob(d).exp()"
   ]
  },
  {
   "cell_type": "code",
   "execution_count": 9,
   "metadata": {},
   "outputs": [],
   "source": [
    "def bachelier(sigma, S, K, r, t):\n",
    "    d = (S * np.exp(r*t) - K) / np.sqrt(sigma**2/(2 * r) * (np.exp(2*r*t)-1) )\n",
    "   \n",
    "    C = np.exp(-r * t) * (S * np.exp(r * t) - K) * norm.cdf(d) + \\\n",
    "        np.exp(-r * t) * np.sqrt(sigma**2/(2*r) * (np.exp(2*r*t)-1) ) * norm.pdf(d)\n",
    "\n",
    "    return C"
   ]
  },
  {
   "cell_type": "code",
   "execution_count": 16,
   "metadata": {},
   "outputs": [],
   "source": [
    "S = 100\n",
    "K = 100\n",
    "t =  90/365\n",
    "sigma =  0.232 * S\n",
    "r = .035\n"
   ]
  },
  {
   "cell_type": "code",
   "execution_count": 17,
   "metadata": {},
   "outputs": [],
   "source": [
    "import numpy as np\n",
    "from scipy.stats import norm"
   ]
  },
  {
   "cell_type": "code",
   "execution_count": 22,
   "metadata": {},
   "outputs": [
    {
     "data": {
      "text/plain": [
       "(5.018648381529781, 4.159347956422195)"
      ]
     },
     "execution_count": 22,
     "metadata": {},
     "output_type": "execute_result"
    }
   ],
   "source": [
    "bachelier(sigma, S, K, r, t), bachelier(sigma, S, K, r, t) - S + np.exp(-r * t) * K "
   ]
  },
  {
   "cell_type": "code",
   "execution_count": 10,
   "metadata": {},
   "outputs": [],
   "source": [
    "option = {\n",
    "    'S_0': 100.,\n",
    "    'strike': 100.,\n",
    "    'time_to_expiry': 90/365,\n",
    "    'implied_vol': 0.232,\n",
    "    'dividend': 0.0,\n",
    "    'riskfree_rate': .00001,\n",
    "    'option_sign':1.,\n",
    "\n",
    "}\n",
    "\n",
    "bb = bachelier_torch(**option)\n",
    "bs = black76_torch(**option)"
   ]
  },
  {
   "cell_type": "code",
   "execution_count": 11,
   "metadata": {},
   "outputs": [
    {
     "data": {
      "text/plain": [
       "(tensor([4.5755], grad_fn=<AddBackward0>), 4.593372344970703)"
      ]
     },
     "execution_count": 11,
     "metadata": {},
     "output_type": "execute_result"
    }
   ],
   "source": [
    "bb.premium(),bs.premium()"
   ]
  },
  {
   "cell_type": "code",
   "execution_count": 12,
   "metadata": {},
   "outputs": [
    {
     "data": {
      "text/plain": [
       "tensor([1.0000], grad_fn=<ExpBackward0>)"
      ]
     },
     "execution_count": 12,
     "metadata": {},
     "output_type": "execute_result"
    }
   ],
   "source": [
    "bb._ert"
   ]
  },
  {
   "cell_type": "code",
   "execution_count": null,
   "metadata": {},
   "outputs": [],
   "source": []
  },
  {
   "cell_type": "code",
   "execution_count": 8,
   "metadata": {},
   "outputs": [
    {
     "ename": "NameError",
     "evalue": "name 'np' is not defined",
     "output_type": "error",
     "traceback": [
      "\u001b[0;31m---------------------------------------------------------------------------\u001b[0m",
      "\u001b[0;31mNameError\u001b[0m                                 Traceback (most recent call last)",
      "Cell \u001b[0;32mIn[8], line 1\u001b[0m\n\u001b[0;32m----> 1\u001b[0m d \u001b[39m=\u001b[39m (S \u001b[39m*\u001b[39m np\u001b[39m.\u001b[39mexp(r\u001b[39m*\u001b[39mt) \u001b[39m-\u001b[39m K) \u001b[39m/\u001b[39m np\u001b[39m.\u001b[39msqrt(sigma\u001b[39m*\u001b[39m\u001b[39m*\u001b[39m\u001b[39m2\u001b[39m\u001b[39m/\u001b[39m(\u001b[39m2\u001b[39m \u001b[39m*\u001b[39m r) \u001b[39m*\u001b[39m (np\u001b[39m.\u001b[39mexp(\u001b[39m2\u001b[39m\u001b[39m*\u001b[39mr\u001b[39m*\u001b[39mt)\u001b[39m-\u001b[39m\u001b[39m1\u001b[39m) )\n\u001b[1;32m      2\u001b[0m np\u001b[39m.\u001b[39mexp(\u001b[39m-\u001b[39mr \u001b[39m*\u001b[39m t) \u001b[39m*\u001b[39m (S \u001b[39m*\u001b[39m np\u001b[39m.\u001b[39mexp(r \u001b[39m*\u001b[39m t) \u001b[39m-\u001b[39m K) \u001b[39m*\u001b[39m norm\u001b[39m.\u001b[39mcdf(d) \u001b[39m+\u001b[39m \\\n\u001b[1;32m      3\u001b[0m         np\u001b[39m.\u001b[39mexp(\u001b[39m-\u001b[39mr \u001b[39m*\u001b[39m t) \u001b[39m*\u001b[39m np\u001b[39m.\u001b[39msqrt(sigma\u001b[39m*\u001b[39m\u001b[39m*\u001b[39m\u001b[39m2\u001b[39m\u001b[39m/\u001b[39m(\u001b[39m2\u001b[39m\u001b[39m*\u001b[39mr) \u001b[39m*\u001b[39m (np\u001b[39m.\u001b[39mexp(\u001b[39m2\u001b[39m\u001b[39m*\u001b[39mr\u001b[39m*\u001b[39mt)\u001b[39m-\u001b[39m\u001b[39m1\u001b[39m) ) \u001b[39m*\u001b[39m norm\u001b[39m.\u001b[39mpdf(d)\n",
      "\u001b[0;31mNameError\u001b[0m: name 'np' is not defined"
     ]
    }
   ],
   "source": [
    "d = (S * np.exp(r*t) - K) / np.sqrt(sigma**2/(2 * r) * (np.exp(2*r*t)-1) )\n",
    "np.exp(-r * t) * (S * np.exp(r * t) - K) * norm.cdf(d) + \\\n",
    "        np.exp(-r * t) * np.sqrt(sigma**2/(2*r) * (np.exp(2*r*t)-1) ) * norm.pdf(d)"
   ]
  },
  {
   "cell_type": "code",
   "execution_count": 70,
   "metadata": {},
   "outputs": [
    {
     "data": {
      "image/png": "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",
      "text/latex": [
       "$\\displaystyle 0.394653583717622$"
      ],
      "text/plain": [
       "0.39465358371762194"
      ]
     },
     "execution_count": 70,
     "metadata": {},
     "output_type": "execute_result"
    }
   ],
   "source": [
    "norm.pdf(d)"
   ]
  },
  {
   "cell_type": "code",
   "execution_count": 69,
   "metadata": {},
   "outputs": [
    {
     "data": {
      "image/png": "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",
      "text/latex": [
       "$\\displaystyle 0.394653583717622$"
      ],
      "text/plain": [
       "0.39465358371762194"
      ]
     },
     "execution_count": 69,
     "metadata": {},
     "output_type": "execute_result"
    }
   ],
   "source": [
    "norm.pdf(d)"
   ]
  },
  {
   "cell_type": "code",
   "execution_count": 16,
   "metadata": {},
   "outputs": [
    {
     "ename": "NameError",
     "evalue": "name 'd' is not defined",
     "output_type": "error",
     "traceback": [
      "\u001b[0;31m---------------------------------------------------------------------------\u001b[0m",
      "\u001b[0;31mNameError\u001b[0m                                 Traceback (most recent call last)",
      "Cell \u001b[0;32mIn[16], line 5\u001b[0m\n\u001b[1;32m      2\u001b[0m std \u001b[39m=\u001b[39m torch\u001b[39m.\u001b[39mTensor([\u001b[39m1.0\u001b[39m])\n\u001b[1;32m      4\u001b[0m dist \u001b[39m=\u001b[39m torch\u001b[39m.\u001b[39mdistributions\u001b[39m.\u001b[39mnormal\u001b[39m.\u001b[39mNormal(mean, std)\n\u001b[0;32m----> 5\u001b[0m \u001b[39mprint\u001b[39m((torch\u001b[39m.\u001b[39mexp(dist\u001b[39m.\u001b[39mlog_prob(torch\u001b[39m.\u001b[39mTensor([d]))))\u001b[39m.\u001b[39mitem())\n",
      "\u001b[0;31mNameError\u001b[0m: name 'd' is not defined"
     ]
    }
   ],
   "source": [
    "mean = torch.Tensor([0.0])\n",
    "std = torch.Tensor([1.0])\n",
    "\n",
    "dist = torch.distributions.normal.Normal(mean, std)\n",
    "print((torch.exp(dist.log_prob(torch.Tensor([d])))).item())\n"
   ]
  },
  {
   "cell_type": "code",
   "execution_count": 1,
   "metadata": {},
   "outputs": [],
   "source": [
    "from option_pricers.black import black76_torch\n",
    "from option_pricers.kirk76 import kirk76_torch\n",
    "from option_pricers.bachelier import bachelier_torch\n",
    "import torch"
   ]
  },
  {
   "cell_type": "code",
   "execution_count": 2,
   "metadata": {},
   "outputs": [
    {
     "data": {
      "text/plain": [
       "tensor([2.7415], grad_fn=<AddBackward0>)"
      ]
     },
     "execution_count": 2,
     "metadata": {},
     "output_type": "execute_result"
    }
   ],
   "source": [
    "option = {\n",
    "    'S_0': 83.,\n",
    "    'strike': 79.,\n",
    "    'time_to_expiry': 77.95/365,\n",
    "    'implied_vol': 0.2905,\n",
    "    'dividend': 0.0,\n",
    "    'riskfree_rate': .042,\n",
    "    'option_sign':-1.,\n",
    "\n",
    "}\n",
    "bb = bachelier_torch(**option)\n",
    "bb.premium()"
   ]
  },
  {
   "cell_type": "code",
   "execution_count": 3,
   "metadata": {},
   "outputs": [
    {
     "data": {
      "text/plain": [
       "tensor([6.7058], grad_fn=<AddBackward0>)"
      ]
     },
     "execution_count": 3,
     "metadata": {},
     "output_type": "execute_result"
    }
   ],
   "source": [
    "option = {\n",
    "    'S_0': 83.,\n",
    "    'strike': 79.,\n",
    "    'time_to_expiry': 77.95/365,\n",
    "    'implied_vol': 0.2905,\n",
    "    'dividend': 0.0,\n",
    "    'riskfree_rate': .042,\n",
    "    'option_sign':1.,\n",
    "\n",
    "}\n",
    "bb = bachelier_torch(**option)\n",
    "bb.premium()"
   ]
  },
  {
   "cell_type": "code",
   "execution_count": 4,
   "metadata": {},
   "outputs": [],
   "source": [
    "d = (bb.S_0 - bb.K)/(bb.sigma * bb.sqrt_tte)"
   ]
  },
  {
   "cell_type": "code",
   "execution_count": 15,
   "metadata": {},
   "outputs": [],
   "source": [
    "Phi = torch.distributions.normal.Normal(0,1)"
   ]
  },
  {
   "cell_type": "code",
   "execution_count": 18,
   "metadata": {},
   "outputs": [],
   "source": [
    "cdfd = Phi.cdf((bb.option_sign * d))\n",
    "pdfd = torch.exp(Phi.log_prob(d))"
   ]
  },
  {
   "cell_type": "code",
   "execution_count": null,
   "metadata": {},
   "outputs": [],
   "source": []
  },
  {
   "cell_type": "code",
   "execution_count": 21,
   "metadata": {},
   "outputs": [],
   "source": [
    "bachelier_sigma = bb.sigma * bb.S_0\n",
    "\n",
    "bb.npv_pytorch = bb.ert * cdfd * (bb.option_sign * (bb.S_0 - bb.K)) + \\\n",
    "    (pdfd * bachelier_sigma * bb.sqrt_tte)"
   ]
  },
  {
   "cell_type": "code",
   "execution_count": 22,
   "metadata": {},
   "outputs": [
    {
     "data": {
      "text/plain": [
       "tensor([3.9643], grad_fn=<AddBackward0>)"
      ]
     },
     "execution_count": 22,
     "metadata": {},
     "output_type": "execute_result"
    }
   ],
   "source": [
    "bb.npv_pytorch "
   ]
  },
  {
   "cell_type": "code",
   "execution_count": 19,
   "metadata": {},
   "outputs": [
    {
     "data": {
      "text/plain": [
       "(tensor([1.], grad_fn=<MulBackward0>), tensor([0.], grad_fn=<ExpBackward0>))"
      ]
     },
     "execution_count": 19,
     "metadata": {},
     "output_type": "execute_result"
    }
   ],
   "source": [
    "cdfd,pdfd"
   ]
  },
  {
   "cell_type": "code",
   "execution_count": 14,
   "metadata": {},
   "outputs": [
    {
     "data": {
      "text/plain": [
       "tensor([29.7956], grad_fn=<DivBackward0>)"
      ]
     },
     "execution_count": 14,
     "metadata": {},
     "output_type": "execute_result"
    }
   ],
   "source": [
    "d"
   ]
  },
  {
   "cell_type": "code",
   "execution_count": 5,
   "metadata": {},
   "outputs": [
    {
     "data": {
      "text/plain": [
       "(tensor([1.], grad_fn=<MulBackward0>), tensor([0.], grad_fn=<ExpBackward0>))"
      ]
     },
     "execution_count": 5,
     "metadata": {},
     "output_type": "execute_result"
    }
   ],
   "source": [
    "bb.cdfd_pdfd"
   ]
  },
  {
   "cell_type": "code",
   "execution_count": 7,
   "metadata": {},
   "outputs": [],
   "source": [
    "_X = bb.S_0\n",
    "_K = bb.K\n",
    "_t = bb.tte\n",
    "_r = bb.r # torch.tensor([0.035]) # \n",
    "_s = bb.sigma"
   ]
  },
  {
   "cell_type": "code",
   "execution_count": 8,
   "metadata": {},
   "outputs": [
    {
     "data": {
      "text/plain": [
       "(tensor([0.6402], grad_fn=<MulBackward0>),\n",
       " tensor([0.3740], grad_fn=<ExpBackward0>))"
      ]
     },
     "execution_count": 8,
     "metadata": {},
     "output_type": "execute_result"
    }
   ],
   "source": [
    "bb._cdfd_pdfd"
   ]
  },
  {
   "cell_type": "code",
<<<<<<< HEAD
<<<<<<< HEAD
   "execution_count": 2,
=======
   "execution_count": 9,
>>>>>>> 133c7d9 (bach)
=======
   "execution_count": 9,
>>>>>>> 26d8fa907e2d2461a83ebbfc43e55b52f8b0dd0e
   "metadata": {},
   "outputs": [],
   "source": [
    "def bfs_price(_opttyp, _X, _K, _t, _r, _s):\n",
    "\tPhi = torch.distributions.Normal(0,1)\n",
    "\t_d = (_X - _K) / (_s * torch.sqrt(_t))\n",
    "\tif _opttyp == \"C\":\n",
    "\t\treturn torch.exp(-_r*_t) * (Phi.cdf(_d) * (_X - _K) + torch.exp(Phi.log_prob(_d)) * (_s * torch.sqrt(_t)))\n",
    "\telse:\n",
    "\t\treturn torch.exp(-_r*_t) * (Phi.cdf(-_d) * (_K - _X) + torch.exp(Phi.log_prob(_d)) * (_s * torch.sqrt(_t)))\n",
    "\n"
   ]
  },
  {
   "cell_type": "code",
<<<<<<< HEAD
<<<<<<< HEAD
   "execution_count": 3,
=======
   "execution_count": 10,
>>>>>>> 133c7d9 (bach)
=======
   "execution_count": 10,
>>>>>>> 26d8fa907e2d2461a83ebbfc43e55b52f8b0dd0e
   "metadata": {},
   "outputs": [
    {
     "ename": "NameError",
     "evalue": "name '_X' is not defined",
     "output_type": "error",
     "traceback": [
      "\u001b[0;31m---------------------------------------------------------------------------\u001b[0m",
      "\u001b[0;31mNameError\u001b[0m                                 Traceback (most recent call last)",
      "Cell \u001b[0;32mIn[3], line 1\u001b[0m\n\u001b[0;32m----> 1\u001b[0m p \u001b[39m=\u001b[39m bfs_price(\u001b[39m'\u001b[39m\u001b[39mP\u001b[39m\u001b[39m'\u001b[39m, _X, _K, _t, _r, _s\u001b[39m*\u001b[39m _X)\n\u001b[1;32m      2\u001b[0m c \u001b[39m=\u001b[39m bfs_price(\u001b[39m'\u001b[39m\u001b[39mC\u001b[39m\u001b[39m'\u001b[39m, _X, _K, _t, _r, _s\u001b[39m*\u001b[39m _X)\n",
      "\u001b[0;31mNameError\u001b[0m: name '_X' is not defined"
     ]
    }
   ],
   "source": [
    "p = bfs_price('P', _X, _K, _t, _r, _s* _X)\n",
    "c = bfs_price('C', _X, _K, _t, _r, _s* _X)"
   ]
  },
  {
   "cell_type": "code",
   "execution_count": 11,
   "metadata": {},
   "outputs": [
    {
     "data": {
      "text/plain": [
       "(tensor([2.7043], grad_fn=<MulBackward0>),\n",
       " tensor([6.6686], grad_fn=<MulBackward0>))"
      ]
     },
     "execution_count": 11,
     "metadata": {},
     "output_type": "execute_result"
    }
   ],
   "source": [
    "p,c"
   ]
  },
  {
   "cell_type": "code",
   "execution_count": 34,
   "metadata": {},
   "outputs": [],
   "source": [
    "b =  _s* _X"
   ]
  },
  {
   "cell_type": "code",
   "execution_count": 35,
   "metadata": {},
   "outputs": [],
   "source": [
    "_d = (_X - _K) / (b * torch.sqrt(_t))"
   ]
  },
  {
   "cell_type": "code",
   "execution_count": 36,
   "metadata": {},
   "outputs": [
    {
     "data": {
      "text/plain": [
       "tensor([0.3590], grad_fn=<DivBackward0>)"
      ]
     },
     "execution_count": 36,
     "metadata": {},
     "output_type": "execute_result"
    }
   ],
   "source": [
    "_d"
   ]
  },
  {
   "cell_type": "code",
   "execution_count": 37,
   "metadata": {},
   "outputs": [
    {
     "data": {
      "text/plain": [
       "tensor([6.6686], grad_fn=<MulBackward0>)"
      ]
     },
     "execution_count": 37,
     "metadata": {},
     "output_type": "execute_result"
    }
   ],
   "source": [
    "torch.exp(-_r*_t) * (Phi.cdf(_d) * (_X - _K) + torch.exp(Phi.log_prob(_d)) * (b * torch.sqrt(_t)))"
   ]
  },
  {
   "cell_type": "code",
   "execution_count": 213,
   "metadata": {},
   "outputs": [
    {
     "data": {
      "text/plain": [
       "0.03574444353580475"
      ]
     },
     "execution_count": 213,
     "metadata": {},
     "output_type": "execute_result"
    }
   ],
   "source": [
    "_X.grad.item()"
   ]
  },
  {
   "cell_type": "code",
   "execution_count": null,
   "metadata": {},
   "outputs": [],
   "source": []
  },
  {
   "cell_type": "code",
   "execution_count": 214,
   "metadata": {},
   "outputs": [
    {
     "data": {
      "text/plain": [
       "4.760245323181152"
      ]
     },
     "execution_count": 214,
     "metadata": {},
     "output_type": "execute_result"
    }
   ],
   "source": [
    "c.item()"
   ]
  },
  {
   "cell_type": "code",
   "execution_count": 205,
   "metadata": {},
   "outputs": [
    {
     "data": {
      "text/plain": [
       "4.779132321476936"
      ]
     },
     "execution_count": 205,
     "metadata": {},
     "output_type": "execute_result"
    }
   ],
   "source": [
    "c.item()+delta.item()+_X.grad.item()"
   ]
  },
  {
   "cell_type": "code",
   "execution_count": 179,
   "metadata": {},
   "outputs": [],
   "source": [
    "price = c.item()+delta.item()*_X.grad.item()"
   ]
  },
  {
   "cell_type": "code",
   "execution_count": 181,
   "metadata": {},
   "outputs": [
    {
     "data": {
      "text/plain": [
       "4.213690303393814"
      ]
     },
     "execution_count": 181,
     "metadata": {},
     "output_type": "execute_result"
    }
   ],
   "source": [
    "@njit(float64[:](float64, float64, float64, float64, int16), cache=True, fastmath=True)\n",
    "def _calc_ndn(s, k, sigma, tte, option_sign):\n",
    "    dn = (s - k) / (sigma * sqrt(tte))\n",
    "    ndn = norm_cdf(option_sign * dn)\n",
    "    ndnd = norm_pdf(dn)\n",
    "    return array((ndn, ndnd))\n",
    "\n",
    "\n",
    "@njit(float64(float64, float64, float64, float64, float64, float64, int16), cache=True, fastmath=True)\n",
    "def bachelier_price(s, k, r, b, sigma, tte, option_sign):\n",
    "    ndn, ndnd = _calc_ndn(s, k, sigma, tte, option_sign)\n",
    "    return option_sign * (s - k) * ndn + sigma * sqrt(tte) * ndnd\n"
   ]
  },
  {
   "cell_type": "code",
   "execution_count": null,
   "metadata": {},
   "outputs": [],
   "source": [
    "\tPhi = torch.distributions.Normal(0,1)\n",
    "\t_d = (_X - _K) / (_s * torch.sqrt(_t))\n",
    "\tif _opttyp == \"C\":\n",
    "\t\treturn torch.exp(-_r*_t) * (Phi.cdf(_d) * (_X - _K) + torch.exp(Phi.log_prob(_d)) * (_s * torch.sqrt(_t)))\n",
    "\telse:\n",
    "\t\treturn torch.exp(-_r*_t) * (Phi.cdf(-_d) * (_K - _X) + torch.exp(Phi.log_prob(_d)) * (_s * torch.sqrt(_t)))"
   ]
  }
 ],
 "metadata": {
  "kernelspec": {
   "display_name": "mrisk",
   "language": "python",
   "name": "python3"
  },
  "language_info": {
   "codemirror_mode": {
    "name": "ipython",
    "version": 3
   },
   "file_extension": ".py",
   "mimetype": "text/x-python",
   "name": "python",
   "nbconvert_exporter": "python",
   "pygments_lexer": "ipython3",
   "version": "3.11.4"
  },
  "orig_nbformat": 4
 },
 "nbformat": 4,
 "nbformat_minor": 2
}
