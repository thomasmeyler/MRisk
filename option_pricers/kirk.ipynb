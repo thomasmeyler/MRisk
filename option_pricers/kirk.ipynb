{
 "cells": [
  {
   "cell_type": "markdown",
   "metadata": {},
   "source": [
    "Kirk builds on BS76 and takes of the ratio of two log-normal distributions being approximately normally distributed. \n",
    "Thus one can take the ratio of the two prices vs. the spread, this allows one to use the BS76 framework to price a spread option. Which is very fast. "
   ]
  },
  {
   "cell_type": "code",
   "execution_count": 1,
   "metadata": {},
   "outputs": [],
   "source": [
    "from math import exp, sqrt, log\n",
    "from scipy.stats import norm\n",
    "\n",
    "def black76(option_type, f, k, t, r, v):\n",
    "         \n",
    "   \n",
    "    \n",
    "    lnFK = log(f /k)\n",
    "    si2 = (v**2/2)*t\n",
    "    sqrt_tte = sqrt(t)\n",
    "    \n",
    "    d1 = (lnFK + (r + si2)) / (v*sqrt_tte)\n",
    "    d2 = d1 - v*sqrt_tte\n",
    "    \n",
    "    ert = exp(-r * t)\n",
    "    \n",
    "    if option_type == 1.:\n",
    "        value = ert * (f * norm.cdf(d1) - k * norm.cdf(d2))\n",
    "    else:\n",
    "        value = ert * (k * norm.cdf(-d2) - f * norm.cdf(-d1) )\n",
    "    return value\n",
    "\n",
    "\n",
    "def kirks_76(option_type, f1, f2, k, t, r, v1, v2, corr):\n",
    "   \n",
    "    fs1 = f1 / (f2 + k)\n",
    "    fs2 = f2 / (f2 + k)\n",
    "    v = sqrt((v1 ** 2) + ((v2 * fs2) ** 2) - (2 * corr * v1 * v2 * fs2))\n",
    "    premium = black76(option_type, fs1, 1.0, t, r, v)\n",
    "\n",
    "    # Have the GBS function return a value\n",
    "    return premium * (f2 + k)"
   ]
  },
  {
   "cell_type": "code",
   "execution_count": 2,
   "metadata": {},
   "outputs": [
    {
     "data": {
      "text/plain": [
       "856.1064820506426"
      ]
     },
     "execution_count": 2,
     "metadata": {},
     "output_type": "execute_result"
    }
   ],
   "source": [
    "black76(1,1000,100,1,0.05,0.2)"
   ]
  },
  {
   "cell_type": "code",
   "execution_count": 18,
   "metadata": {},
   "outputs": [
    {
     "data": {
      "text/plain": [
       "0.5006582870690227"
      ]
     },
     "execution_count": 18,
     "metadata": {},
     "output_type": "execute_result"
    }
   ],
   "source": [
    "\n",
    "kirks_76(-1,490,510,-25,90/365,0.035,0.23,0.21,0.98)"
   ]
  },
  {
   "cell_type": "code",
   "execution_count": null,
   "metadata": {},
   "outputs": [],
   "source": []
  },
  {
   "cell_type": "code",
   "execution_count": null,
   "metadata": {},
   "outputs": [],
   "source": []
  }
 ],
 "metadata": {
  "kernelspec": {
   "display_name": "mRisk",
   "language": "python",
   "name": "python3"
  },
  "language_info": {
   "codemirror_mode": {
    "name": "ipython",
    "version": 3
   },
   "file_extension": ".py",
   "mimetype": "text/x-python",
   "name": "python",
   "nbconvert_exporter": "python",
   "pygments_lexer": "ipython3",
   "version": "3.11.4"
  },
  "orig_nbformat": 4
 },
 "nbformat": 4,
 "nbformat_minor": 2
}
