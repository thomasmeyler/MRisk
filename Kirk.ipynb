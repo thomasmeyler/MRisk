{
 "cells": [
  {
   "cell_type": "markdown",
   "metadata": {},
   "source": [
    "Spread Option (Kirk's Approximation) Calculation\n",
    "Spread options are based on the spread between two commodity prices. They are commonly used to model physical investments as \"real options\" or to mark-to-market contracts that hedge physical assets. For example, a natural gas fueled electrical generation unit can be used to convert fuel (natural gas) into electricity. Whenever this conversion is profitable, it would be rational to operate the unit. This type of conversion is readily modeled by a spread option. When the spread of (electricity prices - fuel costs) is greater than the conversion cost, then the unit would operate. In this example, the conversion cost, which might be called the Variable Operations and Maintenance or VOM for a generation unit, would represent the strike price.\n",
    "\n",
    "Analytic formulas similar to the Black Scholes equation are commonly used to value commodity spread options. One such formula is called Kirk’s approximation. While an exact closed form solution does not exist to value spread options, approximate solutions can give reasonably accurate results. Kirk’s approximation uses a Black Scholes style framework to analyze the joint distribution that results from the ratio of two log-normal distributions.\n",
    "\n",
    "In a Black Scholes equation, the distribution of price returns is assumed to be normally distributed on the expiration date. Kirk’s approximation builds on the Black Scholes framework by taking advantage of the fact that the ratio of two log-normal distributions is approximately normally distributed. By modeling a ratio of two prices rather than the spread between the prices, Kirk’s approximation can use the same formulas designed for options based on a single underlying. In other words, Kirk’s approximation uses an algebraic transformation to fit the spread option into the Black Scholes framework.\n",
    "\n",
    "The payoff of a spread option is show in Figure 4 - Spread Option Payoff.\n",
    "\n",
    "\\begin{equation}\n",
    "\n",
    "C = max[F_1 - F_2 - X, 0] \\end{equation}\n",
    "\n",
    "\\begin{equation}\n",
    "\n",
    "P = max[X - (F_1 - F_2), 0] \\end{equation}\n",
    "\n",
    "where\n",
    "\n",
    "| Symbol | Meaning |\n",
    "\n",
    "|--------|----------------------------------------------------| | F_1 | Price of Asset 1, The prices of the first asset. | | F_2 | Price of Asset 2. The price of the second asset. |\n",
    "\n",
    "Figure 4 - Spread Option Payoff\n",
    "\n",
    "This can be algebraically manipulated as shown in Figure 5 - Spread Option Payoff, Manipulated.\n",
    "\n",
    "\\begin{equation}\n",
    "\n",
    "C = max \\biggl[\\frac{F_1}{F_2+X}-1,0 \\biggr](F_2 + X) \\end{equation}\n",
    "\n",
    "\\begin{equation}\n",
    "\n",
    "P = max \\biggl[1-\\frac{F_1}{F_2+X},0 \\biggr](F_2 + X) \\end{equation}\n",
    "\n",
    "Figure 5 - Spread Option Payoff, Manipulated\n",
    "\n",
    "This allows Kirk’s approximation to model the distribution of the spread as the ratio of the price of asset 1 over the price of asset 2 plus the strike price. This ratio can then be converted into a formula very similar to the Generalized Black Scholes formulas. In fact, this is the Black Scholes formula shown above with the addition of a (F_2 + X) term (See Figure 6 – Kirk’s Approximation Ratio).\n",
    "\n",
    "Ratio of prices \\begin{equation}\n",
    "\n",
    "F = \\frac{F_1}{F_2 + X} \\end{equation}\n",
    "\n",
    "The ratio implies that the option is profitable to exercise (in the money) whenever the ratio of prices (F in the formula above) is greater than 1. This occurs the cost of the finished product (F_1) exceeds total cost of the raw materials (F_2) and the conversion cost (X). This requires a modification to the Call/Put Price formulas and to the D_1 formula. Because the option is in the money when F>1, the \"strike\" price used in inner square brackets of the Call/Put Price formulas and the D1 formula is set to 1.\n",
    "\n",
    "Spread Option Call Price \\begin{equation}\n",
    "\n",
    "C = (F_2 + X)\\biggl[Fe^{(b-r)T} N(D_1) - e^{-rT} N(D_2)\\biggr] \\end{equation}\n",
    "\n",
    "Spread Option Put Price \\begin{equation}\n",
    "\n",
    "P = (F_2 + X)\\biggl[e^{-rT} N(-D_2) - Fe^{(b-r)T} N(-D_1)\\biggr] \\end{equation}\n",
    "\n",
    "\\begin{equation}\n",
    "\n",
    "D_1 = \\frac{ln(F) + (b+\\frac{V^2}{2})T}{V*\\sqrt{T}} \\end{equation}\n",
    "\n",
    "\\begin{equation}\n",
    "\n",
    "D_2 = D_1 - V\\sqrt{T} \\end{equation}\n",
    "\n",
    "Figure 6- Kirk's Approximation Ratio\n",
    "\n",
    "The key complexity is determining the appropriate volatility that needs to be used in the equation. The “approximation” which defines Kirk’s approximation is the assumption that the ratio of two log-normal distributions is normally distributed. That assumption makes it possible to estimate the volatility needed for the modified Black Scholes style equation. (See Figure 7 - Kirk's Approximation (Volatility)).\n",
    "\n",
    "\\begin{equation}\n",
    "\n",
    "V = \\sqrt{ V_1^{2}+ \\biggl[V_2\\frac{F_2}{F_2+X}\\biggr]^2 - 2ρ V_1 V_2 \\frac{F_2}{F_2+X} } \\end{equation}\n",
    "\n",
    "| Symbol | Meaning | |--------------|---------------------------------------------------------------------------------------------------------------------------------------------------------------------------------------------------------------------------------------------------------------------------------------------------------------------------------------------------------------------------------------| | V | Volatility. The Kirk's approximation volatility that will be placed into the formula shown in Figure 6 | | V1 | Volatility of Asset 1. The strike, or exercise, price of the option. | | V2 | Volatility of Asset 2. The volatility of the second asset | | ρ | Correlation. The correlation between price of asset 1 and the price of asset 2. |\n",
    "\n",
    "Figure 7- Kirk's Approximation (Volatility)\n",
    "\n",
    "A second complexity is that the prices of two assets (F1 and F2) have to be in the same units. For example, in a heat rate option, the option represents the ability to convert fuel (natural gas) into electricity. The price of the first asset, electricity, might be quoted in US dollars per megawatt-hour or USD/MWH. However, the price of the second asset might be quoted in USD/MMBTU. To use the approximation, it is necessary to convert the price of the second asset into the units of the first asset (See Example 1 - a Heat Rate Option). This conversion rate will typically be specified as part of the contract.\n",
    "\n",
    "Example: A 10 MMBTU/MWH heat rate call option\n",
    "\n",
    "F1 = price of electricity = USD 35/MWH\n",
    "F2* = price of natural gas = USD 3.40/MMBTU; This is not the price to plug into the model!\n",
    "V1 = volatility of electricity forward prices = 35%\n",
    "V2 = volatility of natural gas forward price = 35%\n",
    "Rho = correlation between electricity and natural gas forward prices = 90%\n",
    "VOM = variable operation and maintenance cost (the conversion cost) = USD 3/MWH\n",
    "Before being placed into a spread option model, the price of natural gas would need to be converted into the correct units.\n",
    "\n",
    "F2 = Heat Rate * Fuel Cost = (10 MMBTU/MWH)(USD 3.40/MMBTU) = USD 34/MWH\n",
    "The strike price would be set equal to the conversion cost\n",
    "\n",
    "X = VOM costs = USD 3/MWH\n",
    "Example 1 - a Heat Rate Call Option\n",
    "\n",
    "Another important consideration (not discussed in this write-up) is that volatility and correlation need to be matched to the tenor of the underlying assets. This means that it is necessary to measure the volatility of forward prices rather than spot prices. It may also be necessary to match the volatility and correlation to the correct month. For example, power prices in August may behave very differently than power prices in October or May in certain regions.\n",
    "\n",
    "Like any model, spread options are subject to the \"garbage in = garbage out\" problem. However, the relative complexity of modeling commodity prices (the typical underlying for spread options) makes calibrating inputs a key part of the model."
   ]
  },
  {
   "cell_type": "code",
   "execution_count": 20,
   "metadata": {},
   "outputs": [],
   "source": [
    "import math \n",
    "from scipy.stats import norm\n",
    "from scipy.stats import mvn\n",
    "_DEBUG = False"
   ]
  },
  {
   "cell_type": "code",
   "execution_count": 21,
   "metadata": {},
   "outputs": [
    {
     "name": "stderr",
     "output_type": "stream",
     "text": [
      "<>:2: SyntaxWarning: \"is\" with a literal. Did you mean \"==\"?\n",
      "<>:2: SyntaxWarning: \"is\" with a literal. Did you mean \"==\"?\n",
      "/var/folders/sw/f7kh908n30jbcy0ycyy0nmqh0000gq/T/ipykernel_15592/1869574776.py:2: SyntaxWarning: \"is\" with a literal. Did you mean \"==\"?\n",
      "  if (__name__ is \"__main__\") and (_DEBUG is True):\n"
     ]
    }
   ],
   "source": [
    "def _debug(debug_input):\n",
    "    if (__name__ is \"__main__\") and (_DEBUG is True):\n",
    "        print(debug_input)"
   ]
  },
  {
   "cell_type": "code",
   "execution_count": 22,
   "metadata": {},
   "outputs": [],
   "source": [
    "def _gbs(option_type, fs, x, t, r, b, v):\n",
    "    _debug(\"Debugging Information: _gbs()\")\n",
    "    # -----------\n",
    "    # Test Inputs (throwing an exception on failure)\n",
    "    # _gbs_test_inputs(option_type, fs, x, t, r, b, v)\n",
    "\n",
    "    # -----------\n",
    "    # Create preliminary calculations\n",
    "    t__sqrt = math.sqrt(t)\n",
    "    d1 = (math.log(fs / x) + (b + (v * v) / 2) * t) / (v * t__sqrt)\n",
    "    d2 = d1 - v * t__sqrt\n",
    "\n",
    "    if option_type == \"c\":\n",
    "        # it's a call\n",
    "        _debug(\"     Call Option\")\n",
    "        value = fs * math.exp((b - r) * t) * norm.cdf(d1) - x * math.exp(-r * t) * norm.cdf(d2)\n",
    "        delta = math.exp((b - r) * t) * norm.cdf(d1)\n",
    "        gamma = math.exp((b - r) * t) * norm.pdf(d1) / (fs * v * t__sqrt)\n",
    "        theta = -(fs * v * math.exp((b - r) * t) * norm.pdf(d1)) / (2 * t__sqrt) - (b - r) * fs * math.exp(\n",
    "            (b - r) * t) * norm.cdf(d1) - r * x * math.exp(-r * t) * norm.cdf(d2)\n",
    "        vega = math.exp((b - r) * t) * fs * t__sqrt * norm.pdf(d1)\n",
    "        rho = x * t * math.exp(-r * t) * norm.cdf(d2)\n",
    "    else:\n",
    "        # it's a put\n",
    "        _debug(\"     Put Option\")\n",
    "        value = x * math.exp(-r * t) * norm.cdf(-d2) - (fs * math.exp((b - r) * t) * norm.cdf(-d1))\n",
    "        delta = -math.exp((b - r) * t) * norm.cdf(-d1)\n",
    "        gamma = math.exp((b - r) * t) * norm.pdf(d1) / (fs * v * t__sqrt)\n",
    "        theta = -(fs * v * math.exp((b - r) * t) * norm.pdf(d1)) / (2 * t__sqrt) + (b - r) * fs * math.exp(\n",
    "            (b - r) * t) * norm.cdf(-d1) + r * x * math.exp(-r * t) * norm.cdf(-d2)\n",
    "        vega = math.exp((b - r) * t) * fs * t__sqrt * norm.pdf(d1)\n",
    "        rho = -x * t * math.exp(-r * t) * norm.cdf(-d2)\n",
    "\n",
    "    _debug(\"     d1= {0}\\n     d2 = {1}\".format(d1, d2))\n",
    "    _debug(\"     delta = {0}\\n     gamma = {1}\\n     theta = {2}\\n     vega = {3}\\n     rho={4}\".format(delta, gamma,\n",
    "                                                                                                        theta, vega,\n",
    "                                                                                                        rho))\n",
    "    \n",
    "    return value, delta, gamma, theta, vega, rho    "
   ]
  },
  {
   "cell_type": "code",
   "execution_count": 23,
   "metadata": {},
   "outputs": [],
   "source": [
    "def kirks_76(option_type, f1, f2, x, t, r, v1, v2, corr):\n",
    "    # create the modifications to the GBS formula to handle spread options\n",
    "    b = 0\n",
    "    fs = f1 / (f2 + x)\n",
    "    f_temp = f2 / (f2 + x)\n",
    "    v = math.sqrt((v1 ** 2) + ((v2 * f_temp) ** 2) - (2 * corr * v1 * v2 * f_temp))\n",
    "    my_values = _gbs(option_type, fs, 1.0, t, r, b, v)\n",
    "\n",
    "    # Have the GBS function return a value\n",
    "    return my_values[0] * (f2 + x), 0, 0, 0, 0, 0"
   ]
  },
  {
   "cell_type": "code",
   "execution_count": 32,
   "metadata": {},
   "outputs": [
    {
     "data": {
      "text/plain": [
       "(66.72629892584686, 0, 0, 0, 0, 0)"
      ]
     },
     "execution_count": 32,
     "metadata": {},
     "output_type": "execute_result"
    }
   ],
   "source": [
    "kirks_76('c',2900,3050, 1, 0.5,0.035, .35,.34,0.9)"
   ]
  },
  {
   "cell_type": "code",
   "execution_count": 58,
   "metadata": {},
   "outputs": [
    {
     "data": {
      "text/plain": [
       "(73.93622677970144, 0, 0, 0, 0, 0)"
      ]
     },
     "execution_count": 58,
     "metadata": {},
     "output_type": "execute_result"
    }
   ],
   "source": [
    "f1 = 1360\n",
    "f2 = 1280\n",
    "v1 = 0.1620\n",
    "v2 = 0.1538\n",
    "t = 303/365\n",
    "r = .035\n",
    "\n",
    "kirks_76('C',f1,f2, 80., 303/365,0.035,v1,v2,0.5)"
   ]
  },
  {
   "cell_type": "code",
   "execution_count": 47,
   "metadata": {},
   "outputs": [],
   "source": [
    "    b = 0\n",
    "    fs = f1 / (f2 + 80)\n",
    "    f_temp = f2 / (f2 +80)\n",
    "    v = math.sqrt((v1 ** 2) + ((v2 * f_temp) ** 2) - (2 * 0.85 * v1 * v2 * f_temp))"
   ]
  },
  {
   "cell_type": "code",
   "execution_count": 48,
   "metadata": {},
   "outputs": [
    {
     "data": {
      "text/plain": [
       "(0.9712701626950392,\n",
       " 0.9713167001602521,\n",
       " 2.4642566036655677e-05,\n",
       " 0.033091003287355716,\n",
       " 0.0001751702565525056,\n",
       " 3.863247112196396e-05)"
      ]
     },
     "execution_count": 48,
     "metadata": {},
     "output_type": "execute_result"
    }
   ],
   "source": [
    "_gbs('c', fs, 1.0, t, r, b, v)"
   ]
  },
  {
   "cell_type": "code",
   "execution_count": 49,
   "metadata": {},
   "outputs": [
    {
     "data": {
      "text/plain": [
       "7.800135830119356"
      ]
     },
     "execution_count": 49,
     "metadata": {},
     "output_type": "execute_result"
    }
   ],
   "source": [
    "kirks_76(\"c\", f1=37.384913362, f2=42.1774, x=3.0, t=0.043055556, r=0, v1=0.608063, v2=0.608063, corr=.8)[0]\n"
   ]
  },
  {
   "cell_type": "code",
   "execution_count": 61,
   "metadata": {},
   "outputs": [
    {
     "data": {
      "text/plain": [
       "41.7618152766133"
      ]
     },
     "execution_count": 61,
     "metadata": {},
     "output_type": "execute_result"
    }
   ],
   "source": [
    "kirks_76(\"p\", f1, f2, x=80.0, t=0.95, r=0.035, v1=0.208063, v2=0.208063, corr=.92)[0]"
   ]
  },
  {
   "cell_type": "code",
   "execution_count": null,
   "metadata": {},
   "outputs": [],
   "source": []
  }
 ],
 "metadata": {
  "kernelspec": {
   "display_name": "mrisk",
   "language": "python",
   "name": "python3"
  },
  "language_info": {
   "codemirror_mode": {
    "name": "ipython",
    "version": 3
   },
   "file_extension": ".py",
   "mimetype": "text/x-python",
   "name": "python",
   "nbconvert_exporter": "python",
   "pygments_lexer": "ipython3",
   "version": "3.11.4"
  },
  "orig_nbformat": 4
 },
 "nbformat": 4,
 "nbformat_minor": 2
}
