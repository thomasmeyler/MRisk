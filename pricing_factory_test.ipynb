{
 "cells": [
  {
   "cell_type": "code",
   "execution_count": 1,
   "metadata": {},
   "outputs": [],
   "source": [
    "from option_pricers.pricing import PriceModel"
   ]
  },
  {
   "cell_type": "code",
   "execution_count": 2,
   "metadata": {},
   "outputs": [],
   "source": [
    "import torch\n",
    " \n",
    "class black76_torch(PriceModel):\n",
    "    def __init__(self, S_0, strike, time_to_expiry, implied_vol, dividend, riskfree_rate, option_sign):\n",
    "        super().__init__(S_0, strike, time_to_expiry, implied_vol, dividend, riskfree_rate, option_sign, 'Black76')\n",
    "        \n",
    "        self.gradient = None\n",
    "        self.npv_pytorch = None\n",
    "        self.greeks = None\n",
    "    \n",
    "    def premium(self):\n",
    "         \n",
    "        Phi = torch.distributions.Normal(0,1).cdf\n",
    "        \n",
    "        lnFK = torch.log(self.S_0 / self.K)\n",
    "        si2 = (self.sigma**2/2)*self.tte\n",
    "        sqrt_tte = torch.sqrt(self.tte)\n",
    "        \n",
    "        d1 = (lnFK + (self.r + si2)) / (self.sigma*sqrt_tte)\n",
    "        d2 = d1 - self.sigma*sqrt_tte\n",
    "        \n",
    "        if self.option_sign == 1.:\n",
    "            self.npv_pytorch = self._ert * (self.S_0 * Phi(d1) - self.K * Phi(d2))\n",
    "        else:\n",
    "            self.npv_pytorch = self._ert * ( self.K * Phi(-d2) - self.S_0 * Phi(-d1) )\n",
    "        return self.npv_pytorch.item()\n",
    "    \n",
    " \n",
    "class bsm73_torch(PriceModel):\n",
    "    \n",
    "    '''\n",
    "    this is the black scholes merton model where dividends are taken into account\n",
    "    \n",
    "    '''\n",
    "    def __init__(self, S_0, strike, time_to_expiry, implied_vol, dividend, riskfree_rate, option_sign):\n",
    "        super().__init__(S_0, strike, time_to_expiry, implied_vol, dividend, riskfree_rate, option_sign, 'Black73')\n",
    "        \n",
    "        self.gradient = None\n",
    "        self.npv_pytorch = None\n",
    "        self.greeks = None\n",
    "        \n",
    "        \n",
    "    \n",
    "    \n",
    "    \n",
    "    def premium(self):\n",
    "         \n",
    "        Phi = torch.distributions.Normal(0,1).cdf\n",
    "        \n",
    "        lnFK = torch.log(self.S_0 / self.K)\n",
    "        si2 = (self.sigma**2/2)*self.tte\n",
    "        sqrt_tte = torch.sqrt(self.tte)\n",
    "        \n",
    "        d1 = (lnFK + (self.r + si2)) / (self.sigma*sqrt_tte)\n",
    "        d2 = d1 - self.sigma*sqrt_tte\n",
    "        \n",
    "        if self.option_sign == 1.:\n",
    "            self.npv_pytorch = self._ert * (self.S_0 * Phi(d1) - self.K * Phi(d2))\n",
    "        else:\n",
    "            self.npv_pytorch = self._ert * ( self.K * Phi(-d2) - self.S_0 * Phi(-d1) )\n",
    "        return self.npv_pytorch.item()\n",
    "    "
   ]
  },
  {
   "cell_type": "code",
   "execution_count": 3,
   "metadata": {},
   "outputs": [
    {
     "ename": "NameError",
     "evalue": "name 'bs' is not defined",
     "output_type": "error",
     "traceback": [
      "\u001b[1;31m---------------------------------------------------------------------------\u001b[0m",
      "\u001b[1;31mNameError\u001b[0m                                 Traceback (most recent call last)",
      "Cell \u001b[1;32mIn[3], line 1\u001b[0m\n\u001b[1;32m----> 1\u001b[0m bs\u001b[39m.\u001b[39m_ert\n",
      "\u001b[1;31mNameError\u001b[0m: name 'bs' is not defined"
     ]
    }
   ],
   "source": [
    "bs._ert"
   ]
  },
  {
   "cell_type": "code",
   "execution_count": null,
   "metadata": {},
   "outputs": [],
   "source": []
  },
  {
   "cell_type": "code",
   "execution_count": null,
   "metadata": {},
   "outputs": [],
   "source": []
  },
  {
   "cell_type": "code",
   "execution_count": null,
   "metadata": {},
   "outputs": [],
   "source": []
  },
  {
   "cell_type": "code",
   "execution_count": 4,
   "metadata": {},
   "outputs": [],
   "source": [
    "option = {\n",
    "            'S_0': 1000., 'strike': 2500., \n",
    "            'time_to_expiry': .5, \n",
    "            'implied_vol': .27, \n",
    "            'dividend': 0.,\n",
    "            'riskfree_rate': .00, \n",
    "            'option_sign': -1.\n",
    "        }"
   ]
  },
  {
   "cell_type": "code",
   "execution_count": 5,
   "metadata": {},
   "outputs": [],
   "source": [
    "bs = bsm73_torch(**option)"
   ]
  },
  {
   "cell_type": "code",
   "execution_count": 6,
   "metadata": {},
   "outputs": [
    {
     "data": {
      "text/plain": [
       "tensor([1.], grad_fn=<ExpBackward0>)"
      ]
     },
     "execution_count": 6,
     "metadata": {},
     "output_type": "execute_result"
    }
   ],
   "source": [
    "bs.ert"
   ]
  },
  {
   "cell_type": "code",
   "execution_count": 7,
   "metadata": {},
   "outputs": [
    {
     "data": {
      "text/plain": [
       "1500.0"
      ]
     },
     "execution_count": 7,
     "metadata": {},
     "output_type": "execute_result"
    }
   ],
   "source": [
    "bs.premium()"
   ]
  },
  {
   "cell_type": "code",
   "execution_count": 8,
   "metadata": {},
   "outputs": [
    {
     "data": {
      "text/plain": [
       "{'underlying': 1000.0,\n",
       " 'strike': 2500.0,\n",
       " 'premium': 1500.0,\n",
       " 'delta': -0.9999986886978149,\n",
       " 'gamma': 3.275679105740892e-08,\n",
       " 'rho': 0.49999934434890747,\n",
       " 'vega': 0.0001133766199927777,\n",
       " 'theta': 3.0611688998760656e-05,\n",
       " 'strike_greek': -1.3102714468971044e-08}"
      ]
     },
     "execution_count": 8,
     "metadata": {},
     "output_type": "execute_result"
    }
   ],
   "source": [
    "bs.derivative  "
   ]
  },
  {
   "cell_type": "code",
   "execution_count": 9,
   "metadata": {},
   "outputs": [
    {
     "data": {
      "text/plain": [
       "tensor([1.], grad_fn=<ExpBackward0>)"
      ]
     },
     "execution_count": 9,
     "metadata": {},
     "output_type": "execute_result"
    }
   ],
   "source": [
    "torch.exp((bs.q - bs.r) * bs.tte)"
   ]
  },
  {
   "cell_type": "code",
   "execution_count": 17,
   "metadata": {},
   "outputs": [
    {
     "data": {
      "text/plain": [
       "tensor([0.], requires_grad=True)"
      ]
     },
     "execution_count": 17,
     "metadata": {},
     "output_type": "execute_result"
    }
   ],
   "source": [
    " bs.tte"
   ]
  },
  {
   "cell_type": "code",
   "execution_count": 154,
   "metadata": {},
   "outputs": [
    {
     "data": {
      "text/plain": [
       "{'underlying': 1000.0,\n",
       " 'strike': 2500.0,\n",
       " 'premium': 1473.9786376953125,\n",
       " 'delta': -0.9826518893241882,\n",
       " 'gamma': 1.1741434491341352e-08,\n",
       " 'rho': 0.4912600517272949,\n",
       " 'vega': 4.900754356640391e-05,\n",
       " 'theta': 0.03440604731440544,\n",
       " 'strike_greek': -4.696572020179701e-09}"
      ]
     },
     "execution_count": 154,
     "metadata": {},
     "output_type": "execute_result"
    }
   ],
   "source": [
    "bs.derivative"
   ]
  },
  {
   "cell_type": "code",
   "execution_count": 13,
   "metadata": {},
   "outputs": [
    {
     "data": {
      "text/plain": [
       "(tensor([0.2842], grad_fn=<AddBackward0>),)"
      ]
     },
     "execution_count": 13,
     "metadata": {},
     "output_type": "execute_result"
    }
   ],
   "source": [
    "bs.gradient"
   ]
  },
  {
   "cell_type": "code",
   "execution_count": 76,
   "metadata": {},
   "outputs": [],
   "source": [
    "import numpy as np\n",
    "import scipy.stats as si\n",
    "\n",
    "\n",
    "def PolanitzerNormsdist(x):\n",
    " PolanitzerNormsdist = si.norm.cdf(x,0.0,1.0)\n",
    " return (PolanitzerNormsdist)\n",
    "\n",
    "\n",
    "def PolanitzerBlackCall(FuturePrice, StrikePrice, Maturity, RiskFreeRate, Volatility):\n",
    "    d1 = (np.log(FuturePrice/StrikePrice)+(0.5*Volatility**2)*Maturity)/(Volatility*np.sqrt(Maturity))\n",
    "    d2 = (np.log(FuturePrice/StrikePrice)-(0.5*Volatility**2)*Maturity)/(Volatility*np.sqrt(Maturity))\n",
    "    PolanitzerBlackCall = np.exp(-RiskFreeRate*Maturity)*(FuturePrice*PolanitzerNormsdist(d1)-StrikePrice*PolanitzerNormsdist(d2))\n",
    "    return(PolanitzerBlackCall)\n",
    "\n",
    "def PolanitzerBlackPut(FuturePrice, StrikePrice, Maturity, RiskFreeRate, Volatility):\n",
    "    d1 = (np.log(FuturePrice/StrikePrice)+(0.5*Volatility**2)*Maturity)/(Volatility*np.sqrt(Maturity))\n",
    "    d2 = (np.log(FuturePrice/StrikePrice)-(0.5*Volatility**2)*Maturity)/(Volatility*np.sqrt(Maturity))\n",
    "    PolanitzerBlackPut = np.exp(-RiskFreeRate*Maturity)*(StrikePrice*PolanitzerNormsdist(-d2)-FuturePrice*PolanitzerNormsdist(-d1))\n",
    "    return(PolanitzerBlackPut)"
   ]
  },
  {
   "cell_type": "code",
   "execution_count": 117,
   "metadata": {},
   "outputs": [
    {
     "data": {
      "text/plain": [
       "1326.5805523713884"
      ]
     },
     "execution_count": 117,
     "metadata": {},
     "output_type": "execute_result"
    }
   ],
   "source": []
  },
  {
   "cell_type": "code",
   "execution_count": 157,
   "metadata": {},
   "outputs": [
    {
     "ename": "ImportError",
     "evalue": "Numba needs NumPy 1.24 or less",
     "output_type": "error",
     "traceback": [
      "\u001b[1;31m---------------------------------------------------------------------------\u001b[0m",
      "\u001b[1;31mImportError\u001b[0m                               Traceback (most recent call last)",
      "Cell \u001b[1;32mIn[157], line 1\u001b[0m\n\u001b[1;32m----> 1\u001b[0m \u001b[39mfrom\u001b[39;00m \u001b[39mnumba\u001b[39;00m \u001b[39mimport\u001b[39;00m njit, float64, int16\n\u001b[0;32m      2\u001b[0m \u001b[39mfrom\u001b[39;00m \u001b[39mnumpy\u001b[39;00m \u001b[39mimport\u001b[39;00m array\n\u001b[0;32m      3\u001b[0m \u001b[39mfrom\u001b[39;00m \u001b[39mmath\u001b[39;00m \u001b[39mimport\u001b[39;00m log, sqrt, exp, pi\n",
      "File \u001b[1;32mc:\\Users\\tmeyl\\miniconda3\\envs\\mrisk\\Lib\\site-packages\\numba\\__init__.py:55\u001b[0m\n\u001b[0;32m     50\u001b[0m             msg \u001b[39m=\u001b[39m (\u001b[39m\"\u001b[39m\u001b[39mNumba requires SciPy version 1.0 or greater. Got SciPy \u001b[39m\u001b[39m\"\u001b[39m\n\u001b[0;32m     51\u001b[0m                    \u001b[39mf\u001b[39m\u001b[39m\"\u001b[39m\u001b[39m{\u001b[39;00mscipy\u001b[39m.\u001b[39m__version__\u001b[39m}\u001b[39;00m\u001b[39m.\u001b[39m\u001b[39m\"\u001b[39m)\n\u001b[0;32m     52\u001b[0m             \u001b[39mraise\u001b[39;00m \u001b[39mImportError\u001b[39;00m(msg)\n\u001b[1;32m---> 55\u001b[0m _ensure_critical_deps()\n\u001b[0;32m     56\u001b[0m \u001b[39m# END DO NOT MOVE\u001b[39;00m\n\u001b[0;32m     57\u001b[0m \u001b[39m# ---------------------- WARNING WARNING WARNING ----------------------------\u001b[39;00m\n\u001b[0;32m     60\u001b[0m \u001b[39mfrom\u001b[39;00m \u001b[39m.\u001b[39;00m\u001b[39m_version\u001b[39;00m \u001b[39mimport\u001b[39;00m get_versions\n",
      "File \u001b[1;32mc:\\Users\\tmeyl\\miniconda3\\envs\\mrisk\\Lib\\site-packages\\numba\\__init__.py:42\u001b[0m, in \u001b[0;36m_ensure_critical_deps\u001b[1;34m()\u001b[0m\n\u001b[0;32m     40\u001b[0m     \u001b[39mraise\u001b[39;00m \u001b[39mImportError\u001b[39;00m(msg)\n\u001b[0;32m     41\u001b[0m \u001b[39melif\u001b[39;00m numpy_version \u001b[39m>\u001b[39m (\u001b[39m1\u001b[39m, \u001b[39m24\u001b[39m):\n\u001b[1;32m---> 42\u001b[0m     \u001b[39mraise\u001b[39;00m \u001b[39mImportError\u001b[39;00m(\u001b[39m\"\u001b[39m\u001b[39mNumba needs NumPy 1.24 or less\u001b[39m\u001b[39m\"\u001b[39m)\n\u001b[0;32m     43\u001b[0m \u001b[39mtry\u001b[39;00m:\n\u001b[0;32m     44\u001b[0m     \u001b[39mimport\u001b[39;00m \u001b[39mscipy\u001b[39;00m\n",
      "\u001b[1;31mImportError\u001b[0m: Numba needs NumPy 1.24 or less"
     ]
    }
   ],
   "source": [
    "from numba import njit, float64, int16\n",
    "from numpy import array\n",
    "from math import log, sqrt, exp, pi\n",
    "from galileo.option_pricer.compiled.math_utils import norm_cdf\n",
    "\n",
    "\n",
    "@njit(float64[:](float64, float64, float64, float64, float64), cache=True, fastmath=True)\n",
    "def calc_d12(s, k, b, sigma, tte):\n",
    "    sqrt_tte = sqrt(tte)\n",
    "    d1 = (log(s/k) + (b + sigma * sigma * 0.5) * tte) / (sigma * sqrt_tte)\n",
    "    d2 = d1 - sigma * sqrt_tte\n",
    "    return array((d1, d2))\n",
    "\n",
    "\n",
    "@njit(float64[:](float64, float64, float64, float64, float64, int16), cache=True, fastmath=True)\n",
    "def calc_nd12(s, k, b, sigma, tte, option_sign):\n",
    "    ds = calc_d12(s, k, b, sigma, tte)\n",
    "    nds = array((norm_cdf(option_sign * ds[0]), norm_cdf(option_sign * ds[1])))\n",
    "    return nds\n",
    "\n",
    "\n",
    "@njit(float64(float64, float64, float64, float64, float64, float64, int16), cache=True, fastmath=True)\n",
    "def black_price(s, k, r, b, sigma, tte, option_sign):\n",
    "    ebrt = exp((b - r) * tte)\n",
    "    ert = exp(-r * tte)\n",
    "    nds = calc_nd12(s, k, b, sigma, tte, option_sign)\n",
    "    price = option_sign * (s * ebrt * nds[0] - k * ert * nds[1])\n",
    "    return price"
   ]
  },
  {
   "cell_type": "code",
   "execution_count": null,
   "metadata": {},
   "outputs": [],
   "source": []
  }
 ],
 "metadata": {
  "kernelspec": {
   "display_name": "mrisk",
   "language": "python",
   "name": "python3"
  },
  "language_info": {
   "codemirror_mode": {
    "name": "ipython",
    "version": 3
   },
   "file_extension": ".py",
   "mimetype": "text/x-python",
   "name": "python",
   "nbconvert_exporter": "python",
   "pygments_lexer": "ipython3",
   "version": "3.11.4"
  },
  "orig_nbformat": 4
 },
 "nbformat": 4,
 "nbformat_minor": 2
}
