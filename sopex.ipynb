{
 "cells": [
  {
   "cell_type": "code",
   "execution_count": 1,
   "metadata": {},
   "outputs": [],
   "source": [
    "from option_pricers.pricing import PriceModel\n",
    "from option_pricers.black import black76_torch\n",
    "import torch\n",
    "\n",
    "import pandas as pd \n",
    "import numpy as np\n",
    "import os\n",
    "import yaml\n",
    "from utils.MAPPING import *\n",
    "from position.flat import *"
   ]
  },
  {
   "cell_type": "code",
   "execution_count": 2,
   "metadata": {},
   "outputs": [],
   "source": [
    "# split dataframe by columns whose names contain a string\n",
    "def split_dataframe(df, col_str):\n",
    "    cols = df.columns\n",
    "    cols = cols[cols.str.contains(col_str)]\n",
    "    cols = cols.union([\"Dates\"])\n",
    "    return df[cols]"
   ]
  },
  {
   "cell_type": "code",
   "execution_count": 3,
   "metadata": {},
   "outputs": [],
   "source": [
    "asset = yaml.load(open('utils/asset.yml'), Loader=yaml.FullLoader)"
   ]
  },
  {
   "cell_type": "code",
   "execution_count": 4,
   "metadata": {},
   "outputs": [],
   "source": [
    "pricing = pd.read_csv('data/allConts.csv')\n",
    "pricing.loc[:,'Dates'] = pd.to_datetime(pricing.Dates,format=\"%d/%m/%Y\")\n",
    "pricing = pricing.tail(3600)"
   ]
  },
  {
   "cell_type": "code",
   "execution_count": 5,
   "metadata": {},
   "outputs": [],
   "source": [
    "p_cols = pricing.columns.str[:2].unique()\n",
    "p_cols = p_cols.drop('Da')\n",
    "assets = [split_dataframe(pricing, _) for _ in p_cols]\n",
    "assets = dict(zip(p_cols,assets))"
   ]
  },
  {
   "cell_type": "code",
   "execution_count": 6,
   "metadata": {},
   "outputs": [
    {
     "data": {
      "text/html": [
       "<div>\n",
       "<style scoped>\n",
       "    .dataframe tbody tr th:only-of-type {\n",
       "        vertical-align: middle;\n",
       "    }\n",
       "\n",
       "    .dataframe tbody tr th {\n",
       "        vertical-align: top;\n",
       "    }\n",
       "\n",
       "    .dataframe thead th {\n",
       "        text-align: right;\n",
       "    }\n",
       "</style>\n",
       "<table border=\"1\" class=\"dataframe\">\n",
       "  <thead>\n",
       "    <tr style=\"text-align: right;\">\n",
       "      <th></th>\n",
       "      <th>Dates</th>\n",
       "      <th>QC1 Comdty</th>\n",
       "      <th>QC10 Comdty</th>\n",
       "      <th>QC2 Comdty</th>\n",
       "      <th>QC3 Comdty</th>\n",
       "      <th>QC4 Comdty</th>\n",
       "      <th>QC5 Comdty</th>\n",
       "      <th>QC6 Comdty</th>\n",
       "      <th>QC7 Comdty</th>\n",
       "      <th>QC8 Comdty</th>\n",
       "      <th>QC9 Comdty</th>\n",
       "    </tr>\n",
       "  </thead>\n",
       "  <tbody>\n",
       "    <tr>\n",
       "      <th>2560</th>\n",
       "      <td>2009-10-26 00:00:00</td>\n",
       "      <td>2175</td>\n",
       "      <td>2135</td>\n",
       "      <td>2208</td>\n",
       "      <td>2234</td>\n",
       "      <td>2166</td>\n",
       "      <td>2151</td>\n",
       "      <td>2135</td>\n",
       "      <td>2117</td>\n",
       "      <td>2106</td>\n",
       "      <td>2121</td>\n",
       "    </tr>\n",
       "    <tr>\n",
       "      <th>2561</th>\n",
       "      <td>2009-10-27 00:00:00</td>\n",
       "      <td>2172</td>\n",
       "      <td>2126</td>\n",
       "      <td>2207</td>\n",
       "      <td>2236</td>\n",
       "      <td>2163</td>\n",
       "      <td>2146</td>\n",
       "      <td>2126</td>\n",
       "      <td>2108</td>\n",
       "      <td>2097</td>\n",
       "      <td>2112</td>\n",
       "    </tr>\n",
       "    <tr>\n",
       "      <th>2562</th>\n",
       "      <td>2009-10-28 00:00:00</td>\n",
       "      <td>2153</td>\n",
       "      <td>2108</td>\n",
       "      <td>2186</td>\n",
       "      <td>2216</td>\n",
       "      <td>2145</td>\n",
       "      <td>2129</td>\n",
       "      <td>2108</td>\n",
       "      <td>2094</td>\n",
       "      <td>2079</td>\n",
       "      <td>2094</td>\n",
       "    </tr>\n",
       "    <tr>\n",
       "      <th>2563</th>\n",
       "      <td>2009-10-29 00:00:00</td>\n",
       "      <td>2147</td>\n",
       "      <td>2097</td>\n",
       "      <td>2182</td>\n",
       "      <td>2208</td>\n",
       "      <td>2137</td>\n",
       "      <td>2117</td>\n",
       "      <td>2099</td>\n",
       "      <td>2083</td>\n",
       "      <td>2068</td>\n",
       "      <td>2083</td>\n",
       "    </tr>\n",
       "    <tr>\n",
       "      <th>2564</th>\n",
       "      <td>2009-10-30 00:00:00</td>\n",
       "      <td>2127</td>\n",
       "      <td>2092</td>\n",
       "      <td>2168</td>\n",
       "      <td>2191</td>\n",
       "      <td>2120</td>\n",
       "      <td>2100</td>\n",
       "      <td>2081</td>\n",
       "      <td>2068</td>\n",
       "      <td>2063</td>\n",
       "      <td>2078</td>\n",
       "    </tr>\n",
       "  </tbody>\n",
       "</table>\n",
       "</div>"
      ],
      "text/plain": [
       "                    Dates  QC1 Comdty  QC10 Comdty  QC2 Comdty  QC3 Comdty  \\\n",
       "2560  2009-10-26 00:00:00        2175         2135        2208        2234   \n",
       "2561  2009-10-27 00:00:00        2172         2126        2207        2236   \n",
       "2562  2009-10-28 00:00:00        2153         2108        2186        2216   \n",
       "2563  2009-10-29 00:00:00        2147         2097        2182        2208   \n",
       "2564  2009-10-30 00:00:00        2127         2092        2168        2191   \n",
       "\n",
       "      QC4 Comdty  QC5 Comdty  QC6 Comdty  QC7 Comdty  QC8 Comdty  QC9 Comdty  \n",
       "2560        2166        2151        2135        2117        2106        2121  \n",
       "2561        2163        2146        2126        2108        2097        2112  \n",
       "2562        2145        2129        2108        2094        2079        2094  \n",
       "2563        2137        2117        2099        2083        2068        2083  \n",
       "2564        2120        2100        2081        2068        2063        2078  "
      ]
     },
     "execution_count": 6,
     "metadata": {},
     "output_type": "execute_result"
    }
   ],
   "source": [
    "assets['QC'].head()"
   ]
  },
  {
   "cell_type": "code",
   "execution_count": null,
   "metadata": {},
   "outputs": [],
   "source": []
  },
  {
   "cell_type": "code",
   "execution_count": 7,
   "metadata": {},
   "outputs": [],
   "source": [
    "dicts = {\n",
    "    'QC':\n",
    "        {\n",
    "            'LOTS': [100,500,-150,0,580],\n",
    "            'CONTS': ['U23','Z23','H24','K24','N24'],\n",
    "            'MULTIPLIER': 10,\n",
    "            'TICK_SIZE': 1,\n",
    "        },\n",
    "    'CC':\n",
    "        {\n",
    "            'LOTS': [0,-423,-298],\n",
    "            'CONTS': ['U23','Z23','H24'],\n",
    "            'MULTIPLIER': 10,\n",
    "            'TICK_SIZE': 1,\n",
    "        },\n",
    "     \n",
    "    'RC':\n",
    "        {\n",
    "            'LOTS': [15,-30,-34,27,6],\n",
    "            'CONTS': ['U23','X23', 'F24','H24','K24'],\n",
    "            'MULTIPLIER': 10,\n",
    "            'TICK_SIZE': 1,\n",
    "        },\n",
    "  \n",
    "    'KC':\n",
    "        {\n",
    "            'LOTS': [0,17,67,12,1],\n",
    "            'CONTS': ['U23','Z23','H24','K24','N24'],\n",
    "            'MULTIPLIER': 37500,\n",
    "            'TICK_SIZE': 0.01,\n",
    "        },\n",
    "    'SB':\n",
    "        {\n",
    "            'LOTS': [181,-304,-682,2448,-217,-422,255,218,-46],\n",
    "            'CONTS': ['V23','H24','K24','N24','V24','H25','K25','N25','V25'],\n",
    "            'MULTIPLIER': 112000,\n",
    "            'TICK_SIZE': 0.01,\n",
    "        },\n",
    "    'QW':{\n",
    "            'LOTS': [0,818,217,-719,611,-281,371,16],\n",
    "            'CONTS': ['V23','Z23','H24','K24','Q24','V24','Z24', 'H25'],\n",
    "            'MULTIPLIER': 50,\n",
    "            'TICK_SIZE': 1,\n",
    "            \n",
    "    }\n",
    "}"
   ]
  },
  {
   "cell_type": "code",
   "execution_count": 8,
   "metadata": {},
   "outputs": [],
   "source": [
    "dicts = {\n",
    "    # 'QC':\n",
    "    #     {\n",
    "    #         'LOTS': [100,500,-150,0,580],\n",
    "    #         'CONTS': ['U23','Z23','H24','K24','N24'],\n",
    "    #         'MULTIPLIER': 10,\n",
    "    #         'TICK_SIZE': 1,\n",
    "    #     },\n",
    "    'CC':\n",
    "        {\n",
    "            'LOTS': [0,-423,-298],\n",
    "            'CONTS': ['U23','Z23','H24'],\n",
    "            'MULTIPLIER': 10,\n",
    "            'TICK_SIZE': 1,\n",
    "        },\n",
    "        \n",
    "    # 'KC':\n",
    "    #     {\n",
    "    #         'LOTS': [0,17,67,12,1],\n",
    "    #         'CONTS': ['U23','Z23','H24','K24','N24'],\n",
    "    #         'MULTIPLIER': 37500,\n",
    "    #         'TICK_SIZE': 0.01,\n",
    "    #     },\n",
    "    'SB':\n",
    "        {\n",
    "            'LOTS': [181,-304,-682,2448,-217,-422,255,218],\n",
    "            'CONTS': ['V23','H24','K24','N24','V24','H25','K25','N25'],\n",
    "            'MULTIPLIER': 112000,\n",
    "            'TICK_SIZE': 0.01,\n",
    "        },\n",
    "    'QW':{\n",
    "            'LOTS': [0,818,217,-719,611,-281,371],\n",
    "            'CONTS': ['V23','Z23','H24','K24','Q24','V24','Z24'],\n",
    "            'MULTIPLIER': 50,\n",
    "            'TICK_SIZE': 1,\n",
    "            \n",
    "    }\n",
    "}"
   ]
  },
  {
   "cell_type": "code",
   "execution_count": 9,
   "metadata": {},
   "outputs": [],
   "source": [
    "# from random import randint\n",
    "# random_portfolios = [[randint(-200,200) for _ in range(5)] for _ in assets]\n",
    "# random_portfolios[0]\n",
    "\n",
    "# portfolios = random_portfolios"
   ]
  },
  {
   "cell_type": "code",
   "execution_count": 10,
   "metadata": {},
   "outputs": [
    {
     "data": {
      "text/plain": [
       "0.00028489625834792387"
      ]
     },
     "execution_count": 10,
     "metadata": {},
     "output_type": "execute_result"
    }
   ],
   "source": [
    "assets['KC'].loc[:,'KC1 Comdty'].pct_change().dropna()[:-100].mean()"
   ]
  },
  {
   "cell_type": "code",
   "execution_count": 11,
   "metadata": {},
   "outputs": [
    {
     "data": {
      "text/plain": [
       "0.8546887750437716"
      ]
     },
     "execution_count": 11,
     "metadata": {},
     "output_type": "execute_result"
    }
   ],
   "source": [
    "0.00028489625834792387 * 3000"
   ]
  },
  {
   "cell_type": "code",
   "execution_count": null,
   "metadata": {},
   "outputs": [],
   "source": []
  },
  {
   "cell_type": "code",
   "execution_count": null,
   "metadata": {},
   "outputs": [],
   "source": []
  },
  {
   "cell_type": "code",
   "execution_count": 52,
   "metadata": {},
   "outputs": [
    {
     "name": "stdout",
     "output_type": "stream",
     "text": [
      "--------------+++++++++++++++++----------------\n",
      "CC\n",
      "Portfolio Value:\n",
      "24202240\n",
      "Conditional VaR, 99%:\n",
      "971,131\n",
      "VaR, 99%:\n",
      "848,559\n",
      "--------------+++++++++++++++++----------------\n",
      "SB\n",
      "Portfolio Value:\n",
      "117164824.0\n",
      "Conditional VaR, 99%:\n",
      "1,363,099\n",
      "VaR, 99%:\n",
      "1,182,339\n",
      "--------------+++++++++++++++++----------------\n",
      "QW\n",
      "Portfolio Value:\n",
      "97206595.0\n",
      "Conditional VaR, 99%:\n",
      "1,137,084\n",
      "VaR, 99%:\n",
      "998,971\n"
     ]
    }
   ],
   "source": [
    "dfs = assets.copy()\n",
    "\n",
    "fl=flat()\n",
    "\n",
    "pR = []\n",
    "pS = []\n",
    "pP = []\n",
    "pF = []\n",
    "mR = []\n",
    "mL = []\n",
    "vst = []\n",
    "cVar = []\n",
    "\n",
    "\n",
    "for k,v in dicts.items():\n",
    "    \n",
    "    conts = v['CONTS']\n",
    "    conts = [f'{k} {_}' for _ in conts]\n",
    "    lot_multiplier = v['MULTIPLIER']*v['TICK_SIZE']\n",
    "    lots = np.multiply(v['LOTS'],lot_multiplier)\n",
    "    \n",
    "        \n",
    "    rels = []\n",
    "    for i in range(len(lots)):\n",
    "        rels.append(f'{k}{i+1} Comdty')\n",
    "    rels = ['Dates'] + rels\n",
    "    \n",
    "    dfs[k] = dfs[k][rels]\n",
    "    \n",
    "    dfs[k].set_index('Dates', inplace=True)\n",
    "    start = dfs[k].copy()\n",
    "    dfs[k] = dfs[k].pct_change()\n",
    "    dfs[k].dropna(inplace=True)\n",
    "    \n",
    "    dfs[k].columns = conts\n",
    "    \n",
    "    # start  = start[-1:]\n",
    "    # start.columns = conts\n",
    "    # P_S = start.copy()\n",
    "\n",
    "    # vStart = start.copy()\n",
    "    \n",
    "    # dict_conts = dict(zip(conts,lots))\n",
    "    \n",
    "    \n",
    "    last_p  = start[-1:]\n",
    "    last_p.columns = conts\n",
    "    # P_S = last_p.copy()\n",
    "\n",
    "    # vStart = start.copy()\n",
    "\n",
    "    dict_conts = dict(zip(conts,lots))\n",
    "\n",
    "    start = last_p.copy()\n",
    "    start = start.apply(lambda x: x * dict_conts[x.name])\n",
    "    vStart = start.copy()\n",
    "    \n",
    "    vst.append(vStart)\n",
    "    \n",
    "    # print(dict_conts)\n",
    "    # print(dfs[k].tail(1))\n",
    "    \n",
    "    returns, weights, weightsA, weights_adjuster, meanReturns, covMatrix = fl.returns_weights(dfs[k],dict_conts)\n",
    "    portResults, portfolio_sims, initialPortfolio = fl.MCsimulation(100_000,1,vStart,weights_adjuster,lot_multiplier,weightsA,meanReturns,covMatrix)\n",
    "\n",
    "    pR.append(portResults)\n",
    "    pS.append(portfolio_sims)\n",
    "    pP.append(initialPortfolio)\n",
    "    pF.append(initialPortfolio - portResults)\n",
    "    \n",
    "    cVar.append(initialPortfolio-fl.mcCVaR(portResults,0.95))\n",
    "    \n",
    "    \n",
    "    print('--------------+++++++++++++++++----------------')\n",
    "    print(k)\n",
    "    print('Portfolio Value:')\n",
    "    print(initialPortfolio)\n",
    "    print('Conditional VaR, 99%:')    \n",
    "    print(\"{:,}\".format(round(initialPortfolio-fl.mcCVaR(portResults,0.99))))\n",
    "    print('VaR, 99%:')    \n",
    "    print(\"{:,}\".format(round(initialPortfolio-fl.mcVaR(portResults,0.99))))\n",
    "    \n",
    "    mR.append(dfs[k])\n",
    "    mL.append(dict_conts)\n",
    "    \n",
    "dVar = dict(zip(dicts.keys(),cVar))\n",
    "    \n",
    "    "
   ]
  },
  {
   "cell_type": "code",
   "execution_count": 53,
   "metadata": {},
   "outputs": [],
   "source": [
    "mRet = pd.concat(mR,axis=1)\n",
    "masterPosition = {}\n",
    "for d in mL:\n",
    "    masterPosition.update(d)\n",
    "vStart = pd.concat(vst,axis=1)"
   ]
  },
  {
   "cell_type": "code",
   "execution_count": null,
   "metadata": {},
   "outputs": [],
   "source": []
  },
  {
   "cell_type": "code",
   "execution_count": 55,
   "metadata": {},
   "outputs": [],
   "source": [
    "\n",
    "returns, weights, weightsA, weights_adjuster, meanReturns, covMatrix = fl.returns_weights(mRet,masterPosition)\n",
    "portResults, portfolio_sims, initialPortfolio = fl.MCsimulation(100_000,1,vStart,weights_adjuster,lot_multiplier,weightsA,meanReturns,covMatrix)\n",
    "\n",
    "pR.append(portResults)\n",
    "pS.append(portfolio_sims)\n",
    "pP.append(initialPortfolio)\n",
    "pF.append(initialPortfolio - portResults)\n",
    "\n",
    "cVar.append(initialPortfolio-fl.mcCVaR(portResults,0.99))\n",
    "\n",
    "\n",
    "\n"
   ]
  },
  {
   "cell_type": "code",
   "execution_count": 56,
   "metadata": {},
   "outputs": [
    {
     "name": "stdout",
     "output_type": "stream",
     "text": [
      "--------------+++++++++++++++++----------------\n",
      "MASTER\n",
      "Portfolio Value:\n",
      "238573659.0\n",
      "Conditional VaR, 99%:\n",
      "2,746,849\n",
      "VaR, 99%:\n",
      "2,400,074\n"
     ]
    }
   ],
   "source": [
    "print('--------------+++++++++++++++++----------------')\n",
    "print('MASTER')\n",
    "print('Portfolio Value:')\n",
    "print(initialPortfolio)\n",
    "print('Conditional VaR, 99%:')    \n",
    "print(\"{:,}\".format(round(initialPortfolio-fl.mcCVaR(portResults,0.99))))\n",
    "print('VaR, 99%:')    \n",
    "print(\"{:,}\".format(round(initialPortfolio-fl.mcVaR(portResults,0.99))))"
   ]
  },
  {
   "cell_type": "code",
   "execution_count": 57,
   "metadata": {},
   "outputs": [
    {
     "data": {
      "text/plain": [
       "740796"
      ]
     },
     "execution_count": 57,
     "metadata": {},
     "output_type": "execute_result"
    }
   ],
   "source": [
    "cVar_dict = dict(zip([_ for _ in dicts.keys()] + ['Master'], cVar))\n",
    "pOffset = np.sum([p for i,p in dVar.items()]) - cVar_dict['Master']\n",
    "round(pOffset)"
   ]
  },
  {
   "cell_type": "code",
   "execution_count": 45,
   "metadata": {},
   "outputs": [],
   "source": [
    "pReturns = pd.concat(pF, axis=1)\n",
    "pReturns.columns = [_ for _ in dicts.keys()] + ['Master']"
   ]
  },
  {
   "cell_type": "code",
   "execution_count": 46,
   "metadata": {},
   "outputs": [],
   "source": [
    "pReturns = pReturns.melt()\n",
    "pReturns.columns = ['portfolio','sLoss']\n",
    "# group by portfolio and add column for percentile\n",
    "pReturns['percentile'] = pReturns.groupby('portfolio').sLoss.rank(pct=True)"
   ]
  },
  {
   "cell_type": "code",
   "execution_count": 47,
   "metadata": {},
   "outputs": [],
   "source": [
    "\n",
    "pReturns.percentile = round(pReturns.percentile * 100,1)\n"
   ]
  },
  {
   "cell_type": "code",
   "execution_count": 48,
   "metadata": {},
   "outputs": [],
   "source": [
    "aggreRet = pReturns.groupby(['portfolio','percentile']).mean('sLoss')\n",
    "aggreRet.reset_index(inplace=True)"
   ]
  },
  {
   "cell_type": "code",
   "execution_count": 49,
   "metadata": {},
   "outputs": [],
   "source": [
    "pReturns.to_csv('data/pDemoReturns2_1day.csv')\n",
    "\n"
   ]
  },
  {
   "cell_type": "code",
   "execution_count": 50,
   "metadata": {},
   "outputs": [],
   "source": [
    "aggreRet.to_csv('data/aggreRetDemo21d.csv', index=False)"
   ]
  },
  {
   "cell_type": "code",
   "execution_count": null,
   "metadata": {},
   "outputs": [],
   "source": [
    "option = {\n",
    "            'S_0': 1000., \n",
    "            'strike': 2500., \n",
    "            'time_to_expiry': .0, \n",
    "            'implied_vol': .27, \n",
    "            'dividend': 0.,\n",
    "            'riskfree_rate': .035, \n",
    "            'option_sign': -1.\n",
    "        }\n",
    "bs = black76_torch(**option)\n",
    "bs.premium()"
   ]
  },
  {
   "cell_type": "code",
   "execution_count": 125,
   "metadata": {},
   "outputs": [
    {
     "data": {
      "text/plain": [
       "Timestamp('2023-08-11 00:00:00')"
      ]
     },
     "execution_count": 125,
     "metadata": {},
     "output_type": "execute_result"
    }
   ],
   "source": [
    "vst[0].index[0] - "
   ]
  },
  {
   "cell_type": "code",
   "execution_count": 127,
   "metadata": {},
   "outputs": [],
   "source": [
    "date_exp = {\n",
    "'Q23': pd.to_datetime('2023-08-20'),\n",
    "'U23': pd.to_datetime('2023-09-20'),\n",
    "'V23': pd.to_datetime('2023-10-20'),\n",
    "'X23': pd.to_datetime('2023-11-20'),\n",
    "'Z23':pd.to_datetime('2023-12-20'),\n",
    "'F24': pd.to_datetime('2024-01-20'),\n",
    "'G24': pd.to_datetime('2024-02-20'),\n",
    "'H24': pd.to_datetime('2024-03-20'),\n",
    "'J24': pd.to_datetime('2024-04-20'),\n",
    "'K24': pd.to_datetime('2024-05-20'),\n",
    "'M24': pd.to_datetime('2024-06-20'),\n",
    "'N24': pd.to_datetime('2024-07-20')}"
   ]
  },
  {
   "cell_type": "code",
   "execution_count": 136,
   "metadata": {},
   "outputs": [],
   "source": [
    "tte = dict(zip(date_exp.keys(), [((v - vst[0].index[0]).days/365) for k,v in date_exp.items() ]))"
   ]
  },
  {
   "cell_type": "code",
   "execution_count": 139,
   "metadata": {},
   "outputs": [],
   "source": [
    "rf  = risk_surface()"
   ]
  },
  {
   "cell_type": "code",
   "execution_count": 142,
   "metadata": {},
   "outputs": [
    {
     "data": {
      "text/html": [
       "<div>\n",
       "<style scoped>\n",
       "    .dataframe tbody tr th:only-of-type {\n",
       "        vertical-align: middle;\n",
       "    }\n",
       "\n",
       "    .dataframe tbody tr th {\n",
       "        vertical-align: top;\n",
       "    }\n",
       "\n",
       "    .dataframe thead th {\n",
       "        text-align: right;\n",
       "    }\n",
       "</style>\n",
       "<table border=\"1\" class=\"dataframe\">\n",
       "  <thead>\n",
       "    <tr style=\"text-align: right;\">\n",
       "      <th></th>\n",
       "      <th>Dates</th>\n",
       "      <th>KC1 Comdty</th>\n",
       "      <th>KC2 Comdty</th>\n",
       "      <th>KC3 Comdty</th>\n",
       "      <th>KC4 Comdty</th>\n",
       "      <th>KC5 Comdty</th>\n",
       "      <th>KC6 Comdty</th>\n",
       "      <th>KC7 Comdty</th>\n",
       "      <th>KC8 Comdty</th>\n",
       "    </tr>\n",
       "  </thead>\n",
       "  <tbody>\n",
       "    <tr>\n",
       "      <th>2560</th>\n",
       "      <td>2009-10-26 00:00:00</td>\n",
       "      <td>136.50</td>\n",
       "      <td>139.45</td>\n",
       "      <td>141.35</td>\n",
       "      <td>143.00</td>\n",
       "      <td>144.65</td>\n",
       "      <td>147.05</td>\n",
       "      <td>149.45</td>\n",
       "      <td>151.05</td>\n",
       "    </tr>\n",
       "    <tr>\n",
       "      <th>2561</th>\n",
       "      <td>2009-10-27 00:00:00</td>\n",
       "      <td>136.35</td>\n",
       "      <td>139.30</td>\n",
       "      <td>141.20</td>\n",
       "      <td>142.85</td>\n",
       "      <td>144.50</td>\n",
       "      <td>146.95</td>\n",
       "      <td>149.30</td>\n",
       "      <td>151.00</td>\n",
       "    </tr>\n",
       "    <tr>\n",
       "      <th>2562</th>\n",
       "      <td>2009-10-28 00:00:00</td>\n",
       "      <td>134.60</td>\n",
       "      <td>137.55</td>\n",
       "      <td>139.40</td>\n",
       "      <td>141.10</td>\n",
       "      <td>142.85</td>\n",
       "      <td>145.45</td>\n",
       "      <td>147.90</td>\n",
       "      <td>149.60</td>\n",
       "    </tr>\n",
       "    <tr>\n",
       "      <th>2563</th>\n",
       "      <td>2009-10-29 00:00:00</td>\n",
       "      <td>136.75</td>\n",
       "      <td>139.75</td>\n",
       "      <td>141.65</td>\n",
       "      <td>143.30</td>\n",
       "      <td>145.05</td>\n",
       "      <td>147.65</td>\n",
       "      <td>150.25</td>\n",
       "      <td>151.95</td>\n",
       "    </tr>\n",
       "    <tr>\n",
       "      <th>2564</th>\n",
       "      <td>2009-10-30 00:00:00</td>\n",
       "      <td>135.50</td>\n",
       "      <td>138.55</td>\n",
       "      <td>140.45</td>\n",
       "      <td>142.10</td>\n",
       "      <td>143.80</td>\n",
       "      <td>146.45</td>\n",
       "      <td>148.95</td>\n",
       "      <td>150.70</td>\n",
       "    </tr>\n",
       "    <tr>\n",
       "      <th>...</th>\n",
       "      <td>...</td>\n",
       "      <td>...</td>\n",
       "      <td>...</td>\n",
       "      <td>...</td>\n",
       "      <td>...</td>\n",
       "      <td>...</td>\n",
       "      <td>...</td>\n",
       "      <td>...</td>\n",
       "      <td>...</td>\n",
       "    </tr>\n",
       "    <tr>\n",
       "      <th>6155</th>\n",
       "      <td>2023-08-07 00:00:00</td>\n",
       "      <td>163.95</td>\n",
       "      <td>163.45</td>\n",
       "      <td>164.60</td>\n",
       "      <td>165.45</td>\n",
       "      <td>166.10</td>\n",
       "      <td>166.95</td>\n",
       "      <td>168.20</td>\n",
       "      <td>169.00</td>\n",
       "    </tr>\n",
       "    <tr>\n",
       "      <th>6156</th>\n",
       "      <td>2023-08-08 00:00:00</td>\n",
       "      <td>161.35</td>\n",
       "      <td>160.85</td>\n",
       "      <td>162.00</td>\n",
       "      <td>162.95</td>\n",
       "      <td>163.65</td>\n",
       "      <td>164.45</td>\n",
       "      <td>165.70</td>\n",
       "      <td>166.50</td>\n",
       "    </tr>\n",
       "    <tr>\n",
       "      <th>6157</th>\n",
       "      <td>2023-08-09 00:00:00</td>\n",
       "      <td>160.75</td>\n",
       "      <td>160.20</td>\n",
       "      <td>161.35</td>\n",
       "      <td>162.25</td>\n",
       "      <td>162.90</td>\n",
       "      <td>163.55</td>\n",
       "      <td>164.65</td>\n",
       "      <td>165.35</td>\n",
       "    </tr>\n",
       "    <tr>\n",
       "      <th>6158</th>\n",
       "      <td>2023-08-10 00:00:00</td>\n",
       "      <td>159.90</td>\n",
       "      <td>159.65</td>\n",
       "      <td>160.90</td>\n",
       "      <td>161.85</td>\n",
       "      <td>162.40</td>\n",
       "      <td>162.95</td>\n",
       "      <td>164.05</td>\n",
       "      <td>164.90</td>\n",
       "    </tr>\n",
       "    <tr>\n",
       "      <th>6159</th>\n",
       "      <td>2023-08-11 00:00:00</td>\n",
       "      <td>159.90</td>\n",
       "      <td>159.65</td>\n",
       "      <td>160.90</td>\n",
       "      <td>161.85</td>\n",
       "      <td>162.40</td>\n",
       "      <td>162.95</td>\n",
       "      <td>164.05</td>\n",
       "      <td>164.90</td>\n",
       "    </tr>\n",
       "  </tbody>\n",
       "</table>\n",
       "<p>3600 rows × 9 columns</p>\n",
       "</div>"
      ],
      "text/plain": [
       "                    Dates  KC1 Comdty  KC2 Comdty  KC3 Comdty  KC4 Comdty  \\\n",
       "2560  2009-10-26 00:00:00      136.50      139.45      141.35      143.00   \n",
       "2561  2009-10-27 00:00:00      136.35      139.30      141.20      142.85   \n",
       "2562  2009-10-28 00:00:00      134.60      137.55      139.40      141.10   \n",
       "2563  2009-10-29 00:00:00      136.75      139.75      141.65      143.30   \n",
       "2564  2009-10-30 00:00:00      135.50      138.55      140.45      142.10   \n",
       "...                   ...         ...         ...         ...         ...   \n",
       "6155  2023-08-07 00:00:00      163.95      163.45      164.60      165.45   \n",
       "6156  2023-08-08 00:00:00      161.35      160.85      162.00      162.95   \n",
       "6157  2023-08-09 00:00:00      160.75      160.20      161.35      162.25   \n",
       "6158  2023-08-10 00:00:00      159.90      159.65      160.90      161.85   \n",
       "6159  2023-08-11 00:00:00      159.90      159.65      160.90      161.85   \n",
       "\n",
       "      KC5 Comdty  KC6 Comdty  KC7 Comdty  KC8 Comdty  \n",
       "2560      144.65      147.05      149.45      151.05  \n",
       "2561      144.50      146.95      149.30      151.00  \n",
       "2562      142.85      145.45      147.90      149.60  \n",
       "2563      145.05      147.65      150.25      151.95  \n",
       "2564      143.80      146.45      148.95      150.70  \n",
       "...          ...         ...         ...         ...  \n",
       "6155      166.10      166.95      168.20      169.00  \n",
       "6156      163.65      164.45      165.70      166.50  \n",
       "6157      162.90      163.55      164.65      165.35  \n",
       "6158      162.40      162.95      164.05      164.90  \n",
       "6159      162.40      162.95      164.05      164.90  \n",
       "\n",
       "[3600 rows x 9 columns]"
      ]
     },
     "execution_count": 142,
     "metadata": {},
     "output_type": "execute_result"
    }
   ],
   "source": [
    "assets['KC']"
   ]
  },
  {
   "cell_type": "code",
   "execution_count": 184,
   "metadata": {},
   "outputs": [
    {
     "ename": "ValueError",
     "evalue": "operands could not be broadcast together with shapes (9,25) (9,) ",
     "output_type": "error",
     "traceback": [
      "\u001b[1;31m---------------------------------------------------------------------------\u001b[0m",
      "\u001b[1;31mValueError\u001b[0m                                Traceback (most recent call last)",
      "Cell \u001b[1;32mIn[184], line 5\u001b[0m\n\u001b[0;32m      1\u001b[0m df \u001b[39m=\u001b[39m assets[\u001b[39m'\u001b[39m\u001b[39mKC\u001b[39m\u001b[39m'\u001b[39m]\n\u001b[0;32m      2\u001b[0m df \u001b[39m=\u001b[39m df\u001b[39m.\u001b[39mloc[:,df\u001b[39m.\u001b[39mcolumns \u001b[39m!=\u001b[39m \u001b[39m'\u001b[39m\u001b[39mDates\u001b[39m\u001b[39m'\u001b[39m]\n\u001b[1;32m----> 5\u001b[0m rf\u001b[39m.\u001b[39;49mshock_map(returns,\u001b[39m60\u001b[39;49m)\n",
      "File \u001b[1;32mc:\\Users\\tmeyl\\Desktop\\Modulus Risk\\MRisk\\position\\flat.py:65\u001b[0m, in \u001b[0;36mrisk_surface.shock_map\u001b[1;34m(returns, window, bumps)\u001b[0m\n\u001b[0;32m     63\u001b[0m shock_map \u001b[39m=\u001b[39m shock_map\u001b[39m.\u001b[39mreshape(\u001b[39m1\u001b[39m,\u001b[39mlen\u001b[39m(shock_map))\n\u001b[0;32m     64\u001b[0m shock_map \u001b[39m=\u001b[39m np\u001b[39m.\u001b[39mrepeat(shock_map, \u001b[39mlen\u001b[39m(bumps), axis\u001b[39m=\u001b[39m\u001b[39m0\u001b[39m)\n\u001b[1;32m---> 65\u001b[0m shock_map \u001b[39m=\u001b[39m shock_map\u001b[39m*\u001b[39;49mbumps\n\u001b[0;32m     67\u001b[0m \u001b[39mreturn\u001b[39;00m shock_map\n",
      "\u001b[1;31mValueError\u001b[0m: operands could not be broadcast together with shapes (9,25) (9,) "
     ]
    }
   ],
   "source": [
    "df = assets['KC']\n",
    "df = df.loc[:,df.columns != 'Dates']\n",
    "\n",
    "\n",
    "rf.shock_map(returns,60)\n"
   ]
  },
  {
   "cell_type": "code",
   "execution_count": 180,
   "metadata": {},
   "outputs": [],
   "source": [
    "       \n",
    "        bumps = [-2,-1.5,-1,-0.5,0,0.5,1,1.5,2]\n",
    "        shock_map = returns.copy()\n",
    "        shock_map = shock_map[-30:].std()\n",
    "        shock_map = np.array(shock_map)\n",
    "        shock_map = shock_map.reshape(1,len(shock_map))\n",
    "        shock_map = np.repeat(shock_map, len(bumps), axis=0)\n",
    "        shock_map = shock_map.T*bumps\n",
    "        shock_map = shock_map.T\n",
    "        "
   ]
  },
  {
   "cell_type": "code",
   "execution_count": 193,
   "metadata": {},
   "outputs": [],
   "source": [
    "    def shock_map(last_px, returns, window,bumps = [-2,-1.5,-1,-0.5,0,0.5,1,1.5,2]):\n",
    "        shock_map = returns.copy()\n",
    "        shock_map = shock_map[-window:].std()\n",
    "        shock_map = shock_map.to_frame()\n",
    "        shock_map.reset_index(inplace=True)\n",
    "        shock_map = shock_map.rename(columns={'index': 'contract', 0: 'sdev'})\n",
    "        dL = []\n",
    "        for i, p in enumerate(shock_map.sdev):\n",
    "            dL.append(dict(zip(bumps, [p*x for x in bumps])))\n",
    "            \n",
    "        dL = pd.DataFrame(dL)\n",
    "        dL.index = shock_map.contract\n",
    "        dL.reset_index(inplace=True)\n",
    "        \n",
    "        dL = dL.T\n",
    "        dL.columns = dL.iloc[0]\n",
    "        dL = dL.iloc[1:,:]\n",
    "        dL= dL.apply(lambda x: (1+x) * last_px[x.name], axis=0)\n",
    "                \n",
    "        \n",
    "        # for k,v in last_px.items():\n",
    "        #     dL[dL.select_dtypes(\"number\").columns].loc[:,dL.contract == k] *= v \n",
    "        #     dL[dL.select_dtypes(\"number\").columns].loc[:,dL.contract == k] += v\n",
    "\n",
    "\n",
    "        return shock_map, dL"
   ]
  },
  {
   "cell_type": "code",
   "execution_count": 194,
   "metadata": {},
   "outputs": [
    {
     "data": {
      "text/html": [
       "<div>\n",
       "<style scoped>\n",
       "    .dataframe tbody tr th:only-of-type {\n",
       "        vertical-align: middle;\n",
       "    }\n",
       "\n",
       "    .dataframe tbody tr th {\n",
       "        vertical-align: top;\n",
       "    }\n",
       "\n",
       "    .dataframe thead th {\n",
       "        text-align: right;\n",
       "    }\n",
       "</style>\n",
       "<table border=\"1\" class=\"dataframe\">\n",
       "  <thead>\n",
       "    <tr style=\"text-align: right;\">\n",
       "      <th></th>\n",
       "      <th>KC U23</th>\n",
       "      <th>KC Z23</th>\n",
       "      <th>KC H24</th>\n",
       "      <th>KC K24</th>\n",
       "      <th>KC N24</th>\n",
       "    </tr>\n",
       "    <tr>\n",
       "      <th>Dates</th>\n",
       "      <th></th>\n",
       "      <th></th>\n",
       "      <th></th>\n",
       "      <th></th>\n",
       "      <th></th>\n",
       "    </tr>\n",
       "  </thead>\n",
       "  <tbody>\n",
       "    <tr>\n",
       "      <th>2023-08-11</th>\n",
       "      <td>-2998125.0</td>\n",
       "      <td>21852093.75</td>\n",
       "      <td>-48270000.0</td>\n",
       "      <td>910406.25</td>\n",
       "      <td>5176500.0</td>\n",
       "    </tr>\n",
       "  </tbody>\n",
       "</table>\n",
       "</div>"
      ],
      "text/plain": [
       "               KC U23       KC Z23      KC H24     KC K24     KC N24\n",
       "Dates                                                               \n",
       "2023-08-11 -2998125.0  21852093.75 -48270000.0  910406.25  5176500.0"
      ]
     },
     "execution_count": 194,
     "metadata": {},
     "output_type": "execute_result"
    }
   ],
   "source": [
    "vst[2]"
   ]
  },
  {
   "cell_type": "code",
   "execution_count": 195,
   "metadata": {},
   "outputs": [
    {
     "ename": "KeyError",
     "evalue": "'portfolio'",
     "output_type": "error",
     "traceback": [
      "\u001b[1;31m---------------------------------------------------------------------------\u001b[0m",
      "\u001b[1;31mKeyError\u001b[0m                                  Traceback (most recent call last)",
      "File \u001b[1;32mc:\\Users\\tmeyl\\miniconda3\\envs\\mRisk\\Lib\\site-packages\\pandas\\core\\indexes\\base.py:3653\u001b[0m, in \u001b[0;36mIndex.get_loc\u001b[1;34m(self, key)\u001b[0m\n\u001b[0;32m   3652\u001b[0m \u001b[39mtry\u001b[39;00m:\n\u001b[1;32m-> 3653\u001b[0m     \u001b[39mreturn\u001b[39;00m \u001b[39mself\u001b[39;49m\u001b[39m.\u001b[39;49m_engine\u001b[39m.\u001b[39;49mget_loc(casted_key)\n\u001b[0;32m   3654\u001b[0m \u001b[39mexcept\u001b[39;00m \u001b[39mKeyError\u001b[39;00m \u001b[39mas\u001b[39;00m err:\n",
      "File \u001b[1;32mc:\\Users\\tmeyl\\miniconda3\\envs\\mRisk\\Lib\\site-packages\\pandas\\_libs\\index.pyx:147\u001b[0m, in \u001b[0;36mpandas._libs.index.IndexEngine.get_loc\u001b[1;34m()\u001b[0m\n",
      "File \u001b[1;32mc:\\Users\\tmeyl\\miniconda3\\envs\\mRisk\\Lib\\site-packages\\pandas\\_libs\\index.pyx:176\u001b[0m, in \u001b[0;36mpandas._libs.index.IndexEngine.get_loc\u001b[1;34m()\u001b[0m\n",
      "File \u001b[1;32mpandas\\_libs\\hashtable_class_helper.pxi:7080\u001b[0m, in \u001b[0;36mpandas._libs.hashtable.PyObjectHashTable.get_item\u001b[1;34m()\u001b[0m\n",
      "File \u001b[1;32mpandas\\_libs\\hashtable_class_helper.pxi:7088\u001b[0m, in \u001b[0;36mpandas._libs.hashtable.PyObjectHashTable.get_item\u001b[1;34m()\u001b[0m\n",
      "\u001b[1;31mKeyError\u001b[0m: 'portfolio'",
      "\nThe above exception was the direct cause of the following exception:\n",
      "\u001b[1;31mKeyError\u001b[0m                                  Traceback (most recent call last)",
      "Cell \u001b[1;32mIn[195], line 1\u001b[0m\n\u001b[1;32m----> 1\u001b[0m s, l \u001b[39m=\u001b[39m shock_map(vStart,returns, \u001b[39m30\u001b[39;49m)\n",
      "Cell \u001b[1;32mIn[193], line 18\u001b[0m, in \u001b[0;36mshock_map\u001b[1;34m(last_px, returns, window, bumps)\u001b[0m\n\u001b[0;32m     16\u001b[0m dL\u001b[39m.\u001b[39mcolumns \u001b[39m=\u001b[39m dL\u001b[39m.\u001b[39miloc[\u001b[39m0\u001b[39m]\n\u001b[0;32m     17\u001b[0m dL \u001b[39m=\u001b[39m dL\u001b[39m.\u001b[39miloc[\u001b[39m1\u001b[39m:,:]\n\u001b[1;32m---> 18\u001b[0m dL\u001b[39m=\u001b[39m dL\u001b[39m.\u001b[39;49mapply(\u001b[39mlambda\u001b[39;49;00m x: (\u001b[39m1\u001b[39;49m\u001b[39m+\u001b[39;49mx) \u001b[39m*\u001b[39;49m last_px[x\u001b[39m.\u001b[39;49mname], axis\u001b[39m=\u001b[39;49m\u001b[39m0\u001b[39;49m)\n\u001b[0;32m     21\u001b[0m \u001b[39m# for k,v in last_px.items():\u001b[39;00m\n\u001b[0;32m     22\u001b[0m \u001b[39m#     dL[dL.select_dtypes(\"number\").columns].loc[:,dL.contract == k] *= v \u001b[39;00m\n\u001b[0;32m     23\u001b[0m \u001b[39m#     dL[dL.select_dtypes(\"number\").columns].loc[:,dL.contract == k] += v\u001b[39;00m\n\u001b[0;32m     26\u001b[0m \u001b[39mreturn\u001b[39;00m shock_map, dL\n",
      "File \u001b[1;32mc:\\Users\\tmeyl\\miniconda3\\envs\\mRisk\\Lib\\site-packages\\pandas\\core\\frame.py:9423\u001b[0m, in \u001b[0;36mDataFrame.apply\u001b[1;34m(self, func, axis, raw, result_type, args, **kwargs)\u001b[0m\n\u001b[0;32m   9412\u001b[0m \u001b[39mfrom\u001b[39;00m \u001b[39mpandas\u001b[39;00m\u001b[39m.\u001b[39;00m\u001b[39mcore\u001b[39;00m\u001b[39m.\u001b[39;00m\u001b[39mapply\u001b[39;00m \u001b[39mimport\u001b[39;00m frame_apply\n\u001b[0;32m   9414\u001b[0m op \u001b[39m=\u001b[39m frame_apply(\n\u001b[0;32m   9415\u001b[0m     \u001b[39mself\u001b[39m,\n\u001b[0;32m   9416\u001b[0m     func\u001b[39m=\u001b[39mfunc,\n\u001b[1;32m   (...)\u001b[0m\n\u001b[0;32m   9421\u001b[0m     kwargs\u001b[39m=\u001b[39mkwargs,\n\u001b[0;32m   9422\u001b[0m )\n\u001b[1;32m-> 9423\u001b[0m \u001b[39mreturn\u001b[39;00m op\u001b[39m.\u001b[39;49mapply()\u001b[39m.\u001b[39m__finalize__(\u001b[39mself\u001b[39m, method\u001b[39m=\u001b[39m\u001b[39m\"\u001b[39m\u001b[39mapply\u001b[39m\u001b[39m\"\u001b[39m)\n",
      "File \u001b[1;32mc:\\Users\\tmeyl\\miniconda3\\envs\\mRisk\\Lib\\site-packages\\pandas\\core\\apply.py:678\u001b[0m, in \u001b[0;36mFrameApply.apply\u001b[1;34m(self)\u001b[0m\n\u001b[0;32m    675\u001b[0m \u001b[39melif\u001b[39;00m \u001b[39mself\u001b[39m\u001b[39m.\u001b[39mraw:\n\u001b[0;32m    676\u001b[0m     \u001b[39mreturn\u001b[39;00m \u001b[39mself\u001b[39m\u001b[39m.\u001b[39mapply_raw()\n\u001b[1;32m--> 678\u001b[0m \u001b[39mreturn\u001b[39;00m \u001b[39mself\u001b[39;49m\u001b[39m.\u001b[39;49mapply_standard()\n",
      "File \u001b[1;32mc:\\Users\\tmeyl\\miniconda3\\envs\\mRisk\\Lib\\site-packages\\pandas\\core\\apply.py:798\u001b[0m, in \u001b[0;36mFrameApply.apply_standard\u001b[1;34m(self)\u001b[0m\n\u001b[0;32m    797\u001b[0m \u001b[39mdef\u001b[39;00m \u001b[39mapply_standard\u001b[39m(\u001b[39mself\u001b[39m):\n\u001b[1;32m--> 798\u001b[0m     results, res_index \u001b[39m=\u001b[39m \u001b[39mself\u001b[39;49m\u001b[39m.\u001b[39;49mapply_series_generator()\n\u001b[0;32m    800\u001b[0m     \u001b[39m# wrap results\u001b[39;00m\n\u001b[0;32m    801\u001b[0m     \u001b[39mreturn\u001b[39;00m \u001b[39mself\u001b[39m\u001b[39m.\u001b[39mwrap_results(results, res_index)\n",
      "File \u001b[1;32mc:\\Users\\tmeyl\\miniconda3\\envs\\mRisk\\Lib\\site-packages\\pandas\\core\\apply.py:814\u001b[0m, in \u001b[0;36mFrameApply.apply_series_generator\u001b[1;34m(self)\u001b[0m\n\u001b[0;32m    811\u001b[0m \u001b[39mwith\u001b[39;00m option_context(\u001b[39m\"\u001b[39m\u001b[39mmode.chained_assignment\u001b[39m\u001b[39m\"\u001b[39m, \u001b[39mNone\u001b[39;00m):\n\u001b[0;32m    812\u001b[0m     \u001b[39mfor\u001b[39;00m i, v \u001b[39min\u001b[39;00m \u001b[39menumerate\u001b[39m(series_gen):\n\u001b[0;32m    813\u001b[0m         \u001b[39m# ignore SettingWithCopy here in case the user mutates\u001b[39;00m\n\u001b[1;32m--> 814\u001b[0m         results[i] \u001b[39m=\u001b[39m \u001b[39mself\u001b[39;49m\u001b[39m.\u001b[39;49mf(v)\n\u001b[0;32m    815\u001b[0m         \u001b[39mif\u001b[39;00m \u001b[39misinstance\u001b[39m(results[i], ABCSeries):\n\u001b[0;32m    816\u001b[0m             \u001b[39m# If we have a view on v, we need to make a copy because\u001b[39;00m\n\u001b[0;32m    817\u001b[0m             \u001b[39m#  series_generator will swap out the underlying data\u001b[39;00m\n\u001b[0;32m    818\u001b[0m             results[i] \u001b[39m=\u001b[39m results[i]\u001b[39m.\u001b[39mcopy(deep\u001b[39m=\u001b[39m\u001b[39mFalse\u001b[39;00m)\n",
      "Cell \u001b[1;32mIn[193], line 18\u001b[0m, in \u001b[0;36mshock_map.<locals>.<lambda>\u001b[1;34m(x)\u001b[0m\n\u001b[0;32m     16\u001b[0m dL\u001b[39m.\u001b[39mcolumns \u001b[39m=\u001b[39m dL\u001b[39m.\u001b[39miloc[\u001b[39m0\u001b[39m]\n\u001b[0;32m     17\u001b[0m dL \u001b[39m=\u001b[39m dL\u001b[39m.\u001b[39miloc[\u001b[39m1\u001b[39m:,:]\n\u001b[1;32m---> 18\u001b[0m dL\u001b[39m=\u001b[39m dL\u001b[39m.\u001b[39mapply(\u001b[39mlambda\u001b[39;00m x: (\u001b[39m1\u001b[39m\u001b[39m+\u001b[39mx) \u001b[39m*\u001b[39m last_px[x\u001b[39m.\u001b[39;49mname], axis\u001b[39m=\u001b[39m\u001b[39m0\u001b[39m)\n\u001b[0;32m     21\u001b[0m \u001b[39m# for k,v in last_px.items():\u001b[39;00m\n\u001b[0;32m     22\u001b[0m \u001b[39m#     dL[dL.select_dtypes(\"number\").columns].loc[:,dL.contract == k] *= v \u001b[39;00m\n\u001b[0;32m     23\u001b[0m \u001b[39m#     dL[dL.select_dtypes(\"number\").columns].loc[:,dL.contract == k] += v\u001b[39;00m\n\u001b[0;32m     26\u001b[0m \u001b[39mreturn\u001b[39;00m shock_map, dL\n",
      "File \u001b[1;32mc:\\Users\\tmeyl\\miniconda3\\envs\\mRisk\\Lib\\site-packages\\pandas\\core\\frame.py:3761\u001b[0m, in \u001b[0;36mDataFrame.__getitem__\u001b[1;34m(self, key)\u001b[0m\n\u001b[0;32m   3759\u001b[0m \u001b[39mif\u001b[39;00m \u001b[39mself\u001b[39m\u001b[39m.\u001b[39mcolumns\u001b[39m.\u001b[39mnlevels \u001b[39m>\u001b[39m \u001b[39m1\u001b[39m:\n\u001b[0;32m   3760\u001b[0m     \u001b[39mreturn\u001b[39;00m \u001b[39mself\u001b[39m\u001b[39m.\u001b[39m_getitem_multilevel(key)\n\u001b[1;32m-> 3761\u001b[0m indexer \u001b[39m=\u001b[39m \u001b[39mself\u001b[39;49m\u001b[39m.\u001b[39;49mcolumns\u001b[39m.\u001b[39;49mget_loc(key)\n\u001b[0;32m   3762\u001b[0m \u001b[39mif\u001b[39;00m is_integer(indexer):\n\u001b[0;32m   3763\u001b[0m     indexer \u001b[39m=\u001b[39m [indexer]\n",
      "File \u001b[1;32mc:\\Users\\tmeyl\\miniconda3\\envs\\mRisk\\Lib\\site-packages\\pandas\\core\\indexes\\base.py:3655\u001b[0m, in \u001b[0;36mIndex.get_loc\u001b[1;34m(self, key)\u001b[0m\n\u001b[0;32m   3653\u001b[0m     \u001b[39mreturn\u001b[39;00m \u001b[39mself\u001b[39m\u001b[39m.\u001b[39m_engine\u001b[39m.\u001b[39mget_loc(casted_key)\n\u001b[0;32m   3654\u001b[0m \u001b[39mexcept\u001b[39;00m \u001b[39mKeyError\u001b[39;00m \u001b[39mas\u001b[39;00m err:\n\u001b[1;32m-> 3655\u001b[0m     \u001b[39mraise\u001b[39;00m \u001b[39mKeyError\u001b[39;00m(key) \u001b[39mfrom\u001b[39;00m \u001b[39merr\u001b[39;00m\n\u001b[0;32m   3656\u001b[0m \u001b[39mexcept\u001b[39;00m \u001b[39mTypeError\u001b[39;00m:\n\u001b[0;32m   3657\u001b[0m     \u001b[39m# If we have a listlike key, _check_indexing_error will raise\u001b[39;00m\n\u001b[0;32m   3658\u001b[0m     \u001b[39m#  InvalidIndexError. Otherwise we fall through and re-raise\u001b[39;00m\n\u001b[0;32m   3659\u001b[0m     \u001b[39m#  the TypeError.\u001b[39;00m\n\u001b[0;32m   3660\u001b[0m     \u001b[39mself\u001b[39m\u001b[39m.\u001b[39m_check_indexing_error(key)\n",
      "\u001b[1;31mKeyError\u001b[0m: 'portfolio'"
     ]
    }
   ],
   "source": [
    "s, l = shock_map(vStart,returns, 30)"
   ]
  },
  {
   "cell_type": "code",
   "execution_count": null,
   "metadata": {},
   "outputs": [],
   "source": []
  }
 ],
 "metadata": {
  "kernelspec": {
   "display_name": "mrisk",
   "language": "python",
   "name": "python3"
  },
  "language_info": {
   "codemirror_mode": {
    "name": "ipython",
    "version": 3
   },
   "file_extension": ".py",
   "mimetype": "text/x-python",
   "name": "python",
   "nbconvert_exporter": "python",
   "pygments_lexer": "ipython3",
   "version": "3.11.4"
  },
  "orig_nbformat": 4
 },
 "nbformat": 4,
 "nbformat_minor": 2
}
