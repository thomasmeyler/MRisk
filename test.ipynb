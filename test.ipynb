{
 "cells": [
  {
   "cell_type": "code",
   "execution_count": 2,
   "metadata": {},
   "outputs": [],
   "source": [
    "import torch\n",
    "from torch.distributions import Normal\n",
    "\n"
   ]
  },
  {
   "cell_type": "code",
   "execution_count": 4,
   "metadata": {},
   "outputs": [],
   "source": [
    "std_norm_cdf = Normal(0, 1).cdf\n",
    "std_norm_pdf = lambda x: torch.exp(Normal(0, 1).log_prob(x))\n",
    "\n",
    "def bs_price(right, K, S, T, sigma, r):\n",
    "    d_1 = (1 / (sigma * torch.sqrt(T))) * (torch.log(S / K) + (r + (torch.square(sigma) / 2)) * T)\n",
    "    d_2 = d_1 - sigma * torch.sqrt(T)\n",
    "    \n",
    "    if right == \"C\":\n",
    "        C = std_norm_cdf(d_1) * S - std_norm_cdf(d_2) * K * torch.exp(-r * T)\n",
    "        return C\n",
    "        \n",
    "    elif right == \"P\":\n",
    "        P = std_norm_cdf(-d_2) * K * torch.exp(-r * T) - std_norm_cdf(-d_1) * S\n",
    "        return P"
   ]
  },
  {
   "cell_type": "code",
   "execution_count": 48,
   "metadata": {},
   "outputs": [
    {
     "name": "stdout",
     "output_type": "stream",
     "text": [
      "tensor(18.0230, device='mps:0', grad_fn=<SubBackward0>)\n"
     ]
    }
   ],
   "source": [
    "right = \"C\"\n",
    "K = torch.tensor(100.0, requires_grad=True, device=\"mps\")\n",
    "S = torch.tensor(100.0, requires_grad=True, device=\"mps\")\n",
    "T = torch.tensor(1.0, requires_grad=True, device=\"mps\")\n",
    "sigma = torch.tensor(0.40, requires_grad=True, device=\"mps\")\n",
    "r = torch.tensor(0.05, requires_grad=True, device=\"mps\")\n",
    "\n",
    "price = bs_price(right, K, S, T, sigma, r)\n",
    "print(price)"
   ]
  },
  {
   "cell_type": "code",
   "execution_count": 49,
   "metadata": {},
   "outputs": [],
   "source": [
    "d_1 = (1 / (sigma * torch.sqrt(T))) * (torch.log(S / K) + (r + (torch.square(sigma) / 2)) * T)\n",
    "d_2 = d_1 - sigma * torch.sqrt(T)\n",
    "\n",
    "delta = std_norm_cdf(d_1)\n",
    "vega = S * std_norm_pdf(d_1) * torch.sqrt(T)\n",
    "theta = ((S * std_norm_pdf(d_1) * sigma) / (2 * torch.sqrt(T))) + r * K * torch.exp(-r * T) * std_norm_cdf(d_2)\n",
    "rho = K * T * torch.exp(-r * T) * std_norm_cdf(d_2)"
   ]
  },
  {
   "cell_type": "code",
   "execution_count": 50,
   "metadata": {},
   "outputs": [
    {
     "name": "stdout",
     "output_type": "stream",
     "text": [
      "Autograd Gamma: 0.009460493922233582\n",
      "BS Gamma: 0.00946049578487873\n"
     ]
    }
   ],
   "source": [
    "S = torch.tensor(100.0, requires_grad=True)\n",
    "price = bs_price(right, K, S, T, sigma, r)\n",
    "\n",
    "delta = torch.autograd.grad(price, S, create_graph=True)[0]\n",
    "delta.backward()\n",
    "\n",
    "print(f\"Autograd Gamma: {S.grad}\")\n",
    "\n",
    "# And the direct Black-Scholes calculation\n",
    "gamma = std_norm_pdf(d_1) / (S * sigma * torch.sqrt(T))\n",
    "print(f\"BS Gamma: {gamma}\")"
   ]
  },
  {
   "cell_type": "code",
   "execution_count": 51,
   "metadata": {},
   "outputs": [
    {
     "name": "stdout",
     "output_type": "stream",
     "text": [
      "Delta: 0.6274095773696899\n",
      "Vega: 37.84197998046875\n",
      "Theta: 9.804295539855957\n",
      "Rho: 44.71799087524414\n",
      "BS Gamma: 0.00946049578487873\n"
     ]
    }
   ],
   "source": [
    "print(f\"Delta: {delta}\\nVega: {vega}\\nTheta: {theta}\\nRho: {rho}\\nBS Gamma: {gamma}\")"
   ]
  },
  {
   "cell_type": "code",
   "execution_count": 52,
   "metadata": {},
   "outputs": [],
   "source": [
    "K = torch.tensor(100.0, requires_grad=True)\n",
    "S = torch.tensor(100.0, requires_grad=True)\n",
    "T = torch.tensor(1.0, requires_grad=True)\n",
    "sigma = torch.tensor(0.40, requires_grad=True)\n",
    "r = torch.tensor(0.05, requires_grad=True)\n",
    "\n",
    "Z = torch.randn([1000000])\n",
    "# Brownian Motion\n",
    "W_T = torch.sqrt(T) * Z\n",
    "# GBM\n",
    "prices = S * torch.exp((r - 0.5 * torch.square(sigma)) * T + sigma * W_T)"
   ]
  },
  {
   "cell_type": "code",
   "execution_count": 53,
   "metadata": {},
   "outputs": [
    {
     "name": "stdout",
     "output_type": "stream",
     "text": [
      "tensor(18.0455, grad_fn=<MulBackward0>)\n"
     ]
    }
   ],
   "source": [
    "payoffs = torch.max(prices - K, torch.zeros(1000000))\n",
    "value = torch.mean(payoffs) * torch.exp(-r * T)\n",
    "print(value)\n",
    "value.backward()"
   ]
  },
  {
   "cell_type": "code",
   "execution_count": 54,
   "metadata": {},
   "outputs": [
    {
     "name": "stdout",
     "output_type": "stream",
     "text": [
      "Delta: 0.6280418038368225\n",
      "Vega: 37.91283416748047\n",
      "Theta: 9.820500373840332\n",
      "Rho: 44.7586784362793\n"
     ]
    }
   ],
   "source": [
    "print(f\"Delta: {S.grad}\\nVega: {sigma.grad}\\nTheta: {T.grad}\\nRho: {r.grad}\")\n"
   ]
  },
  {
   "cell_type": "code",
   "execution_count": 57,
   "metadata": {},
   "outputs": [],
   "source": [
    "# All the same parameters for the price process\n",
    "K = torch.tensor(100.0, requires_grad=True)\n",
    "S = torch.tensor(100.0, requires_grad=True)\n",
    "T = torch.tensor(1.0, requires_grad=True)\n",
    "sigma = torch.tensor(0.40, requires_grad=True)\n",
    "r = torch.tensor(0.05, requires_grad=True)\n",
    "\n",
    "dt = torch.tensor(1 / 252)\n",
    "Z = torch.randn([1000000, int(T * 252)])\n",
    "\n",
    "# Brownian Motion\n",
    "W_t = torch.cumsum(torch.sqrt(dt) * Z, 1)\n",
    "# GBM\n",
    "prices = S * torch.exp((r - 0.5 * torch.square(sigma)) * T + sigma * W_t)"
   ]
  },
  {
   "cell_type": "code",
   "execution_count": 58,
   "metadata": {},
   "outputs": [
    {
     "data": {
      "text/plain": [
       "tensor([[100.7104, 100.3935, 100.8341,  ..., 108.6491, 108.5782, 108.2933],\n",
       "        [100.9128, 101.1900, 101.2585,  ..., 100.8194, 101.0365, 101.2014],\n",
       "        [101.1213, 100.9249, 100.9966,  ...,  98.5784,  98.3442,  98.0231],\n",
       "        ...,\n",
       "        [100.9914, 101.2720, 101.2488,  ..., 104.3196, 104.3497, 104.5994],\n",
       "        [100.3771, 100.2005, 100.1537,  ...,  99.9048, 100.0811, 100.0502],\n",
       "        [100.9941, 100.8248, 100.5378,  ..., 108.7409, 108.6943, 108.1600]],\n",
       "       grad_fn=<MulBackward0>)"
      ]
     },
     "execution_count": 58,
     "metadata": {},
     "output_type": "execute_result"
    }
   ],
   "source": [
    "prices"
   ]
  },
  {
   "cell_type": "code",
   "execution_count": 40,
   "metadata": {},
   "outputs": [
    {
     "data": {
      "text/plain": [
       "tensor([-0.5459,  0.4634, -0.8740,  ..., -0.3667,  1.0500,  0.2378])"
      ]
     },
     "execution_count": 40,
     "metadata": {},
     "output_type": "execute_result"
    }
   ],
   "source": [
    "Z"
   ]
  },
  {
   "cell_type": "code",
   "execution_count": null,
   "metadata": {},
   "outputs": [],
   "source": []
  },
  {
   "cell_type": "code",
   "execution_count": null,
   "metadata": {},
   "outputs": [],
   "source": []
  }
 ],
 "metadata": {
  "kernelspec": {
   "display_name": "mrisk",
   "language": "python",
   "name": "python3"
  },
  "language_info": {
   "codemirror_mode": {
    "name": "ipython",
    "version": 3
   },
   "file_extension": ".py",
   "mimetype": "text/x-python",
   "name": "python",
   "nbconvert_exporter": "python",
   "pygments_lexer": "ipython3",
   "version": "3.11.4"
  },
  "orig_nbformat": 4
 },
 "nbformat": 4,
 "nbformat_minor": 2
}
